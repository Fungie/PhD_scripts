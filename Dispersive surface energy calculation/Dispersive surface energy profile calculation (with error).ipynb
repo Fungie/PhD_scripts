{
 "cells": [
  {
   "cell_type": "markdown",
   "metadata": {},
   "source": [
    "This script is for calculating the Dispersive surface energy ($\\gamma_{d}^{s}$) of a solid sample from Inverse Gas Chromatography measurements, specifically those done on the SEA (Surface energy analyser).  Measured parameters are imported from a csv file and the dispersive surface energy profile (including error and $R^{2}$ value of the fit) is shown and results are output to a different csv file."
   ]
  },
  {
   "cell_type": "code",
   "execution_count": 1,
   "metadata": {
    "collapsed": false
   },
   "outputs": [],
   "source": [
    "import pandas as pd\n",
    "from pandas import Series,DataFrame\n",
    "import numpy as np\n",
    "import matplotlib.pyplot as plt\n",
    "%matplotlib inline\n",
    "from scipy import stats,constants\n",
    "from __future__ import division"
   ]
  },
  {
   "cell_type": "markdown",
   "metadata": {},
   "source": [
    "# Input data is sorted to be usable"
   ]
  },
  {
   "cell_type": "code",
   "execution_count": 2,
   "metadata": {
    "collapsed": false
   },
   "outputs": [
    {
     "name": "stdout",
     "output_type": "stream",
     "text": [
      "Copy path to input file here \n",
      "make sure to insert extra \"\\\" and remove \"\" \n",
      "C:\\Users\\tcd\\Google Drive\\Graphene size study feb 2015\\IGC_raw_data\\Surface_energy\\big-300rpm\\run1\\big_300rpm_90C_run1.csv\n"
     ]
    }
   ],
   "source": [
    "# reads the experimental data file. note: remove other exp details\n",
    "# Change nrows and skiprows depending on amount of injections\n",
    "# skiprows skips the first x rows of csv while nrows reads the first x - 1 rows \n",
    "f = pd.read_csv(raw_input('Copy path to input file here \\nmake sure to insert extra \"\\\\\" and remove \"\" \\n'),skiprows=8,nrows=105,\n",
    "                encoding='utf-16', delimiter='\\t')"
   ]
  },
  {
   "cell_type": "code",
   "execution_count": 3,
   "metadata": {
    "collapsed": false
   },
   "outputs": [],
   "source": [
    "# Removes  columns that have all null values\n",
    "df = f.dropna(axis =1, how='all')"
   ]
  },
  {
   "cell_type": "code",
   "execution_count": 4,
   "metadata": {
    "collapsed": false
   },
   "outputs": [],
   "source": [
    "# Get rid of columns unrelated to dispersive solvents\n",
    "df.drop(df.columns[2:7],axis=1,inplace=True)"
   ]
  },
  {
   "cell_type": "code",
   "execution_count": 5,
   "metadata": {
    "collapsed": false
   },
   "outputs": [],
   "source": [
    "# Renames columns to make life easier\n",
    "df.rename(columns = {'n/nm' : 'n_nm',\n",
    "                     'Solvent Name' : 'solvent',\n",
    "                     'Interpolated Retention Volume (Max)' : 'max',\n",
    "                     'Interpolated Retention Volume (Com)' : 'com',\n",
    "                     'Column Temperature [Kelvin]': 'temperature (K)'},inplace=True)"
   ]
  },
  {
   "cell_type": "code",
   "execution_count": 6,
   "metadata": {
    "collapsed": true
   },
   "outputs": [],
   "source": [
    "# Gets rid of Specifc solvents\n",
    "# NOTE: IF MORE OR LESS OR DIFFERENT SOLVENTS USED CHANGE THIS LINE ACCORDINGLY\n",
    "df = df[(df.solvent != 'DICHLOROMETHANE') & (df.solvent != 'ETHYL ACETATE') & (df.solvent != '1,4-DIOXANE')]"
   ]
  },
  {
   "cell_type": "code",
   "execution_count": 7,
   "metadata": {
    "collapsed": false
   },
   "outputs": [],
   "source": [
    "# Dictionary for map used in next line\n",
    "solvent_map = {'NONANE': 9,\n",
    "               'OCTANE' : 8,\n",
    "               'HEPTANE' : 7,\n",
    "               'HEXANE' : 6}"
   ]
  },
  {
   "cell_type": "code",
   "execution_count": 8,
   "metadata": {
    "collapsed": true
   },
   "outputs": [],
   "source": [
    "# New columns that maps the carbon number from solvent column. Carbon number is needed for calculations\n",
    "df['carbon num'] = df['solvent'].map(solvent_map)"
   ]
  },
  {
   "cell_type": "markdown",
   "metadata": {},
   "source": [
    "# Calculations"
   ]
  },
  {
   "cell_type": "markdown",
   "metadata": {},
   "source": [
    "Gibbs Free Energy of adsorption is calculated by $\\Delta G=RT\\ln V_{n}$ ($\\frac{kJol}{Mol})$ where $V_{n}$ is the column called 'com'"
   ]
  },
  {
   "cell_type": "code",
   "execution_count": 9,
   "metadata": {
    "collapsed": false
   },
   "outputs": [],
   "source": [
    "# Import real gas const\n",
    "# RTLnVn is the Gibbs free energy of adsorption\n",
    "R= constants.R\n",
    "df['RTLnVn'] = R * df['temperature (K)'] * np.log(df['com'])"
   ]
  },
  {
   "cell_type": "code",
   "execution_count": 10,
   "metadata": {
    "collapsed": false
   },
   "outputs": [],
   "source": [
    "# Creates coverage list for the data set\n",
    "cov = df['n_nm'].unique().tolist()"
   ]
  },
  {
   "cell_type": "code",
   "execution_count": 11,
   "metadata": {
    "collapsed": false
   },
   "outputs": [],
   "source": [
    "# List where each element corresponds to part of dataframe with coverage value\n",
    "cov_sep_list = [df.loc[df.n_nm == i] for i in cov]"
   ]
  },
  {
   "cell_type": "code",
   "execution_count": 12,
   "metadata": {
    "collapsed": false
   },
   "outputs": [],
   "source": [
    "# Linear Regression on Gibbs free energy of adsorption vs carbon number\n",
    "# result is list of tuples containing slope, standard error of slope, r_value etc in a list of tuples\n",
    "result = [stats.linregress(df['carbon num'],df['RTLnVn']) for df in cov_sep_list]"
   ]
  },
  {
   "cell_type": "code",
   "execution_count": 13,
   "metadata": {
    "collapsed": false
   },
   "outputs": [],
   "source": [
    "# Unzips list of tuples to individual tuples\n",
    "slopes, intercepts,r_values,p_values,std_errs = zip(*result)"
   ]
  },
  {
   "cell_type": "code",
   "execution_count": 14,
   "metadata": {
    "collapsed": false
   },
   "outputs": [],
   "source": [
    "# turns tuples to numpy arrays for calculations\n",
    "slopes = np.array(slopes)"
   ]
  },
  {
   "cell_type": "code",
   "execution_count": 15,
   "metadata": {
    "collapsed": false
   },
   "outputs": [],
   "source": [
    "r_values = np.array(r_values)\n",
    "std_errs = np.array(std_errs)"
   ]
  },
  {
   "cell_type": "code",
   "execution_count": 16,
   "metadata": {
    "collapsed": false
   },
   "outputs": [],
   "source": [
    "# Computes R^2 of linear fit\n",
    "r_sq_arr = r_values ** 2"
   ]
  },
  {
   "cell_type": "code",
   "execution_count": 17,
   "metadata": {
    "collapsed": false
   },
   "outputs": [],
   "source": [
    "# values used in surface energy equation (Dorris-Gray)\n",
    "# T = experiment temperature, y_ch2 = dispersive surface energy of methylene group\n",
    "# a_ch2 = cross sectional surface area of methylene group\n",
    "\n",
    "T = f['Column Temperature [Kelvin]'].mean()\n",
    "y_ch2 = 35.6 + 0.058 * (293 - T)\n",
    "y_ch2 = y_ch2 / 1000\n",
    "Na = constants.Avogadro\n",
    "a_ch2 = 6E-20"
   ]
  },
  {
   "cell_type": "markdown",
   "metadata": {},
   "source": [
    "Dorris-Gray equation for the calculation of the dispersive surface energy ($\\gamma_{d}^{s}$) of a solvent, $unit=\\frac{mJ}{m^{2}}$\n",
    "\n",
    "$$\\gamma_{d}^{s}=\\frac{1}{4\\gamma_{d}^{CH2}}\\left(\\frac{RT.ln\\left[\\frac{V_{N,n+1}}{V_{N,n}}\\right]}{N_{a}a_{CH2}}\\right)^{2}$$\n",
    "\n",
    "$$\\gamma_{d}^{s}=\\frac{1}{4\\gamma_{d}^{CH2}}\\left(\\frac{slope}{N_{a}a_{CH2}}\\right)^{2}$$"
   ]
  },
  {
   "cell_type": "code",
   "execution_count": 18,
   "metadata": {
    "collapsed": true
   },
   "outputs": [],
   "source": [
    "# Dorris-Gray equation for dispersive surface energy\n",
    "y_d = (1/(4 * y_ch2)) * (slopes/(Na * a_ch2)) ** 2"
   ]
  },
  {
   "cell_type": "code",
   "execution_count": 19,
   "metadata": {
    "collapsed": false
   },
   "outputs": [],
   "source": [
    "# Converts from J/m^2 to mJ/m^2\n",
    "y_d = y_d * 1000"
   ]
  },
  {
   "cell_type": "code",
   "execution_count": 20,
   "metadata": {
    "collapsed": true
   },
   "outputs": [],
   "source": [
    "# Calculates error in y_d from standard error in slope of fitting\n",
    "y_d_err = (y_d * 2 * std_errs) / slopes"
   ]
  },
  {
   "cell_type": "markdown",
   "metadata": {},
   "source": [
    "# Output and plotting of $\\gamma_{d}^{s}$ profile"
   ]
  },
  {
   "cell_type": "code",
   "execution_count": 21,
   "metadata": {
    "collapsed": false
   },
   "outputs": [
    {
     "data": {
      "text/html": [
       "<div>\n",
       "<table border=\"1\" class=\"dataframe\">\n",
       "  <thead>\n",
       "    <tr style=\"text-align: right;\">\n",
       "      <th></th>\n",
       "      <th>Dispersive Surface Energy (COM)</th>\n",
       "      <th>Error</th>\n",
       "      <th>R Square</th>\n",
       "    </tr>\n",
       "    <tr>\n",
       "      <th>Coverage</th>\n",
       "      <th></th>\n",
       "      <th></th>\n",
       "      <th></th>\n",
       "    </tr>\n",
       "  </thead>\n",
       "  <tbody>\n",
       "    <tr>\n",
       "      <th>0.0075</th>\n",
       "      <td>138.620168</td>\n",
       "      <td>14.537374</td>\n",
       "      <td>0.994531</td>\n",
       "    </tr>\n",
       "    <tr>\n",
       "      <th>0.0100</th>\n",
       "      <td>138.670036</td>\n",
       "      <td>16.157550</td>\n",
       "      <td>0.993258</td>\n",
       "    </tr>\n",
       "    <tr>\n",
       "      <th>0.0200</th>\n",
       "      <td>131.578861</td>\n",
       "      <td>14.076444</td>\n",
       "      <td>0.994310</td>\n",
       "    </tr>\n",
       "    <tr>\n",
       "      <th>0.0300</th>\n",
       "      <td>123.371754</td>\n",
       "      <td>10.934995</td>\n",
       "      <td>0.996087</td>\n",
       "    </tr>\n",
       "    <tr>\n",
       "      <th>0.0500</th>\n",
       "      <td>105.508754</td>\n",
       "      <td>2.957473</td>\n",
       "      <td>0.999607</td>\n",
       "    </tr>\n",
       "    <tr>\n",
       "      <th>0.0700</th>\n",
       "      <td>97.840673</td>\n",
       "      <td>0.972710</td>\n",
       "      <td>0.999951</td>\n",
       "    </tr>\n",
       "    <tr>\n",
       "      <th>0.0900</th>\n",
       "      <td>89.146827</td>\n",
       "      <td>1.605556</td>\n",
       "      <td>0.999838</td>\n",
       "    </tr>\n",
       "    <tr>\n",
       "      <th>0.1000</th>\n",
       "      <td>87.054689</td>\n",
       "      <td>1.542558</td>\n",
       "      <td>0.999843</td>\n",
       "    </tr>\n",
       "    <tr>\n",
       "      <th>0.1300</th>\n",
       "      <td>79.132716</td>\n",
       "      <td>0.680013</td>\n",
       "      <td>0.999963</td>\n",
       "    </tr>\n",
       "    <tr>\n",
       "      <th>0.1500</th>\n",
       "      <td>74.087319</td>\n",
       "      <td>0.936856</td>\n",
       "      <td>0.999920</td>\n",
       "    </tr>\n",
       "    <tr>\n",
       "      <th>0.2000</th>\n",
       "      <td>61.856770</td>\n",
       "      <td>5.425355</td>\n",
       "      <td>0.996168</td>\n",
       "    </tr>\n",
       "    <tr>\n",
       "      <th>0.2500</th>\n",
       "      <td>62.821988</td>\n",
       "      <td>5.232246</td>\n",
       "      <td>0.996544</td>\n",
       "    </tr>\n",
       "    <tr>\n",
       "      <th>0.3000</th>\n",
       "      <td>62.260174</td>\n",
       "      <td>5.813529</td>\n",
       "      <td>0.995659</td>\n",
       "    </tr>\n",
       "    <tr>\n",
       "      <th>0.3500</th>\n",
       "      <td>59.954758</td>\n",
       "      <td>6.785160</td>\n",
       "      <td>0.993637</td>\n",
       "    </tr>\n",
       "    <tr>\n",
       "      <th>0.4000</th>\n",
       "      <td>60.788291</td>\n",
       "      <td>9.933826</td>\n",
       "      <td>0.986823</td>\n",
       "    </tr>\n",
       "  </tbody>\n",
       "</table>\n",
       "</div>"
      ],
      "text/plain": [
       "          Dispersive Surface Energy (COM)      Error  R Square\n",
       "Coverage                                                      \n",
       "0.0075                         138.620168  14.537374  0.994531\n",
       "0.0100                         138.670036  16.157550  0.993258\n",
       "0.0200                         131.578861  14.076444  0.994310\n",
       "0.0300                         123.371754  10.934995  0.996087\n",
       "0.0500                         105.508754   2.957473  0.999607\n",
       "0.0700                          97.840673   0.972710  0.999951\n",
       "0.0900                          89.146827   1.605556  0.999838\n",
       "0.1000                          87.054689   1.542558  0.999843\n",
       "0.1300                          79.132716   0.680013  0.999963\n",
       "0.1500                          74.087319   0.936856  0.999920\n",
       "0.2000                          61.856770   5.425355  0.996168\n",
       "0.2500                          62.821988   5.232246  0.996544\n",
       "0.3000                          62.260174   5.813529  0.995659\n",
       "0.3500                          59.954758   6.785160  0.993637\n",
       "0.4000                          60.788291   9.933826  0.986823"
      ]
     },
     "execution_count": 21,
     "metadata": {},
     "output_type": "execute_result"
    }
   ],
   "source": [
    "# Creates dataframe of results with coverage used as index\n",
    "results_df = DataFrame({'Coverage' : cov,\n",
    "                       'Dispersive Surface Energy (COM)' : y_d,\n",
    "                       'Error': y_d_err,\n",
    "                       'R Square' : r_sq_arr},)\n",
    "results_df.set_index(keys = 'Coverage',inplace=True)\n",
    "results_df"
   ]
  },
  {
   "cell_type": "code",
   "execution_count": 22,
   "metadata": {
    "collapsed": false
   },
   "outputs": [
    {
     "name": "stdout",
     "output_type": "stream",
     "text": [
      "copy output directory you want and put .csv after \n",
      "C:\\Users\\tcd\\Google Drive\\Graphene size study feb 2015\\IGC_raw_data\\Surface_energy\\big-300rpm\\run1\\results.csv\n"
     ]
    }
   ],
   "source": [
    "# Exports results to a csv name of your choosing\n",
    "results_df.to_csv(raw_input('copy output directory you want and put .csv after \\n'))"
   ]
  },
  {
   "cell_type": "code",
   "execution_count": 23,
   "metadata": {
    "collapsed": false
   },
   "outputs": [
    {
     "data": {
      "text/plain": [
       "<matplotlib.text.Text at 0x1d451ac8>"
      ]
     },
     "execution_count": 23,
     "metadata": {},
     "output_type": "execute_result"
    },
    {
     "name": "stderr",
     "output_type": "stream",
     "text": [
      "C:\\Users\\tcd\\Anaconda2\\lib\\site-packages\\matplotlib\\collections.py:590: FutureWarning: elementwise comparison failed; returning scalar instead, but in the future will perform elementwise comparison\n",
      "  if self._edgecolors == str('face'):\n"
     ]
    },
    {
     "data": {
      "image/png": "[encoded data removed]",
      "text/plain": [
       "<matplotlib.figure.Figure at 0x1d392160>"
      ]
     },
     "metadata": {},
     "output_type": "display_data"
    }
   ],
   "source": [
    "# Plots dispersive surface energy profile with error bars\n",
    "plt.scatter(cov,y_d)\n",
    "plt.errorbar(cov, y_d,yerr=y_d_err,linestyle = 'None')\n",
    "plt.title('Dispersive Surface Energy Profile')\n",
    "plt.xlabel('Surface Coverage')\n",
    "plt.ylabel('Dispersive Surface Energy (mJ/m^2)')"
   ]
  },
  {
   "cell_type": "code",
   "execution_count": null,
   "metadata": {
    "collapsed": true
   },
   "outputs": [],
   "source": []
  }
 ],
 "metadata": {
  "kernelspec": {
   "display_name": "Python 2",
   "language": "python",
   "name": "python2"
  },
  "language_info": {
   "codemirror_mode": {
    "name": "ipython",
    "version": 2
   },
   "file_extension": ".py",
   "mimetype": "text/x-python",
   "name": "python",
   "nbconvert_exporter": "python",
   "pygments_lexer": "ipython2",
   "version": "2.7.11"
  }
 },
 "nbformat": 4,
 "nbformat_minor": 0
}
