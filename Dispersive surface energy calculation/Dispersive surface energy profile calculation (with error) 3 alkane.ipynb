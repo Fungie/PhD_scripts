{
 "cells": [
  {
   "cell_type": "markdown",
   "metadata": {},
   "source": [
    "This script is for calculating the Dispersive surface energy ($\\gamma_{d}^{s}$) of a solid sample from Inverse Gas Chromatography measurements, specifically those done on the SEA (Surface energy analyser).  Measured parameters are imported from a csv file and the dispersive surface energy profile (including error and $R^{2}$ value of the fit) is shown and results are output to a different csv file."
   ]
  },
  {
   "cell_type": "code",
   "execution_count": 1,
   "metadata": {
    "collapsed": false
   },
   "outputs": [],
   "source": [
    "import pandas as pd\n",
    "from pandas import Series,DataFrame\n",
    "import numpy as np\n",
    "import matplotlib.pyplot as plt\n",
    "%matplotlib inline\n",
    "from scipy import stats,constants\n",
    "from __future__ import division"
   ]
  },
  {
   "cell_type": "markdown",
   "metadata": {},
   "source": [
    "# Input data is sorted to be usable"
   ]
  },
  {
   "cell_type": "code",
   "execution_count": 2,
   "metadata": {
    "collapsed": false
   },
   "outputs": [
    {
     "name": "stdout",
     "output_type": "stream",
     "text": [
      "Copy path to input file here \n",
      "make sure to insert extra \"\\\" and remove \"\" \n",
      "C:\\\\Users\\tcd\\\\Google Drive\\\\Combined graphene study 20 may 2016\\\\IGC\\\\Energy\\\\5000rpm+\\\\Feb\\\\5000rpm+_feb_column_run_May_90C.csv\n"
     ]
    }
   ],
   "source": [
    "# reads the experimental data file. note: remove other exp details\n",
    "# Change nrows and skiprows depending on amount of injections\n",
    "# skiprows skips the first x rows of csv while nrows reads the first x - 1 rows \n",
    "f = pd.read_csv(raw_input('Copy path to input file here \\nmake sure to insert extra \"\\\\\" and remove \"\" \\n'),skiprows=8,nrows=110,\n",
    "                encoding='utf-16', delimiter='\\t')\n"
   ]
  },
  {
   "cell_type": "code",
   "execution_count": 3,
   "metadata": {
    "collapsed": false
   },
   "outputs": [],
   "source": [
    "# Removes  columns that have all null values\n",
    "df = f.dropna(axis =1, how='all')"
   ]
  },
  {
   "cell_type": "code",
   "execution_count": 4,
   "metadata": {
    "collapsed": false
   },
   "outputs": [],
   "source": [
    "# Get rid of columns unrelated to dispersive solvents\n",
    "df.drop(df.columns[2:7],axis=1,inplace=True)"
   ]
  },
  {
   "cell_type": "code",
   "execution_count": 5,
   "metadata": {
    "collapsed": false
   },
   "outputs": [],
   "source": [
    "# Renames columns to make life easier\n",
    "df.rename(columns = {'n/nm' : 'n_nm',\n",
    "                     'Solvent Name' : 'solvent',\n",
    "                     'Interpolated Retention Volume (Max)' : 'max',\n",
    "                     'Interpolated Retention Volume (Com)' : 'com',\n",
    "                     'Column Temperature [Kelvin]': 'temperature (K)'},inplace=True)"
   ]
  },
  {
   "cell_type": "code",
   "execution_count": 6,
   "metadata": {
    "collapsed": false
   },
   "outputs": [],
   "source": [
    "# Gets rid of Specifc solvents\n",
    "# NOTE: IF MORE OR LESS OR DIFFERENT SOLVENTS USED CHANGE THIS LINE ACCORDINGLY\n",
    "df = df[(df.solvent != 'DICHLOROMETHANE') & (df.solvent != 'ETHYL ACETATE') & (df.solvent != '1,4-DIOXANE')]"
   ]
  },
  {
   "cell_type": "code",
   "execution_count": 7,
   "metadata": {
    "collapsed": false
   },
   "outputs": [],
   "source": [
    "# Dictionary for map used in next line\n",
    "solvent_map = {'NONANE': 9,\n",
    "               'OCTANE' : 8,\n",
    "               'HEPTANE' : 7,\n",
    "               'HEXANE' : 6}"
   ]
  },
  {
   "cell_type": "code",
   "execution_count": 8,
   "metadata": {
    "collapsed": false
   },
   "outputs": [],
   "source": [
    "# New columns that maps the carbon number from solvent column. Carbon number is needed for calculations\n",
    "df['carbon num'] = df['solvent'].map(solvent_map)\n"
   ]
  },
  {
   "cell_type": "markdown",
   "metadata": {},
   "source": [
    "# Calculations"
   ]
  },
  {
   "cell_type": "markdown",
   "metadata": {},
   "source": [
    "Gibbs Free Energy of adsorption is calculated by $\\Delta G=RT\\ln V_{n}$ ($\\frac{kJol}{Mol})$ where $V_{n}$ is the column called 'com'"
   ]
  },
  {
   "cell_type": "code",
   "execution_count": 9,
   "metadata": {
    "collapsed": false
   },
   "outputs": [],
   "source": [
    "# Import real gas const\n",
    "# RTLnVn is the Gibbs free energy of adsorption\n",
    "R= constants.R\n",
    "df['RTLnVn'] = R * df['temperature (K)'] * np.log(df['com'])"
   ]
  },
  {
   "cell_type": "code",
   "execution_count": 10,
   "metadata": {
    "collapsed": false
   },
   "outputs": [],
   "source": [
    "# Creates coverage list for the data set\n",
    "cov = df['n_nm'].unique().tolist()"
   ]
  },
  {
   "cell_type": "code",
   "execution_count": 11,
   "metadata": {
    "collapsed": false
   },
   "outputs": [],
   "source": [
    "# List where each element corresponds to part of dataframe with coverage value\n",
    "cov_sep_list = [df.loc[df.n_nm == i] for i in cov]"
   ]
  },
  {
   "cell_type": "code",
   "execution_count": 12,
   "metadata": {
    "collapsed": false
   },
   "outputs": [],
   "source": [
    "# Linear Regression on Gibbs free energy of adsorption vs carbon number\n",
    "# result is list of tuples containing slope, standard error of slope, r_value etc in a list of tuples\n",
    "result = [stats.linregress(df['carbon num'],df['RTLnVn']) for df in cov_sep_list]"
   ]
  },
  {
   "cell_type": "code",
   "execution_count": 13,
   "metadata": {
    "collapsed": false
   },
   "outputs": [],
   "source": [
    "# Unzips list of tuples to individual tuples\n",
    "slopes, intercepts,r_values,p_values,std_errs = zip(*result)"
   ]
  },
  {
   "cell_type": "code",
   "execution_count": 14,
   "metadata": {
    "collapsed": false
   },
   "outputs": [],
   "source": [
    "# turns tuples to numpy arrays for calculations\n",
    "slopes = np.array(slopes)"
   ]
  },
  {
   "cell_type": "code",
   "execution_count": 15,
   "metadata": {
    "collapsed": false
   },
   "outputs": [],
   "source": [
    "r_values = np.array(r_values)\n",
    "std_errs = np.array(std_errs)"
   ]
  },
  {
   "cell_type": "code",
   "execution_count": 16,
   "metadata": {
    "collapsed": false
   },
   "outputs": [],
   "source": [
    "# Computes R^2 of linear fit\n",
    "r_sq_arr = r_values ** 2"
   ]
  },
  {
   "cell_type": "code",
   "execution_count": 17,
   "metadata": {
    "collapsed": false
   },
   "outputs": [],
   "source": [
    "# values used in surface energy equation (Dorris-Gray)\n",
    "# T = experiment temperature, y_ch2 = dispersive surface energy of methylene group\n",
    "# a_ch2 = cross sectional surface area of methylene group\n",
    "\n",
    "T = f['Column Temperature [Kelvin]'].mean()\n",
    "y_ch2 = 35.6 + 0.058 * (293 - T)\n",
    "y_ch2 = y_ch2 / 1000\n",
    "Na = constants.Avogadro\n",
    "a_ch2 = 6E-20"
   ]
  },
  {
   "cell_type": "markdown",
   "metadata": {},
   "source": [
    "Dorris-Gray equation for the calculation of the dispersive surface energy ($\\gamma_{d}^{s}$) of a solvent, $unit=\\frac{mJ}{m^{2}}$\n",
    "\n",
    "$$\\gamma_{d}^{s}=\\frac{1}{4\\gamma_{d}^{CH2}}\\left(\\frac{RT.ln\\left[\\frac{V_{N,n+1}}{V_{N,n}}\\right]}{N_{a}a_{CH2}}\\right)^{2}$$\n",
    "\n",
    "$$\\gamma_{d}^{s}=\\frac{1}{4\\gamma_{d}^{CH2}}\\left(\\frac{slope}{N_{a}a_{CH2}}\\right)^{2}$$"
   ]
  },
  {
   "cell_type": "code",
   "execution_count": 18,
   "metadata": {
    "collapsed": true
   },
   "outputs": [],
   "source": [
    "# Dorris-Gray equation for dispersive surface energy\n",
    "y_d = (1/(4 * y_ch2)) * (slopes/(Na * a_ch2)) ** 2"
   ]
  },
  {
   "cell_type": "code",
   "execution_count": 19,
   "metadata": {
    "collapsed": false
   },
   "outputs": [],
   "source": [
    "# Converts from J/m^2 to mJ/m^2\n",
    "y_d = y_d * 1000"
   ]
  },
  {
   "cell_type": "code",
   "execution_count": 20,
   "metadata": {
    "collapsed": true
   },
   "outputs": [],
   "source": [
    "# Calculates error in y_d from standard error in slope of fitting\n",
    "y_d_err = (y_d * 2 * std_errs) / slopes"
   ]
  },
  {
   "cell_type": "markdown",
   "metadata": {},
   "source": [
    "# Output and plotting of $\\gamma_{d}^{s}$ profile"
   ]
  },
  {
   "cell_type": "code",
   "execution_count": 21,
   "metadata": {
    "collapsed": false
   },
   "outputs": [
    {
     "data": {
      "text/html": [
       "<div>\n",
       "<table border=\"1\" class=\"dataframe\">\n",
       "  <thead>\n",
       "    <tr style=\"text-align: right;\">\n",
       "      <th></th>\n",
       "      <th>Dispersive Surface Energy (COM)</th>\n",
       "      <th>Error</th>\n",
       "      <th>R Square</th>\n",
       "    </tr>\n",
       "    <tr>\n",
       "      <th>Coverage</th>\n",
       "      <th></th>\n",
       "      <th></th>\n",
       "      <th></th>\n",
       "    </tr>\n",
       "  </thead>\n",
       "  <tbody>\n",
       "    <tr>\n",
       "      <th>0.0075</th>\n",
       "      <td>118.426574</td>\n",
       "      <td>0.903075</td>\n",
       "      <td>0.999985</td>\n",
       "    </tr>\n",
       "    <tr>\n",
       "      <th>0.0100</th>\n",
       "      <td>117.595541</td>\n",
       "      <td>0.951836</td>\n",
       "      <td>0.999984</td>\n",
       "    </tr>\n",
       "    <tr>\n",
       "      <th>0.0200</th>\n",
       "      <td>114.592843</td>\n",
       "      <td>4.514086</td>\n",
       "      <td>0.999612</td>\n",
       "    </tr>\n",
       "    <tr>\n",
       "      <th>0.0300</th>\n",
       "      <td>110.155037</td>\n",
       "      <td>0.578440</td>\n",
       "      <td>0.999993</td>\n",
       "    </tr>\n",
       "    <tr>\n",
       "      <th>0.0500</th>\n",
       "      <td>105.556071</td>\n",
       "      <td>1.585946</td>\n",
       "      <td>0.999944</td>\n",
       "    </tr>\n",
       "    <tr>\n",
       "      <th>0.0700</th>\n",
       "      <td>100.326402</td>\n",
       "      <td>2.653007</td>\n",
       "      <td>0.999825</td>\n",
       "    </tr>\n",
       "    <tr>\n",
       "      <th>0.0900</th>\n",
       "      <td>99.089120</td>\n",
       "      <td>5.568840</td>\n",
       "      <td>0.999211</td>\n",
       "    </tr>\n",
       "    <tr>\n",
       "      <th>0.1000</th>\n",
       "      <td>98.352071</td>\n",
       "      <td>6.068017</td>\n",
       "      <td>0.999049</td>\n",
       "    </tr>\n",
       "    <tr>\n",
       "      <th>0.1300</th>\n",
       "      <td>92.947560</td>\n",
       "      <td>5.840658</td>\n",
       "      <td>0.999014</td>\n",
       "    </tr>\n",
       "    <tr>\n",
       "      <th>0.1500</th>\n",
       "      <td>91.046766</td>\n",
       "      <td>6.018164</td>\n",
       "      <td>0.998909</td>\n",
       "    </tr>\n",
       "    <tr>\n",
       "      <th>0.2000</th>\n",
       "      <td>86.345372</td>\n",
       "      <td>4.110445</td>\n",
       "      <td>0.999434</td>\n",
       "    </tr>\n",
       "    <tr>\n",
       "      <th>0.2200</th>\n",
       "      <td>84.796040</td>\n",
       "      <td>4.533964</td>\n",
       "      <td>0.999286</td>\n",
       "    </tr>\n",
       "    <tr>\n",
       "      <th>0.2500</th>\n",
       "      <td>80.052793</td>\n",
       "      <td>6.453731</td>\n",
       "      <td>0.998378</td>\n",
       "    </tr>\n",
       "    <tr>\n",
       "      <th>0.3000</th>\n",
       "      <td>73.484192</td>\n",
       "      <td>5.994711</td>\n",
       "      <td>0.998339</td>\n",
       "    </tr>\n",
       "    <tr>\n",
       "      <th>0.3500</th>\n",
       "      <td>70.742072</td>\n",
       "      <td>5.815628</td>\n",
       "      <td>0.998313</td>\n",
       "    </tr>\n",
       "    <tr>\n",
       "      <th>0.4000</th>\n",
       "      <td>65.986130</td>\n",
       "      <td>3.138229</td>\n",
       "      <td>0.999435</td>\n",
       "    </tr>\n",
       "    <tr>\n",
       "      <th>0.4200</th>\n",
       "      <td>63.519777</td>\n",
       "      <td>1.806544</td>\n",
       "      <td>0.999798</td>\n",
       "    </tr>\n",
       "    <tr>\n",
       "      <th>0.4500</th>\n",
       "      <td>61.358286</td>\n",
       "      <td>0.946411</td>\n",
       "      <td>0.999941</td>\n",
       "    </tr>\n",
       "    <tr>\n",
       "      <th>0.5000</th>\n",
       "      <td>66.564690</td>\n",
       "      <td>4.191869</td>\n",
       "      <td>0.999010</td>\n",
       "    </tr>\n",
       "    <tr>\n",
       "      <th>0.5500</th>\n",
       "      <td>70.734410</td>\n",
       "      <td>7.931120</td>\n",
       "      <td>0.996867</td>\n",
       "    </tr>\n",
       "    <tr>\n",
       "      <th>0.6000</th>\n",
       "      <td>75.570823</td>\n",
       "      <td>12.120839</td>\n",
       "      <td>0.993610</td>\n",
       "    </tr>\n",
       "    <tr>\n",
       "      <th>0.6100</th>\n",
       "      <td>76.846894</td>\n",
       "      <td>12.691469</td>\n",
       "      <td>0.993227</td>\n",
       "    </tr>\n",
       "  </tbody>\n",
       "</table>\n",
       "</div>"
      ],
      "text/plain": [
       "          Dispersive Surface Energy (COM)      Error  R Square\n",
       "Coverage                                                      \n",
       "0.0075                         118.426574   0.903075  0.999985\n",
       "0.0100                         117.595541   0.951836  0.999984\n",
       "0.0200                         114.592843   4.514086  0.999612\n",
       "0.0300                         110.155037   0.578440  0.999993\n",
       "0.0500                         105.556071   1.585946  0.999944\n",
       "0.0700                         100.326402   2.653007  0.999825\n",
       "0.0900                          99.089120   5.568840  0.999211\n",
       "0.1000                          98.352071   6.068017  0.999049\n",
       "0.1300                          92.947560   5.840658  0.999014\n",
       "0.1500                          91.046766   6.018164  0.998909\n",
       "0.2000                          86.345372   4.110445  0.999434\n",
       "0.2200                          84.796040   4.533964  0.999286\n",
       "0.2500                          80.052793   6.453731  0.998378\n",
       "0.3000                          73.484192   5.994711  0.998339\n",
       "0.3500                          70.742072   5.815628  0.998313\n",
       "0.4000                          65.986130   3.138229  0.999435\n",
       "0.4200                          63.519777   1.806544  0.999798\n",
       "0.4500                          61.358286   0.946411  0.999941\n",
       "0.5000                          66.564690   4.191869  0.999010\n",
       "0.5500                          70.734410   7.931120  0.996867\n",
       "0.6000                          75.570823  12.120839  0.993610\n",
       "0.6100                          76.846894  12.691469  0.993227"
      ]
     },
     "execution_count": 21,
     "metadata": {},
     "output_type": "execute_result"
    }
   ],
   "source": [
    "# Creates dataframe of results with coverage used as index\n",
    "results_df = DataFrame({'Coverage' : cov,\n",
    "                       'Dispersive Surface Energy (COM)' : y_d,\n",
    "                       'Error': y_d_err,\n",
    "                       'R Square' : r_sq_arr},)\n",
    "results_df.set_index(keys = 'Coverage',inplace=True)\n",
    "results_df"
   ]
  },
  {
   "cell_type": "code",
   "execution_count": 22,
   "metadata": {
    "collapsed": false
   },
   "outputs": [
    {
     "name": "stdout",
     "output_type": "stream",
     "text": [
      "copy output directory you want and put .csv after \n",
      "C:\\\\Users\\tcd\\\\Google Drive\\\\Combined graphene study 20 may 2016\\\\IGC\\\\Energy\\\\5000rpm+\\\\Feb\\\\results.csv\n"
     ]
    }
   ],
   "source": [
    "# Exports results to a csv name of your choosing\n",
    "results_df.to_csv(raw_input('copy output directory you want and put .csv after \\n'))"
   ]
  },
  {
   "cell_type": "code",
   "execution_count": 23,
   "metadata": {
    "collapsed": false
   },
   "outputs": [
    {
     "name": "stderr",
     "output_type": "stream",
     "text": [
      "C:\\Users\\tcd\\Anaconda2\\lib\\site-packages\\matplotlib\\collections.py:590: FutureWarning: elementwise comparison failed; returning scalar instead, but in the future will perform elementwise comparison\n",
      "  if self._edgecolors == str('face'):\n"
     ]
    },
    {
     "data": {
      "image/png": "[encoded data removed]",
      "text/plain": [
       "<matplotlib.figure.Figure at 0x1d418358>"
      ]
     },
     "metadata": {},
     "output_type": "display_data"
    }
   ],
   "source": [
    "# Plots dispersive surface energy profile with error bars\n",
    "plt.scatter(cov,y_d,label= 'Dispersive surface energy',c='k',marker='s')\n",
    "plt.errorbar(cov, y_d,yerr=y_d_err,linestyle = 'None',c='k')\n",
    "plt.title('Dispersive Surface Energy Profile')\n",
    "plt.ylabel(r'$\\gamma_{d}$ $(mJ/m^{2})$')\n",
    "plt.xlabel(r'surface coverage $(\\phi$)')\n",
    "plt.rcParams.update({'font.size': 16})"
   ]
  },
  {
   "cell_type": "code",
   "execution_count": null,
   "metadata": {
    "collapsed": true
   },
   "outputs": [],
   "source": []
  }
 ],
 "metadata": {
  "kernelspec": {
   "display_name": "Python 2",
   "language": "python",
   "name": "python2"
  },
  "language_info": {
   "codemirror_mode": {
    "name": "ipython",
    "version": 2
   },
   "file_extension": ".py",
   "mimetype": "text/x-python",
   "name": "python",
   "nbconvert_exporter": "python",
   "pygments_lexer": "ipython2",
   "version": "2.7.11"
  }
 },
 "nbformat": 4,
 "nbformat_minor": 0
}
