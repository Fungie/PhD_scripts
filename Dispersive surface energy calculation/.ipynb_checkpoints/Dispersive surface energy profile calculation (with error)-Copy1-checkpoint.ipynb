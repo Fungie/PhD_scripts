{
 "cells": [
  {
   "cell_type": "markdown",
   "metadata": {},
   "source": [
    "This script is for calculating the Dispersive surface energy ($\\gamma_{d}^{s}$) of a solid sample from Inverse Gas Chromatography measurements, specifically those done on the SEA (Surface energy analyser).  Measured parameters are imported from a csv file and the dispersive surface energy profile (including error and $R^{2}$ value of the fit) is shown and results are output to a different csv file."
   ]
  },
  {
   "cell_type": "code",
   "execution_count": null,
   "metadata": {
    "collapsed": false
   },
   "outputs": [],
   "source": [
    "import pandas as pd\n",
    "from pandas import Series,DataFrame\n",
    "import numpy as np\n",
    "import matplotlib.pyplot as plt\n",
    "%matplotlib inline\n",
    "from scipy import stats,constants\n",
    "from __future__ import division"
   ]
  },
  {
   "cell_type": "markdown",
   "metadata": {},
   "source": [
    "# Input data is sorted to be usable"
   ]
  },
  {
   "cell_type": "code",
   "execution_count": null,
   "metadata": {
    "collapsed": false
   },
   "outputs": [],
   "source": [
    "# reads the experimental data file. note: remove other exp details\n",
    "# Change nrows and skiprows depending on amount of injections\n",
    "# skiprows skips the first x rows of csv while nrows reads the first x - 1 rows \n",
    "f = pd.read_csv(raw_input('Copy path to input file here \\nmake sure to insert extra \"\\\\\" and remove \"\" \\n'),skiprows=8,nrows=105,\n",
    "                encoding='utf-16', delimiter='\\t')"
   ]
  },
  {
   "cell_type": "code",
   "execution_count": null,
   "metadata": {
    "collapsed": false
   },
   "outputs": [],
   "source": [
    "# Removes  columns that have all null values\n",
    "df = f.dropna(axis =1, how='all')"
   ]
  },
  {
   "cell_type": "code",
   "execution_count": null,
   "metadata": {
    "collapsed": false
   },
   "outputs": [],
   "source": [
    "# Get rid of columns unrelated to dispersive solvents\n",
    "df.drop(df.columns[2:7],axis=1,inplace=True)"
   ]
  },
  {
   "cell_type": "code",
   "execution_count": null,
   "metadata": {
    "collapsed": false
   },
   "outputs": [],
   "source": [
    "# Renames columns to make life easier\n",
    "df.rename(columns = {'n/nm' : 'n_nm',\n",
    "                     'Solvent Name' : 'solvent',\n",
    "                     'Interpolated Retention Volume (Max)' : 'max',\n",
    "                     'Interpolated Retention Volume (Com)' : 'com',\n",
    "                     'Column Temperature [Kelvin]': 'temperature (K)'},inplace=True)"
   ]
  },
  {
   "cell_type": "code",
   "execution_count": null,
   "metadata": {
    "collapsed": true
   },
   "outputs": [],
   "source": [
    "# Gets rid of Specifc solvents\n",
    "# NOTE: IF MORE OR LESS OR DIFFERENT SOLVENTS USED CHANGE THIS LINE ACCORDINGLY\n",
    "df = df[(df.solvent != 'DICHLOROMETHANE') & (df.solvent != 'ETHYL ACETATE') & (df.solvent != '1,4-DIOXANE')]"
   ]
  },
  {
   "cell_type": "code",
   "execution_count": null,
   "metadata": {
    "collapsed": false
   },
   "outputs": [],
   "source": [
    "# Dictionary for map used in next line\n",
    "solvent_map = {'NONANE': 9,\n",
    "               'OCTANE' : 8,\n",
    "               'HEPTANE' : 7,\n",
    "               'HEXANE' : 6}"
   ]
  },
  {
   "cell_type": "code",
   "execution_count": null,
   "metadata": {
    "collapsed": true
   },
   "outputs": [],
   "source": [
    "# New columns that maps the carbon number from solvent column. Carbon number is needed for calculations\n",
    "df['carbon num'] = df['solvent'].map(solvent_map)"
   ]
  },
  {
   "cell_type": "markdown",
   "metadata": {},
   "source": [
    "# Calculations"
   ]
  },
  {
   "cell_type": "markdown",
   "metadata": {},
   "source": [
    "Gibbs Free Energy of adsorption is calculated by $\\Delta G=RT\\ln V_{n}$ ($\\frac{kJol}{Mol})$ where $V_{n}$ is the column called 'com'"
   ]
  },
  {
   "cell_type": "code",
   "execution_count": null,
   "metadata": {
    "collapsed": false
   },
   "outputs": [],
   "source": [
    "# Import real gas const\n",
    "# RTLnVn is the Gibbs free energy of adsorption\n",
    "R= constants.R\n",
    "df['RTLnVn'] = R * df['temperature (K)'] * np.log(df['com'])"
   ]
  },
  {
   "cell_type": "code",
   "execution_count": null,
   "metadata": {
    "collapsed": false
   },
   "outputs": [],
   "source": [
    "# Creates coverage list for the data set\n",
    "cov = df['n_nm'].unique().tolist()"
   ]
  },
  {
   "cell_type": "code",
   "execution_count": null,
   "metadata": {
    "collapsed": false
   },
   "outputs": [],
   "source": [
    "# List where each element corresponds to part of dataframe with coverage value\n",
    "cov_sep_list = [df.loc[df.n_nm == i] for i in cov]"
   ]
  },
  {
   "cell_type": "code",
   "execution_count": null,
   "metadata": {
    "collapsed": false
   },
   "outputs": [],
   "source": [
    "# Linear Regression on Gibbs free energy of adsorption vs carbon number\n",
    "# result is list of tuples containing slope, standard error of slope, r_value etc in a list of tuples\n",
    "result = [stats.linregress(df['carbon num'],df['RTLnVn']) for df in cov_sep_list]"
   ]
  },
  {
   "cell_type": "code",
   "execution_count": null,
   "metadata": {
    "collapsed": false
   },
   "outputs": [],
   "source": [
    "# Unzips list of tuples to individual tuples\n",
    "slopes, intercepts,r_values,p_values,std_errs = zip(*result)"
   ]
  },
  {
   "cell_type": "code",
   "execution_count": null,
   "metadata": {
    "collapsed": false
   },
   "outputs": [],
   "source": [
    "# turns tuples to numpy arrays for calculations\n",
    "slopes = np.array(slopes)"
   ]
  },
  {
   "cell_type": "code",
   "execution_count": null,
   "metadata": {
    "collapsed": false
   },
   "outputs": [],
   "source": [
    "r_values = np.array(r_values)\n",
    "std_errs = np.array(std_errs)"
   ]
  },
  {
   "cell_type": "code",
   "execution_count": null,
   "metadata": {
    "collapsed": false
   },
   "outputs": [],
   "source": [
    "# Computes R^2 of linear fit\n",
    "r_sq_arr = r_values ** 2"
   ]
  },
  {
   "cell_type": "code",
   "execution_count": null,
   "metadata": {
    "collapsed": false
   },
   "outputs": [],
   "source": [
    "# values used in surface energy equation (Dorris-Gray)\n",
    "# T = experiment temperature, y_ch2 = dispersive surface energy of methylene group\n",
    "# a_ch2 = cross sectional surface area of methylene group\n",
    "\n",
    "T = f['Column Temperature [Kelvin]'].mean()\n",
    "y_ch2 = 35.6 + 0.058 * (293 - T)\n",
    "y_ch2 = y_ch2 / 1000\n",
    "Na = constants.Avogadro\n",
    "a_ch2 = 6E-20"
   ]
  },
  {
   "cell_type": "markdown",
   "metadata": {},
   "source": [
    "Dorris-Gray equation for the calculation of the dispersive surface energy ($\\gamma_{d}^{s}$) of a solvent, $unit=\\frac{mJ}{m^{2}}$\n",
    "\n",
    "$$\\gamma_{d}^{s}=\\frac{1}{4\\gamma_{d}^{CH2}}\\left(\\frac{RT.ln\\left[\\frac{V_{N,n+1}}{V_{N,n}}\\right]}{N_{a}a_{CH2}}\\right)^{2}$$\n",
    "\n",
    "$$\\gamma_{d}^{s}=\\frac{1}{4\\gamma_{d}^{CH2}}\\left(\\frac{slope}{N_{a}a_{CH2}}\\right)^{2}$$"
   ]
  },
  {
   "cell_type": "code",
   "execution_count": null,
   "metadata": {
    "collapsed": true
   },
   "outputs": [],
   "source": [
    "# Dorris-Gray equation for dispersive surface energy\n",
    "y_d = (1/(4 * y_ch2)) * (slopes/(Na * a_ch2)) ** 2"
   ]
  },
  {
   "cell_type": "code",
   "execution_count": null,
   "metadata": {
    "collapsed": false
   },
   "outputs": [],
   "source": [
    "# Converts from J/m^2 to mJ/m^2\n",
    "y_d = y_d * 1000"
   ]
  },
  {
   "cell_type": "code",
   "execution_count": null,
   "metadata": {
    "collapsed": true
   },
   "outputs": [],
   "source": [
    "# Calculates error in y_d from standard error in slope of fitting\n",
    "y_d_err = (y_d * 2 * std_errs) / slopes"
   ]
  },
  {
   "cell_type": "markdown",
   "metadata": {},
   "source": [
    "# Output and plotting of $\\gamma_{d}^{s}$ profile"
   ]
  },
  {
   "cell_type": "code",
   "execution_count": null,
   "metadata": {
    "collapsed": false
   },
   "outputs": [],
   "source": [
    "# Creates dataframe of results with coverage used as index\n",
    "results_df = DataFrame({'Coverage' : cov,\n",
    "                       'Dispersive Surface Energy (COM)' : y_d,\n",
    "                       'Error': y_d_err,\n",
    "                       'R Square' : r_sq_arr},)\n",
    "results_df.set_index(keys = 'Coverage',inplace=True)\n",
    "results_df"
   ]
  },
  {
   "cell_type": "code",
   "execution_count": null,
   "metadata": {
    "collapsed": false
   },
   "outputs": [],
   "source": [
    "# Exports results to a csv name of your choosing\n",
    "results_df.to_csv(raw_input('copy output directory you want and put .csv after \\n'))"
   ]
  },
  {
   "cell_type": "code",
   "execution_count": null,
   "metadata": {
    "collapsed": false
   },
   "outputs": [],
   "source": [
    "# Plots dispersive surface energy profile with error bars\n",
    "plt.scatter(cov,y_d,label= 'Dispersive surface energy',c='k',marker='s')\n",
    "plt.errorbar(cov, y_d,yerr=y_d_err,linestyle = 'None',c='k')\n",
    "plt.title('Dispersive Surface Energy Profile')\n",
    "plt.ylabel(r'$\\gamma_{d}$ $(mJ/m^{2})$')\n",
    "plt.xlabel(r'surface coverage $(\\phi$)')\n",
    "plt.rcParams.update({'font.size': 18})"
   ]
  },
  {
   "cell_type": "code",
   "execution_count": null,
   "metadata": {
    "collapsed": true
   },
   "outputs": [],
   "source": []
  }
 ],
 "metadata": {
  "kernelspec": {
   "display_name": "Python 2",
   "language": "python",
   "name": "python2"
  },
  "language_info": {
   "codemirror_mode": {
    "name": "ipython",
    "version": 2
   },
   "file_extension": ".py",
   "mimetype": "text/x-python",
   "name": "python",
   "nbconvert_exporter": "python",
   "pygments_lexer": "ipython2",
   "version": "2.7.11"
  }
 },
 "nbformat": 4,
 "nbformat_minor": 0
}
