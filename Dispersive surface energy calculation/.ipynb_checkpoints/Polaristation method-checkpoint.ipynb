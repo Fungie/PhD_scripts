{
 "cells": [
  {
   "cell_type": "markdown",
   "metadata": {},
   "source": [
    "This script is for calculating the Dispersive surface energy ($\\gamma_{d}^{s}$) of a solid sample from Inverse Gas Chromatography measurements, specifically those done on the SEA (Surface energy analyser).  Measured parameters are imported from a csv file and the dispersive surface energy profile (including error and $R^{2}$ value of the fit) is shown and results are output to a different csv file."
   ]
  },
  {
   "cell_type": "code",
   "execution_count": 1,
   "metadata": {
    "collapsed": false
   },
   "outputs": [],
   "source": [
    "import pandas as pd\n",
    "from pandas import Series,DataFrame\n",
    "import numpy as np\n",
    "import matplotlib.pyplot as plt\n",
    "%matplotlib inline\n",
    "from scipy import stats,constants\n",
    "from __future__ import division"
   ]
  },
  {
   "cell_type": "markdown",
   "metadata": {},
   "source": [
    "# Input data is sorted to be usable"
   ]
  },
  {
   "cell_type": "code",
   "execution_count": 2,
   "metadata": {
    "collapsed": false
   },
   "outputs": [],
   "source": [
    "# reads the experimental data file. note: remove other exp details\n",
    "# Change nrows and skiprows depending on amount of injections\n",
    "# skiprows skips the first x rows of csv while nrows reads the first x - 1 rows \n",
    "#f = pd.read_csv(raw_input('Copy path to input file here \\nmake sure to insert extra \"\\\\\" and remove \"\" \\n'),skiprows=8,nrows=60,\n",
    "#     encoding='utf-16', delimiter='\\t')\n",
    "f = pd.read_csv(\"C:\\\\Users\\\\tcd\\\\Google Drive\\\\NiCoH2\\\\test.csv\",skiprows=8,nrows=70,\n",
    "                encoding='utf-16', delimiter='\\t')"
   ]
  },
  {
   "cell_type": "code",
   "execution_count": 3,
   "metadata": {
    "collapsed": false
   },
   "outputs": [
    {
     "data": {
      "text/html": [
       "<div>\n",
       "<table border=\"1\" class=\"dataframe\">\n",
       "  <thead>\n",
       "    <tr style=\"text-align: right;\">\n",
       "      <th></th>\n",
       "      <th>n/nm</th>\n",
       "      <th>Solvent Name</th>\n",
       "      <th>Unit</th>\n",
       "      <th>En. (Stz Max)</th>\n",
       "      <th>En. (Stz Com)</th>\n",
       "      <th>En. (Pol Max)</th>\n",
       "      <th>En. (Pol Com)</th>\n",
       "      <th>Interpolated Retention Volume (Max)</th>\n",
       "      <th>Interpolated Retention Volume (Com)</th>\n",
       "      <th>Column Temperature [Kelvin]</th>\n",
       "    </tr>\n",
       "  </thead>\n",
       "  <tbody>\n",
       "    <tr>\n",
       "      <th>0</th>\n",
       "      <td>0.02</td>\n",
       "      <td>NONANE</td>\n",
       "      <td>dG (kJ/Mol)</td>\n",
       "      <td>NaN</td>\n",
       "      <td>NaN</td>\n",
       "      <td>NaN</td>\n",
       "      <td>NaN</td>\n",
       "      <td>557.549962</td>\n",
       "      <td>3078.691325</td>\n",
       "      <td>343.150526</td>\n",
       "    </tr>\n",
       "    <tr>\n",
       "      <th>1</th>\n",
       "      <td>0.02</td>\n",
       "      <td>OCTANE</td>\n",
       "      <td>dG (kJ/Mol)</td>\n",
       "      <td>NaN</td>\n",
       "      <td>NaN</td>\n",
       "      <td>NaN</td>\n",
       "      <td>NaN</td>\n",
       "      <td>197.166736</td>\n",
       "      <td>1176.255359</td>\n",
       "      <td>343.150067</td>\n",
       "    </tr>\n",
       "    <tr>\n",
       "      <th>2</th>\n",
       "      <td>0.02</td>\n",
       "      <td>HEPTANE</td>\n",
       "      <td>dG (kJ/Mol)</td>\n",
       "      <td>NaN</td>\n",
       "      <td>NaN</td>\n",
       "      <td>NaN</td>\n",
       "      <td>NaN</td>\n",
       "      <td>62.867565</td>\n",
       "      <td>232.659090</td>\n",
       "      <td>343.151910</td>\n",
       "    </tr>\n",
       "    <tr>\n",
       "      <th>3</th>\n",
       "      <td>0.02</td>\n",
       "      <td>HEXANE</td>\n",
       "      <td>dG (kJ/Mol)</td>\n",
       "      <td>NaN</td>\n",
       "      <td>NaN</td>\n",
       "      <td>NaN</td>\n",
       "      <td>NaN</td>\n",
       "      <td>20.590613</td>\n",
       "      <td>69.602423</td>\n",
       "      <td>343.156519</td>\n",
       "    </tr>\n",
       "    <tr>\n",
       "      <th>4</th>\n",
       "      <td>0.02</td>\n",
       "      <td>DICHLOROMETHANE</td>\n",
       "      <td>dG (kJ/Mol)</td>\n",
       "      <td>6.89429</td>\n",
       "      <td>7.233072</td>\n",
       "      <td>7.25741</td>\n",
       "      <td>7.692245</td>\n",
       "      <td>10.600887</td>\n",
       "      <td>23.526713</td>\n",
       "      <td>343.155256</td>\n",
       "    </tr>\n",
       "  </tbody>\n",
       "</table>\n",
       "</div>"
      ],
      "text/plain": [
       "   n/nm     Solvent Name         Unit  En. (Stz Max)  En. (Stz Com)  \\\n",
       "0  0.02           NONANE  dG (kJ/Mol)            NaN            NaN   \n",
       "1  0.02           OCTANE  dG (kJ/Mol)            NaN            NaN   \n",
       "2  0.02          HEPTANE  dG (kJ/Mol)            NaN            NaN   \n",
       "3  0.02           HEXANE  dG (kJ/Mol)            NaN            NaN   \n",
       "4  0.02  DICHLOROMETHANE  dG (kJ/Mol)        6.89429       7.233072   \n",
       "\n",
       "   En. (Pol Max)  En. (Pol Com)  Interpolated Retention Volume (Max)  \\\n",
       "0            NaN            NaN                           557.549962   \n",
       "1            NaN            NaN                           197.166736   \n",
       "2            NaN            NaN                            62.867565   \n",
       "3            NaN            NaN                            20.590613   \n",
       "4        7.25741       7.692245                            10.600887   \n",
       "\n",
       "   Interpolated Retention Volume (Com)  Column Temperature [Kelvin]  \n",
       "0                          3078.691325                   343.150526  \n",
       "1                          1176.255359                   343.150067  \n",
       "2                           232.659090                   343.151910  \n",
       "3                            69.602423                   343.156519  \n",
       "4                            23.526713                   343.155256  "
      ]
     },
     "execution_count": 3,
     "metadata": {},
     "output_type": "execute_result"
    }
   ],
   "source": [
    "f.head()"
   ]
  },
  {
   "cell_type": "code",
   "execution_count": 4,
   "metadata": {
    "collapsed": false
   },
   "outputs": [],
   "source": [
    "# Removes  columns that have all null values\n",
    "df = f.dropna(axis =1, how='all')"
   ]
  },
  {
   "cell_type": "code",
   "execution_count": 5,
   "metadata": {
    "collapsed": false
   },
   "outputs": [],
   "source": [
    "# Get rid of columns unrelated to dispersive solvents\n",
    "df.drop(df.columns[2:7],axis=1,inplace=True)"
   ]
  },
  {
   "cell_type": "code",
   "execution_count": 6,
   "metadata": {
    "collapsed": false
   },
   "outputs": [],
   "source": [
    "# Renames columns to make life easier\n",
    "df.rename(columns = {'n/nm' : 'n_nm',\n",
    "                     'Solvent Name' : 'solvent',\n",
    "                     'Interpolated Retention Volume (Max)' : 'max',\n",
    "                     'Interpolated Retention Volume (Com)' : 'com',\n",
    "                     'Column Temperature [Kelvin]': 'temperature (K)'},inplace=True)"
   ]
  },
  {
   "cell_type": "code",
   "execution_count": 7,
   "metadata": {
    "collapsed": true
   },
   "outputs": [],
   "source": [
    "# Gets rid of Specifc solvents\n",
    "# NOTE: IF MORE OR LESS OR DIFFERENT SOLVENTS USED CHANGE THIS LINE ACCORDINGLY\n",
    "df = df[(df.solvent != 'DICHLOROMETHANE') & (df.solvent != 'ETHYL ACETATE') & (df.solvent !='1-PROPANOL')]"
   ]
  },
  {
   "cell_type": "code",
   "execution_count": 8,
   "metadata": {
    "collapsed": false
   },
   "outputs": [],
   "source": [
    "p_d_map = {'NONANE': 43.8212,\n",
    "               'OCTANE' : 39.164,\n",
    "               'HEPTANE' : 34.574,\n",
    "               'HEXANE' : 29.89}\n"
   ]
  },
  {
   "cell_type": "code",
   "execution_count": 9,
   "metadata": {
    "collapsed": false
   },
   "outputs": [],
   "source": [
    "df['p_d'] = df['solvent'].map(p_d_map)"
   ]
  },
  {
   "cell_type": "markdown",
   "metadata": {},
   "source": [
    "# Calculations"
   ]
  },
  {
   "cell_type": "markdown",
   "metadata": {},
   "source": [
    "Gibbs Free Energy of adsorption is calculated by $\\Delta G=RT\\ln V_{n}$ ($\\frac{kJol}{Mol})$ where $V_{n}$ is the column called 'com'"
   ]
  },
  {
   "cell_type": "code",
   "execution_count": 10,
   "metadata": {
    "collapsed": false
   },
   "outputs": [],
   "source": [
    "# Import real gas const\n",
    "# RTLnVn is the Gibbs free energy of adsorption\n",
    "R= constants.R\n",
    "df['RTLnVn'] = R * df['temperature (K)'] * np.log(df['com'])"
   ]
  },
  {
   "cell_type": "code",
   "execution_count": 11,
   "metadata": {
    "collapsed": false
   },
   "outputs": [
    {
     "data": {
      "text/plain": [
       "[0.02, 0.03, 0.05, 0.07, 0.09, 0.1, 0.13, 0.15, 0.2, 0.25]"
      ]
     },
     "execution_count": 11,
     "metadata": {},
     "output_type": "execute_result"
    }
   ],
   "source": [
    "# Creates coverage list for the data set\n",
    "cov = df['n_nm'].unique().tolist()\n",
    "cov"
   ]
  },
  {
   "cell_type": "code",
   "execution_count": 12,
   "metadata": {
    "collapsed": false
   },
   "outputs": [
    {
     "data": {
      "text/plain": [
       "[   n_nm  solvent         max          com  temperature (K)      p_d  \\\n",
       " 0  0.02   NONANE  557.549962  3078.691325       343.150526  43.8212   \n",
       " 1  0.02   OCTANE  197.166736  1176.255359       343.150067  39.1640   \n",
       " 2  0.02  HEPTANE   62.867565   232.659090       343.151910  34.5740   \n",
       " 3  0.02   HEXANE   20.590613    69.602423       343.156519  29.8900   \n",
       " \n",
       "          RTLnVn  \n",
       " 0  22916.937457  \n",
       " 1  20171.735509  \n",
       " 2  15548.308617  \n",
       " 3  12105.393409  ,\n",
       "     n_nm  solvent         max          com  temperature (K)      p_d  \\\n",
       " 7   0.03   NONANE  516.553479  2638.739975       343.150526  43.8212   \n",
       " 8   0.03   OCTANE  175.318611   791.243030       343.150067  39.1640   \n",
       " 9   0.03  HEPTANE   60.318826   206.115757       343.151910  34.5740   \n",
       " 10  0.03   HEXANE   20.615158    59.780684       343.156519  29.8900   \n",
       " \n",
       "           RTLnVn  \n",
       " 7   22476.978760  \n",
       " 8   19040.517805  \n",
       " 9   15202.691758  \n",
       " 10  11671.379603  ,\n",
       "     n_nm  solvent         max          com  temperature (K)      p_d  \\\n",
       " 14  0.05   NONANE  456.910741  2044.996679       343.150526  43.8212   \n",
       " 15  0.05   OCTANE  163.714196   652.068263       343.150067  39.1640   \n",
       " 16  0.05  HEPTANE   58.452255   182.062726       343.151910  34.5740   \n",
       " 17  0.05   HEXANE   19.417669    51.484782       343.156519  29.8900   \n",
       " \n",
       "           RTLnVn  \n",
       " 14  21749.705220  \n",
       " 15  18488.567156  \n",
       " 16  14848.657184  \n",
       " 17  11245.127722  ,\n",
       "     n_nm  solvent         max          com  temperature (K)      p_d  \\\n",
       " 21  0.07   NONANE  428.021536  1742.912797       343.150526  43.8212   \n",
       " 22  0.07   OCTANE  155.788510   609.411078       343.150067  39.1640   \n",
       " 23  0.07  HEPTANE   54.744280   163.692609       343.151910  34.5740   \n",
       " 24  0.07   HEXANE   20.537729    47.153746       343.156519  29.8900   \n",
       " \n",
       "           RTLnVn  \n",
       " 21  21293.668268  \n",
       " 22  18295.536670  \n",
       " 23  14545.196267  \n",
       " 24  10994.412346  ,\n",
       "     n_nm  solvent         max          com  temperature (K)      p_d  \\\n",
       " 28  0.09   NONANE  402.035772  1547.242733       343.150526  43.8212   \n",
       " 29  0.09   OCTANE  147.311509   551.724394       343.150067  39.1640   \n",
       " 30  0.09  HEPTANE   52.320561   151.875148       343.151910  34.5740   \n",
       " 31  0.09   HEXANE   18.770975    44.339488       343.156519  29.8900   \n",
       " \n",
       "           RTLnVn  \n",
       " 28  20953.910356  \n",
       " 29  18011.811003  \n",
       " 30  14331.407312  \n",
       " 31  10818.835036  ,\n",
       "     n_nm  solvent         max          com  temperature (K)      p_d  \\\n",
       " 35   0.1   NONANE  393.715762  1480.991087       343.150526  43.8212   \n",
       " 36   0.1   OCTANE  144.835226   535.252868       343.150067  39.1640   \n",
       " 37   0.1  HEPTANE   51.310151   147.538995       343.151910  34.5740   \n",
       " 38   0.1   HEXANE   18.621736    43.145294       343.156519  29.8900   \n",
       " \n",
       "           RTLnVn  \n",
       " 35  20829.049762  \n",
       " 36  17925.335152  \n",
       " 37  14248.762955  \n",
       " 38  10740.937109  ,\n",
       "     n_nm  solvent         max          com  temperature (K)      p_d  \\\n",
       " 42  0.13   NONANE  371.896055  1323.374088       343.150526  43.8212   \n",
       " 43  0.13   OCTANE  134.593665   485.194835       343.150067  39.1640   \n",
       " 44  0.13  HEPTANE   48.866912   135.891129       343.151910  34.5740   \n",
       " 45  0.13   HEXANE   19.762119    41.709173       343.156519  29.8900   \n",
       " \n",
       "           RTLnVn  \n",
       " 42  20507.997866  \n",
       " 43  17645.192009  \n",
       " 44  14014.126440  \n",
       " 45  10644.351118  ,\n",
       "     n_nm  solvent         max          com  temperature (K)      p_d  \\\n",
       " 49  0.15   NONANE  361.838461  1265.657362       343.150526  43.8212   \n",
       " 50  0.15   OCTANE  130.999035   462.380722       343.150067  39.1640   \n",
       " 51  0.15  HEPTANE   47.949715   140.181992       343.151910  34.5740   \n",
       " 52  0.15   HEXANE   19.255216    40.793394       343.156519  29.8900   \n",
       " \n",
       "           RTLnVn  \n",
       " 49  20380.769149  \n",
       " 50  17507.780876  \n",
       " 51  14102.822855  \n",
       " 52  10581.008270  ,\n",
       "     n_nm  solvent         max          com  temperature (K)      p_d  \\\n",
       " 56   0.2   NONANE  339.821142  1132.543183       343.150526  43.8212   \n",
       " 57   0.2   OCTANE  124.875523   416.585117       343.150067  39.1640   \n",
       " 58   0.2  HEPTANE   44.471493   128.442934       343.151910  34.5740   \n",
       " 59   0.2   HEXANE   17.676407    37.661256       343.156519  29.8900   \n",
       " \n",
       "           RTLnVn  \n",
       " 56  20063.714414  \n",
       " 57  17210.207902  \n",
       " 58  13853.297762  \n",
       " 59  10353.074108  ,\n",
       "     n_nm  solvent         max          com  temperature (K)      p_d  \\\n",
       " 63  0.25   NONANE  338.806873  1045.529121       343.150526  43.8212   \n",
       " 64  0.25   OCTANE  126.805794   383.830797       343.150067  39.1640   \n",
       " 65  0.25  HEPTANE   43.098366   118.009409       343.151910  34.5740   \n",
       " 66  0.25   HEXANE   16.839650    35.280956       343.156519  29.8900   \n",
       " \n",
       "           RTLnVn  \n",
       " 63  19835.629175  \n",
       " 64  16976.569776  \n",
       " 65  13611.580137  \n",
       " 66  10166.795291  ]"
      ]
     },
     "execution_count": 12,
     "metadata": {},
     "output_type": "execute_result"
    }
   ],
   "source": [
    "# List where each element corresponds to part of dataframe with coverage value\n",
    "cov_sep_list = [df.loc[df.n_nm == i] for i in cov]\n",
    "cov_sep_list"
   ]
  },
  {
   "cell_type": "code",
   "execution_count": 13,
   "metadata": {
    "collapsed": false
   },
   "outputs": [
    {
     "data": {
      "text/plain": [
       "[LinregressResult(slope=798.7507468190413, intercept=-11758.195906489425, rvalue=0.99549658968186139, pvalue=0.0045034103181386129, stderr=53.783957743060192),\n",
       " LinregressResult(slope=781.5680333137766, intercept=-11712.503333143362, rvalue=0.9997251776764291, pvalue=0.00027482232357090014, stderr=12.959323209122172),\n",
       " LinregressResult(slope=757.8692803551312, intercept=-11353.790452669749, rvalue=0.99967347288936848, pvalue=0.00032652711063152479, stderr=13.698099082470076),\n",
       " LinregressResult(slope=746.94333189553549, intercept=-11251.845795664409, rvalue=0.99893200809141502, pvalue=0.0010679919085849754, stderr=24.429789219970829),\n",
       " LinregressResult(slope=734.82135939603006, intercept=-11058.214469698314, rvalue=0.99889717363584274, pvalue=0.0011028263641572611, stderr=24.42276251174804),\n",
       " LinregressResult(slope=731.7007824781416, intercept=-11036.152509302674, rvalue=0.99877344117657374, pvalue=0.0012265588234262608, stderr=25.649417804204962),\n",
       " LinregressResult(slope=716.18924967699968, intercept=-10697.46612027377, rvalue=0.99886891261330057, pvalue=0.0011310873866994253, stderr=24.107076136335948),\n",
       " LinregressResult(slope=707.23750304655448, intercept=-10427.305720915354, rvalue=0.99894989682560387, pvalue=0.0010501031743961331, stderr=22.936308323578814),\n",
       " LinregressResult(slope=700.44156358570649, intercept=-10449.813503034382, rvalue=0.99896173132017307, pvalue=0.0010382686798269261, stderr=22.587344527946545),\n",
       " LinregressResult(slope=697.90308275609152, intercept=-10578.669212610588, rvalue=0.9990957624521678, pvalue=0.00090423754783219813, stderr=21.000569372749229)]"
      ]
     },
     "execution_count": 13,
     "metadata": {},
     "output_type": "execute_result"
    }
   ],
   "source": [
    "# Linear Regression on Gibbs free energy of adsorption vs carbon number\n",
    "# result is list of tuples containing slope, standard error of slope, r_value etc in a list of tuples\n",
    "result = [stats.linregress(df['p_d'],df['RTLnVn']) for df in cov_sep_list]\n",
    "result"
   ]
  },
  {
   "cell_type": "code",
   "execution_count": 14,
   "metadata": {
    "collapsed": false
   },
   "outputs": [],
   "source": [
    "# Unzips list of tuples to individual tuples\n",
    "slopes, intercepts,r_values,p_values,std_errs = zip(*result)"
   ]
  },
  {
   "cell_type": "code",
   "execution_count": 15,
   "metadata": {
    "collapsed": false
   },
   "outputs": [
    {
     "data": {
      "text/plain": [
       "array([ 798.75074682,  781.56803331,  757.86928036,  746.9433319 ,\n",
       "        734.8213594 ,  731.70078248,  716.18924968,  707.23750305,\n",
       "        700.44156359,  697.90308276])"
      ]
     },
     "execution_count": 15,
     "metadata": {},
     "output_type": "execute_result"
    }
   ],
   "source": [
    "# turns tuples to numpy arrays for calculations\n",
    "slopes = np.array(slopes)\n",
    "slopes"
   ]
  },
  {
   "cell_type": "code",
   "execution_count": 16,
   "metadata": {
    "collapsed": false
   },
   "outputs": [],
   "source": [
    "r_values = np.array(r_values)\n",
    "std_errs = np.array(std_errs)\n",
    "intercepts = np.array(intercepts)"
   ]
  },
  {
   "cell_type": "code",
   "execution_count": 17,
   "metadata": {
    "collapsed": false
   },
   "outputs": [],
   "source": [
    "# Computes R^2 of linear fit\n",
    "r_sq_arr = r_values ** 2"
   ]
  },
  {
   "cell_type": "code",
   "execution_count": 18,
   "metadata": {
    "collapsed": false
   },
   "outputs": [
    {
     "data": {
      "text/plain": [
       "array([-11758.19590649, -11712.50333314, -11353.79045267, -11251.84579566,\n",
       "       -11058.2144697 , -11036.1525093 , -10697.46612027, -10427.30572092,\n",
       "       -10449.81350303, -10578.66921261])"
      ]
     },
     "execution_count": 18,
     "metadata": {},
     "output_type": "execute_result"
    }
   ],
   "source": [
    "intercepts"
   ]
  },
  {
   "cell_type": "code",
   "execution_count": 19,
   "metadata": {
    "collapsed": true
   },
   "outputs": [],
   "source": [
    "M_w_dcm = 16.36\n",
    "M_w_ethyl =22.2\n",
    "M_w_pro = 17.48"
   ]
  },
  {
   "cell_type": "code",
   "execution_count": 20,
   "metadata": {
    "collapsed": false
   },
   "outputs": [
    {
     "data": {
      "text/plain": [
       "array([ 1309.36631147,  1073.94969187,  1044.95097394,   968.14711415,\n",
       "         963.46297002,   934.47229204,  1019.39000444,  1143.09982893,\n",
       "        1009.41047723,   839.02522128])"
      ]
     },
     "execution_count": 20,
     "metadata": {},
     "output_type": "execute_result"
    }
   ],
   "source": [
    "disp_comp_dcm = slopes * M_w_dcm + intercepts\n",
    "disp_comp_dcm"
   ]
  },
  {
   "cell_type": "code",
   "execution_count": 25,
   "metadata": {
    "collapsed": false
   },
   "outputs": [],
   "source": [
    "specific_df = pd.read_csv(\"C:\\\\Users\\\\tcd\\\\Google Drive\\\\NiCoH2\\\\test.csv\",skiprows=8,nrows=70,\n",
    "                encoding='utf-16', delimiter='\\t')"
   ]
  },
  {
   "cell_type": "code",
   "execution_count": 26,
   "metadata": {
    "collapsed": true
   },
   "outputs": [],
   "source": [
    "specific_df = f.dropna(axis =1, how='all')"
   ]
  },
  {
   "cell_type": "code",
   "execution_count": 27,
   "metadata": {
    "collapsed": false
   },
   "outputs": [],
   "source": [
    "specific_df.drop(specific_df.columns[2:7],axis=1,inplace=True)"
   ]
  },
  {
   "cell_type": "code",
   "execution_count": 28,
   "metadata": {
    "collapsed": false
   },
   "outputs": [],
   "source": [
    "specific_df.rename(columns = {'n/nm' : 'n_nm',\n",
    "                     'Solvent Name' : 'solvent',\n",
    "                     'Interpolated Retention Volume (Max)' : 'max',\n",
    "                     'Interpolated Retention Volume (Com)' : 'com',\n",
    "                     'Column Temperature [Kelvin]': 'temperature (K)'},inplace=True)"
   ]
  },
  {
   "cell_type": "code",
   "execution_count": null,
   "metadata": {
    "collapsed": true
   },
   "outputs": [],
   "source": []
  },
  {
   "cell_type": "code",
   "execution_count": null,
   "metadata": {
    "collapsed": true
   },
   "outputs": [],
   "source": []
  },
  {
   "cell_type": "code",
   "execution_count": null,
   "metadata": {
    "collapsed": true
   },
   "outputs": [],
   "source": []
  }
 ],
 "metadata": {
  "kernelspec": {
   "display_name": "Python 2",
   "language": "python",
   "name": "python2"
  },
  "language_info": {
   "codemirror_mode": {
    "name": "ipython",
    "version": 2
   },
   "file_extension": ".py",
   "mimetype": "text/x-python",
   "name": "python",
   "nbconvert_exporter": "python",
   "pygments_lexer": "ipython2",
   "version": "2.7.11"
  }
 },
 "nbformat": 4,
 "nbformat_minor": 0
}
