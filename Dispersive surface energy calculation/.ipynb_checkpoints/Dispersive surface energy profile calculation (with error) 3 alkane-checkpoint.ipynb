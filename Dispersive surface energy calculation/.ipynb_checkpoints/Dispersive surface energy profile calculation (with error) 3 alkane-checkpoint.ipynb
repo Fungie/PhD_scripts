{
 "cells": [
  {
   "cell_type": "markdown",
   "metadata": {},
   "source": [
    "This script is for calculating the Dispersive surface energy ($\\gamma_{d}^{s}$) of a solid sample from Inverse Gas Chromatography measurements, specifically those done on the SEA (Surface energy analyser).  Measured parameters are imported from a csv file and the dispersive surface energy profile (including error and $R^{2}$ value of the fit) is shown and results are output to a different csv file."
   ]
  },
  {
   "cell_type": "code",
   "execution_count": 30,
   "metadata": {
    "collapsed": false
   },
   "outputs": [],
   "source": [
    "import pandas as pd\n",
    "from pandas import Series,DataFrame\n",
    "import numpy as np\n",
    "import matplotlib.pyplot as plt\n",
    "%matplotlib inline\n",
    "from scipy import stats,constants\n",
    "from __future__ import division"
   ]
  },
  {
   "cell_type": "markdown",
   "metadata": {},
   "source": [
    "# Input data is sorted to be usable"
   ]
  },
  {
   "cell_type": "code",
   "execution_count": 31,
   "metadata": {
    "collapsed": false
   },
   "outputs": [
    {
     "name": "stdout",
     "output_type": "stream",
     "text": [
      "Copy path to input file here \n",
      "make sure to insert extra \"\\\" and remove \"\" \n",
      "C:\\\\Users\\\\tcd\\\\Google Drive\\\\redo new graphene size study with sed recycle april 2016\\\\IGC\\\\Raw data\\\\Surface energy\\\\1000-1500rpm\\\\4-alkanes\\\\1000-1500rpm_4alkanes_90C.csv\n"
     ]
    }
   ],
   "source": [
    "# reads the experimental data file. note: remove other exp details\n",
    "# Change nrows and skiprows depending on amount of injections\n",
    "# skiprows skips the first x rows of csv while nrows reads the first x - 1 rows \n",
    "f = pd.read_csv(raw_input('Copy path to input file here \\nmake sure to insert extra \"\\\\\" and remove \"\" \\n'),skiprows=8,nrows=112,\n",
    "                encoding='utf-16', delimiter='\\t')"
   ]
  },
  {
   "cell_type": "code",
   "execution_count": 59,
   "metadata": {
    "collapsed": false
   },
   "outputs": [],
   "source": [
    "# Removes  columns that have all null values\n",
    "df = f.dropna(axis =1, how='all')"
   ]
  },
  {
   "cell_type": "code",
   "execution_count": 33,
   "metadata": {
    "collapsed": false
   },
   "outputs": [],
   "source": [
    "# Get rid of columns unrelated to dispersive solvents\n",
    "df.drop(df.columns[2:7],axis=1,inplace=True)"
   ]
  },
  {
   "cell_type": "code",
   "execution_count": 34,
   "metadata": {
    "collapsed": false
   },
   "outputs": [],
   "source": [
    "# Renames columns to make life easier\n",
    "df.rename(columns = {'n/nm' : 'n_nm',\n",
    "                     'Solvent Name' : 'solvent',\n",
    "                     'Interpolated Retention Volume (Max)' : 'max',\n",
    "                     'Interpolated Retention Volume (Com)' : 'com',\n",
    "                     'Column Temperature [Kelvin]': 'temperature (K)'},inplace=True)"
   ]
  },
  {
   "cell_type": "code",
   "execution_count": 35,
   "metadata": {
    "collapsed": false
   },
   "outputs": [],
   "source": [
    "# Gets rid of Specifc solvents\n",
    "# NOTE: IF MORE OR LESS OR DIFFERENT SOLVENTS USED CHANGE THIS LINE ACCORDINGLY\n",
    "df = df[(df.solvent != 'DICHLOROMETHANE') & (df.solvent != 'ETHYL ACETATE') & (df.solvent != '1,4-DIOXANE')]"
   ]
  },
  {
   "cell_type": "code",
   "execution_count": 36,
   "metadata": {
    "collapsed": false
   },
   "outputs": [],
   "source": [
    "# Dictionary for map used in next line\n",
    "solvent_map = {'NONANE': 9,\n",
    "               'OCTANE' : 8,\n",
    "               'HEPTANE' : 7,\n",
    "               'HEXANE' : 6}"
   ]
  },
  {
   "cell_type": "code",
   "execution_count": 58,
   "metadata": {
    "collapsed": false
   },
   "outputs": [
    {
     "name": "stderr",
     "output_type": "stream",
     "text": [
      "C:\\Users\\tcd\\Anaconda2\\lib\\site-packages\\ipykernel\\__main__.py:2: SettingWithCopyWarning: \n",
      "A value is trying to be set on a copy of a slice from a DataFrame.\n",
      "Try using .loc[row_indexer,col_indexer] = value instead\n",
      "\n",
      "See the caveats in the documentation: http://pandas.pydata.org/pandas-docs/stable/indexing.html#indexing-view-versus-copy\n",
      "  from ipykernel import kernelapp as app\n"
     ]
    }
   ],
   "source": [
    "# New columns that maps the carbon number from solvent column. Carbon number is needed for calculations\n",
    "df['carbon num'] = df['solvent'].map(solvent_map)"
   ]
  },
  {
   "cell_type": "markdown",
   "metadata": {},
   "source": [
    "# Calculations"
   ]
  },
  {
   "cell_type": "markdown",
   "metadata": {},
   "source": [
    "Gibbs Free Energy of adsorption is calculated by $\\Delta G=RT\\ln V_{n}$ ($\\frac{kJol}{Mol})$ where $V_{n}$ is the column called 'com'"
   ]
  },
  {
   "cell_type": "code",
   "execution_count": 57,
   "metadata": {
    "collapsed": false
   },
   "outputs": [
    {
     "name": "stderr",
     "output_type": "stream",
     "text": [
      "C:\\Users\\tcd\\Anaconda2\\lib\\site-packages\\ipykernel\\__main__.py:4: SettingWithCopyWarning: \n",
      "A value is trying to be set on a copy of a slice from a DataFrame.\n",
      "Try using .loc[row_indexer,col_indexer] = value instead\n",
      "\n",
      "See the caveats in the documentation: http://pandas.pydata.org/pandas-docs/stable/indexing.html#indexing-view-versus-copy\n"
     ]
    }
   ],
   "source": [
    "# Import real gas const\n",
    "# RTLnVn is the Gibbs free energy of adsorption\n",
    "R= constants.R\n",
    "df['RTLnVn'] = R * df['temperature (K)'] * np.log(df['com'])"
   ]
  },
  {
   "cell_type": "code",
   "execution_count": 56,
   "metadata": {
    "collapsed": false
   },
   "outputs": [],
   "source": [
    "# Creates coverage list for the data set\n",
    "cov = df['n_nm'].unique().tolist()"
   ]
  },
  {
   "cell_type": "code",
   "execution_count": 55,
   "metadata": {
    "collapsed": false
   },
   "outputs": [],
   "source": [
    "# List where each element corresponds to part of dataframe with coverage value\n",
    "cov_sep_list = [df.loc[df.n_nm == i] for i in cov]"
   ]
  },
  {
   "cell_type": "code",
   "execution_count": 53,
   "metadata": {
    "collapsed": false
   },
   "outputs": [],
   "source": [
    "# Linear Regression on Gibbs free energy of adsorption vs carbon number\n",
    "# result is list of tuples containing slope, standard error of slope, r_value etc in a list of tuples\n",
    "result = [stats.linregress(df['carbon num'],df['RTLnVn']) for df in cov_sep_list]"
   ]
  },
  {
   "cell_type": "code",
   "execution_count": 42,
   "metadata": {
    "collapsed": false
   },
   "outputs": [],
   "source": [
    "# Unzips list of tuples to individual tuples\n",
    "slopes, intercepts,r_values,p_values,std_errs = zip(*result)"
   ]
  },
  {
   "cell_type": "code",
   "execution_count": 54,
   "metadata": {
    "collapsed": false
   },
   "outputs": [],
   "source": [
    "# turns tuples to numpy arrays for calculations\n",
    "slopes = np.array(slopes)"
   ]
  },
  {
   "cell_type": "code",
   "execution_count": 44,
   "metadata": {
    "collapsed": false
   },
   "outputs": [],
   "source": [
    "r_values = np.array(r_values)\n",
    "std_errs = np.array(std_errs)"
   ]
  },
  {
   "cell_type": "code",
   "execution_count": 45,
   "metadata": {
    "collapsed": false
   },
   "outputs": [],
   "source": [
    "# Computes R^2 of linear fit\n",
    "r_sq_arr = r_values ** 2"
   ]
  },
  {
   "cell_type": "code",
   "execution_count": 46,
   "metadata": {
    "collapsed": false
   },
   "outputs": [],
   "source": [
    "# values used in surface energy equation (Dorris-Gray)\n",
    "# T = experiment temperature, y_ch2 = dispersive surface energy of methylene group\n",
    "# a_ch2 = cross sectional surface area of methylene group\n",
    "\n",
    "T = f['Column Temperature [Kelvin]'].mean()\n",
    "y_ch2 = 35.6 + 0.058 * (293 - T)\n",
    "y_ch2 = y_ch2 / 1000\n",
    "Na = constants.Avogadro\n",
    "a_ch2 = 6E-20"
   ]
  },
  {
   "cell_type": "markdown",
   "metadata": {},
   "source": [
    "Dorris-Gray equation for the calculation of the dispersive surface energy ($\\gamma_{d}^{s}$) of a solvent, $unit=\\frac{mJ}{m^{2}}$\n",
    "\n",
    "$$\\gamma_{d}^{s}=\\frac{1}{4\\gamma_{d}^{CH2}}\\left(\\frac{RT.ln\\left[\\frac{V_{N,n+1}}{V_{N,n}}\\right]}{N_{a}a_{CH2}}\\right)^{2}$$\n",
    "\n",
    "$$\\gamma_{d}^{s}=\\frac{1}{4\\gamma_{d}^{CH2}}\\left(\\frac{slope}{N_{a}a_{CH2}}\\right)^{2}$$"
   ]
  },
  {
   "cell_type": "code",
   "execution_count": 47,
   "metadata": {
    "collapsed": true
   },
   "outputs": [],
   "source": [
    "# Dorris-Gray equation for dispersive surface energy\n",
    "y_d = (1/(4 * y_ch2)) * (slopes/(Na * a_ch2)) ** 2"
   ]
  },
  {
   "cell_type": "code",
   "execution_count": 48,
   "metadata": {
    "collapsed": false
   },
   "outputs": [],
   "source": [
    "# Converts from J/m^2 to mJ/m^2\n",
    "y_d = y_d * 1000"
   ]
  },
  {
   "cell_type": "code",
   "execution_count": 49,
   "metadata": {
    "collapsed": true
   },
   "outputs": [],
   "source": [
    "# Calculates error in y_d from standard error in slope of fitting\n",
    "y_d_err = (y_d * 2 * std_errs) / slopes"
   ]
  },
  {
   "cell_type": "markdown",
   "metadata": {},
   "source": [
    "# Output and plotting of $\\gamma_{d}^{s}$ profile"
   ]
  },
  {
   "cell_type": "code",
   "execution_count": 50,
   "metadata": {
    "collapsed": false
   },
   "outputs": [
    {
     "data": {
      "text/html": [
       "<div>\n",
       "<table border=\"1\" class=\"dataframe\">\n",
       "  <thead>\n",
       "    <tr style=\"text-align: right;\">\n",
       "      <th></th>\n",
       "      <th>Dispersive Surface Energy (COM)</th>\n",
       "      <th>Error</th>\n",
       "      <th>R Square</th>\n",
       "    </tr>\n",
       "    <tr>\n",
       "      <th>Coverage</th>\n",
       "      <th></th>\n",
       "      <th></th>\n",
       "      <th></th>\n",
       "    </tr>\n",
       "  </thead>\n",
       "  <tbody>\n",
       "    <tr>\n",
       "      <th>0.0075</th>\n",
       "      <td>132.075024</td>\n",
       "      <td>4.516000</td>\n",
       "      <td>0.999416</td>\n",
       "    </tr>\n",
       "    <tr>\n",
       "      <th>0.0100</th>\n",
       "      <td>129.179395</td>\n",
       "      <td>6.834667</td>\n",
       "      <td>0.998602</td>\n",
       "    </tr>\n",
       "    <tr>\n",
       "      <th>0.0200</th>\n",
       "      <td>125.901186</td>\n",
       "      <td>4.378239</td>\n",
       "      <td>0.999396</td>\n",
       "    </tr>\n",
       "    <tr>\n",
       "      <th>0.0300</th>\n",
       "      <td>120.336710</td>\n",
       "      <td>8.021274</td>\n",
       "      <td>0.997783</td>\n",
       "    </tr>\n",
       "    <tr>\n",
       "      <th>0.0500</th>\n",
       "      <td>118.345133</td>\n",
       "      <td>3.650988</td>\n",
       "      <td>0.999524</td>\n",
       "    </tr>\n",
       "    <tr>\n",
       "      <th>0.0700</th>\n",
       "      <td>115.696713</td>\n",
       "      <td>3.137181</td>\n",
       "      <td>0.999633</td>\n",
       "    </tr>\n",
       "    <tr>\n",
       "      <th>0.0900</th>\n",
       "      <td>113.641147</td>\n",
       "      <td>2.621276</td>\n",
       "      <td>0.999734</td>\n",
       "    </tr>\n",
       "    <tr>\n",
       "      <th>0.1000</th>\n",
       "      <td>111.839537</td>\n",
       "      <td>2.489622</td>\n",
       "      <td>0.999752</td>\n",
       "    </tr>\n",
       "    <tr>\n",
       "      <th>0.1300</th>\n",
       "      <td>112.189583</td>\n",
       "      <td>1.691343</td>\n",
       "      <td>0.999886</td>\n",
       "    </tr>\n",
       "    <tr>\n",
       "      <th>0.1500</th>\n",
       "      <td>113.979232</td>\n",
       "      <td>0.495659</td>\n",
       "      <td>0.999991</td>\n",
       "    </tr>\n",
       "    <tr>\n",
       "      <th>0.2000</th>\n",
       "      <td>111.585312</td>\n",
       "      <td>1.286727</td>\n",
       "      <td>0.999934</td>\n",
       "    </tr>\n",
       "    <tr>\n",
       "      <th>0.2500</th>\n",
       "      <td>109.528609</td>\n",
       "      <td>2.904640</td>\n",
       "      <td>0.999648</td>\n",
       "    </tr>\n",
       "    <tr>\n",
       "      <th>0.3000</th>\n",
       "      <td>107.401035</td>\n",
       "      <td>3.980073</td>\n",
       "      <td>0.999314</td>\n",
       "    </tr>\n",
       "    <tr>\n",
       "      <th>0.3500</th>\n",
       "      <td>104.414793</td>\n",
       "      <td>5.164599</td>\n",
       "      <td>0.998778</td>\n",
       "    </tr>\n",
       "    <tr>\n",
       "      <th>0.4000</th>\n",
       "      <td>100.030860</td>\n",
       "      <td>5.783365</td>\n",
       "      <td>0.998331</td>\n",
       "    </tr>\n",
       "    <tr>\n",
       "      <th>0.4200</th>\n",
       "      <td>97.942577</td>\n",
       "      <td>5.499627</td>\n",
       "      <td>0.998426</td>\n",
       "    </tr>\n",
       "  </tbody>\n",
       "</table>\n",
       "</div>"
      ],
      "text/plain": [
       "          Dispersive Surface Energy (COM)     Error  R Square\n",
       "Coverage                                                     \n",
       "0.0075                         132.075024  4.516000  0.999416\n",
       "0.0100                         129.179395  6.834667  0.998602\n",
       "0.0200                         125.901186  4.378239  0.999396\n",
       "0.0300                         120.336710  8.021274  0.997783\n",
       "0.0500                         118.345133  3.650988  0.999524\n",
       "0.0700                         115.696713  3.137181  0.999633\n",
       "0.0900                         113.641147  2.621276  0.999734\n",
       "0.1000                         111.839537  2.489622  0.999752\n",
       "0.1300                         112.189583  1.691343  0.999886\n",
       "0.1500                         113.979232  0.495659  0.999991\n",
       "0.2000                         111.585312  1.286727  0.999934\n",
       "0.2500                         109.528609  2.904640  0.999648\n",
       "0.3000                         107.401035  3.980073  0.999314\n",
       "0.3500                         104.414793  5.164599  0.998778\n",
       "0.4000                         100.030860  5.783365  0.998331\n",
       "0.4200                          97.942577  5.499627  0.998426"
      ]
     },
     "execution_count": 50,
     "metadata": {},
     "output_type": "execute_result"
    }
   ],
   "source": [
    "# Creates dataframe of results with coverage used as index\n",
    "results_df = DataFrame({'Coverage' : cov,\n",
    "                       'Dispersive Surface Energy (COM)' : y_d,\n",
    "                       'Error': y_d_err,\n",
    "                       'R Square' : r_sq_arr},)\n",
    "results_df.set_index(keys = 'Coverage',inplace=True)\n",
    "results_df"
   ]
  },
  {
   "cell_type": "code",
   "execution_count": 51,
   "metadata": {
    "collapsed": false
   },
   "outputs": [
    {
     "name": "stdout",
     "output_type": "stream",
     "text": [
      "copy output directory you want and put .csv after \n",
      "C:\\\\Users\\\\tcd\\\\Google Drive\\\\redo new graphene size study with sed recycle april 2016\\\\IGC\\\\Raw data\\\\Surface energy\\\\1000-1500rpm\\\\4-alkanes\\\\result2.csv\n"
     ]
    }
   ],
   "source": [
    "# Exports results to a csv name of your choosing\n",
    "results_df.to_csv(raw_input('copy output directory you want and put .csv after \\n'))"
   ]
  },
  {
   "cell_type": "code",
   "execution_count": 52,
   "metadata": {
    "collapsed": false
   },
   "outputs": [
    {
     "data": {
      "image/png": "[encoded data removed]",
      "text/plain": [
       "<matplotlib.figure.Figure at 0x1d647f60>"
      ]
     },
     "metadata": {},
     "output_type": "display_data"
    }
   ],
   "source": [
    "# Plots dispersive surface energy profile with error bars\n",
    "plt.scatter(cov,y_d,label= 'Dispersive surface energy',c='k',marker='s')\n",
    "plt.errorbar(cov, y_d,yerr=y_d_err,linestyle = 'None',c='k')\n",
    "plt.title('Dispersive Surface Energy Profile')\n",
    "plt.ylabel(r'$\\gamma_{d}$ $(mJ/m^{2})$')\n",
    "plt.xlabel(r'surface coverage $(\\phi$)')\n",
    "plt.rcParams.update({'font.size': 16})"
   ]
  },
  {
   "cell_type": "code",
   "execution_count": null,
   "metadata": {
    "collapsed": true
   },
   "outputs": [],
   "source": []
  }
 ],
 "metadata": {
  "kernelspec": {
   "display_name": "Python 2",
   "language": "python",
   "name": "python2"
  },
  "language_info": {
   "codemirror_mode": {
    "name": "ipython",
    "version": 2
   },
   "file_extension": ".py",
   "mimetype": "text/x-python",
   "name": "python",
   "nbconvert_exporter": "python",
   "pygments_lexer": "ipython2",
   "version": "2.7.11"
  }
 },
 "nbformat": 4,
 "nbformat_minor": 0
}
