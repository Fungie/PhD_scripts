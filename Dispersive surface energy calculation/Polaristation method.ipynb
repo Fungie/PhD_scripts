{
 "cells": [
  {
   "cell_type": "markdown",
   "metadata": {},
   "source": [
    "This script is for calculating the Dispersive surface energy ($\\gamma_{d}^{s}$) of a solid sample from Inverse Gas Chromatography measurements, specifically those done on the SEA (Surface energy analyser).  Measured parameters are imported from a csv file and the dispersive surface energy profile (including error and $R^{2}$ value of the fit) is shown and results are output to a different csv file."
   ]
  },
  {
   "cell_type": "code",
   "execution_count": 1,
   "metadata": {
    "collapsed": false
   },
   "outputs": [],
   "source": [
    "import pandas as pd\n",
    "from pandas import Series,DataFrame\n",
    "import numpy as np\n",
    "import matplotlib.pyplot as plt\n",
    "%matplotlib inline\n",
    "from scipy import stats,constants\n",
    "from __future__ import division"
   ]
  },
  {
   "cell_type": "markdown",
   "metadata": {},
   "source": [
    "# Input data is sorted to be usable"
   ]
  },
  {
   "cell_type": "code",
   "execution_count": 2,
   "metadata": {
    "collapsed": false
   },
   "outputs": [],
   "source": [
    "# reads the experimental data file. note: remove other exp details\n",
    "# Change nrows and skiprows depending on amount of injections\n",
    "# skiprows skips the first x rows of csv while nrows reads the first x - 1 rows \n",
    "#f = pd.read_csv(raw_input('Copy path to input file here \\nmake sure to insert extra \"\\\\\" and remove \"\" \\n'),skiprows=8,nrows=60,\n",
    "#     encoding='utf-16', delimiter='\\t')\n",
    "f = pd.read_csv(\"C:\\\\Users\\\\tcd\\\\Google Drive\\\\NiCoH2\\\\test.csv\",skiprows=8,nrows=70,\n",
    "                encoding='utf-16', delimiter='\\t')"
   ]
  },
  {
   "cell_type": "code",
   "execution_count": 3,
   "metadata": {
    "collapsed": false
   },
   "outputs": [
    {
     "data": {
      "text/html": [
       "<div>\n",
       "<table border=\"1\" class=\"dataframe\">\n",
       "  <thead>\n",
       "    <tr style=\"text-align: right;\">\n",
       "      <th></th>\n",
       "      <th>n/nm</th>\n",
       "      <th>Solvent Name</th>\n",
       "      <th>Unit</th>\n",
       "      <th>En. (Stz Max)</th>\n",
       "      <th>En. (Stz Com)</th>\n",
       "      <th>En. (Pol Max)</th>\n",
       "      <th>En. (Pol Com)</th>\n",
       "      <th>Interpolated Retention Volume (Max)</th>\n",
       "      <th>Interpolated Retention Volume (Com)</th>\n",
       "      <th>Column Temperature [Kelvin]</th>\n",
       "    </tr>\n",
       "  </thead>\n",
       "  <tbody>\n",
       "    <tr>\n",
       "      <th>0</th>\n",
       "      <td>0.02</td>\n",
       "      <td>NONANE</td>\n",
       "      <td>dG (kJ/Mol)</td>\n",
       "      <td>NaN</td>\n",
       "      <td>NaN</td>\n",
       "      <td>NaN</td>\n",
       "      <td>NaN</td>\n",
       "      <td>557.549962</td>\n",
       "      <td>3078.691325</td>\n",
       "      <td>343.150526</td>\n",
       "    </tr>\n",
       "    <tr>\n",
       "      <th>1</th>\n",
       "      <td>0.02</td>\n",
       "      <td>OCTANE</td>\n",
       "      <td>dG (kJ/Mol)</td>\n",
       "      <td>NaN</td>\n",
       "      <td>NaN</td>\n",
       "      <td>NaN</td>\n",
       "      <td>NaN</td>\n",
       "      <td>197.166736</td>\n",
       "      <td>1176.255359</td>\n",
       "      <td>343.150067</td>\n",
       "    </tr>\n",
       "    <tr>\n",
       "      <th>2</th>\n",
       "      <td>0.02</td>\n",
       "      <td>HEPTANE</td>\n",
       "      <td>dG (kJ/Mol)</td>\n",
       "      <td>NaN</td>\n",
       "      <td>NaN</td>\n",
       "      <td>NaN</td>\n",
       "      <td>NaN</td>\n",
       "      <td>62.867565</td>\n",
       "      <td>232.659090</td>\n",
       "      <td>343.151910</td>\n",
       "    </tr>\n",
       "    <tr>\n",
       "      <th>3</th>\n",
       "      <td>0.02</td>\n",
       "      <td>HEXANE</td>\n",
       "      <td>dG (kJ/Mol)</td>\n",
       "      <td>NaN</td>\n",
       "      <td>NaN</td>\n",
       "      <td>NaN</td>\n",
       "      <td>NaN</td>\n",
       "      <td>20.590613</td>\n",
       "      <td>69.602423</td>\n",
       "      <td>343.156519</td>\n",
       "    </tr>\n",
       "    <tr>\n",
       "      <th>4</th>\n",
       "      <td>0.02</td>\n",
       "      <td>DICHLOROMETHANE</td>\n",
       "      <td>dG (kJ/Mol)</td>\n",
       "      <td>6.89429</td>\n",
       "      <td>7.233072</td>\n",
       "      <td>7.25741</td>\n",
       "      <td>7.692245</td>\n",
       "      <td>10.600887</td>\n",
       "      <td>23.526713</td>\n",
       "      <td>343.155256</td>\n",
       "    </tr>\n",
       "  </tbody>\n",
       "</table>\n",
       "</div>"
      ],
      "text/plain": [
       "   n/nm     Solvent Name         Unit  En. (Stz Max)  En. (Stz Com)  \\\n",
       "0  0.02           NONANE  dG (kJ/Mol)            NaN            NaN   \n",
       "1  0.02           OCTANE  dG (kJ/Mol)            NaN            NaN   \n",
       "2  0.02          HEPTANE  dG (kJ/Mol)            NaN            NaN   \n",
       "3  0.02           HEXANE  dG (kJ/Mol)            NaN            NaN   \n",
       "4  0.02  DICHLOROMETHANE  dG (kJ/Mol)        6.89429       7.233072   \n",
       "\n",
       "   En. (Pol Max)  En. (Pol Com)  Interpolated Retention Volume (Max)  \\\n",
       "0            NaN            NaN                           557.549962   \n",
       "1            NaN            NaN                           197.166736   \n",
       "2            NaN            NaN                            62.867565   \n",
       "3            NaN            NaN                            20.590613   \n",
       "4        7.25741       7.692245                            10.600887   \n",
       "\n",
       "   Interpolated Retention Volume (Com)  Column Temperature [Kelvin]  \n",
       "0                          3078.691325                   343.150526  \n",
       "1                          1176.255359                   343.150067  \n",
       "2                           232.659090                   343.151910  \n",
       "3                            69.602423                   343.156519  \n",
       "4                            23.526713                   343.155256  "
      ]
     },
     "execution_count": 3,
     "metadata": {},
     "output_type": "execute_result"
    }
   ],
   "source": [
    "f.head()"
   ]
  },
  {
   "cell_type": "code",
   "execution_count": 4,
   "metadata": {
    "collapsed": false
   },
   "outputs": [],
   "source": [
    "# Removes  columns that have all null values\n",
    "df = f.dropna(axis =1, how='all')"
   ]
  },
  {
   "cell_type": "code",
   "execution_count": 5,
   "metadata": {
    "collapsed": false
   },
   "outputs": [],
   "source": [
    "# Get rid of columns unrelated to dispersive solvents\n",
    "df.drop(df.columns[2:7],axis=1,inplace=True)"
   ]
  },
  {
   "cell_type": "code",
   "execution_count": 6,
   "metadata": {
    "collapsed": false
   },
   "outputs": [],
   "source": [
    "# Renames columns to make life easier\n",
    "df.rename(columns = {'n/nm' : 'n_nm',\n",
    "                     'Solvent Name' : 'solvent',\n",
    "                     'Interpolated Retention Volume (Max)' : 'max',\n",
    "                     'Interpolated Retention Volume (Com)' : 'com',\n",
    "                     'Column Temperature [Kelvin]': 'temperature (K)'},inplace=True)"
   ]
  },
  {
   "cell_type": "code",
   "execution_count": 7,
   "metadata": {
    "collapsed": true
   },
   "outputs": [],
   "source": [
    "# Gets rid of Specifc solvents\n",
    "# NOTE: IF MORE OR LESS OR DIFFERENT SOLVENTS USED CHANGE THIS LINE ACCORDINGLY\n",
    "df = df[(df.solvent != 'DICHLOROMETHANE') & (df.solvent != 'ETHYL ACETATE') & (df.solvent !='1-PROPANOL')]"
   ]
  },
  {
   "cell_type": "code",
   "execution_count": 8,
   "metadata": {
    "collapsed": false
   },
   "outputs": [],
   "source": [
    "p_d_map = {'NONANE': 43.8212,\n",
    "               'OCTANE' : 39.164,\n",
    "               'HEPTANE' : 34.574,\n",
    "               'HEXANE' : 29.89}\n"
   ]
  },
  {
   "cell_type": "code",
   "execution_count": 9,
   "metadata": {
    "collapsed": false
   },
   "outputs": [],
   "source": [
    "df['p_d'] = df['solvent'].map(p_d_map)"
   ]
  },
  {
   "cell_type": "markdown",
   "metadata": {},
   "source": [
    "# Calculations"
   ]
  },
  {
   "cell_type": "markdown",
   "metadata": {},
   "source": [
    "Gibbs Free Energy of adsorption is calculated by $\\Delta G=RT\\ln V_{n}$ ($\\frac{kJol}{Mol})$ where $V_{n}$ is the column called 'com'"
   ]
  },
  {
   "cell_type": "code",
   "execution_count": 10,
   "metadata": {
    "collapsed": false
   },
   "outputs": [],
   "source": [
    "# Import real gas const\n",
    "# RTLnVn is the Gibbs free energy of adsorption\n",
    "R= constants.R\n",
    "df['RTLnVn'] = R * df['temperature (K)'] * np.log(df['com'])"
   ]
  },
  {
   "cell_type": "code",
   "execution_count": 11,
   "metadata": {
    "collapsed": false
   },
   "outputs": [
    {
     "data": {
      "text/plain": [
       "[0.02, 0.03, 0.05, 0.07, 0.09, 0.1, 0.13, 0.15, 0.2, 0.25]"
      ]
     },
     "execution_count": 11,
     "metadata": {},
     "output_type": "execute_result"
    }
   ],
   "source": [
    "# Creates coverage list for the data set\n",
    "cov = df['n_nm'].unique().tolist()\n",
    "cov"
   ]
  },
  {
   "cell_type": "code",
   "execution_count": 12,
   "metadata": {
    "collapsed": false
   },
   "outputs": [
    {
     "data": {
      "text/plain": [
       "[   n_nm  solvent         max          com  temperature (K)      p_d  \\\n",
       " 0  0.02   NONANE  557.549962  3078.691325       343.150526  43.8212   \n",
       " 1  0.02   OCTANE  197.166736  1176.255359       343.150067  39.1640   \n",
       " 2  0.02  HEPTANE   62.867565   232.659090       343.151910  34.5740   \n",
       " 3  0.02   HEXANE   20.590613    69.602423       343.156519  29.8900   \n",
       " \n",
       "          RTLnVn  \n",
       " 0  22916.937457  \n",
       " 1  20171.735509  \n",
       " 2  15548.308617  \n",
       " 3  12105.393409  ,\n",
       "     n_nm  solvent         max          com  temperature (K)      p_d  \\\n",
       " 7   0.03   NONANE  516.553479  2638.739975       343.150526  43.8212   \n",
       " 8   0.03   OCTANE  175.318611   791.243030       343.150067  39.1640   \n",
       " 9   0.03  HEPTANE   60.318826   206.115757       343.151910  34.5740   \n",
       " 10  0.03   HEXANE   20.615158    59.780684       343.156519  29.8900   \n",
       " \n",
       "           RTLnVn  \n",
       " 7   22476.978760  \n",
       " 8   19040.517805  \n",
       " 9   15202.691758  \n",
       " 10  11671.379603  ,\n",
       "     n_nm  solvent         max          com  temperature (K)      p_d  \\\n",
       " 14  0.05   NONANE  456.910741  2044.996679       343.150526  43.8212   \n",
       " 15  0.05   OCTANE  163.714196   652.068263       343.150067  39.1640   \n",
       " 16  0.05  HEPTANE   58.452255   182.062726       343.151910  34.5740   \n",
       " 17  0.05   HEXANE   19.417669    51.484782       343.156519  29.8900   \n",
       " \n",
       "           RTLnVn  \n",
       " 14  21749.705220  \n",
       " 15  18488.567156  \n",
       " 16  14848.657184  \n",
       " 17  11245.127722  ,\n",
       "     n_nm  solvent         max          com  temperature (K)      p_d  \\\n",
       " 21  0.07   NONANE  428.021536  1742.912797       343.150526  43.8212   \n",
       " 22  0.07   OCTANE  155.788510   609.411078       343.150067  39.1640   \n",
       " 23  0.07  HEPTANE   54.744280   163.692609       343.151910  34.5740   \n",
       " 24  0.07   HEXANE   20.537729    47.153746       343.156519  29.8900   \n",
       " \n",
       "           RTLnVn  \n",
       " 21  21293.668268  \n",
       " 22  18295.536670  \n",
       " 23  14545.196267  \n",
       " 24  10994.412346  ,\n",
       "     n_nm  solvent         max          com  temperature (K)      p_d  \\\n",
       " 28  0.09   NONANE  402.035772  1547.242733       343.150526  43.8212   \n",
       " 29  0.09   OCTANE  147.311509   551.724394       343.150067  39.1640   \n",
       " 30  0.09  HEPTANE   52.320561   151.875148       343.151910  34.5740   \n",
       " 31  0.09   HEXANE   18.770975    44.339488       343.156519  29.8900   \n",
       " \n",
       "           RTLnVn  \n",
       " 28  20953.910356  \n",
       " 29  18011.811003  \n",
       " 30  14331.407312  \n",
       " 31  10818.835036  ,\n",
       "     n_nm  solvent         max          com  temperature (K)      p_d  \\\n",
       " 35   0.1   NONANE  393.715762  1480.991087       343.150526  43.8212   \n",
       " 36   0.1   OCTANE  144.835226   535.252868       343.150067  39.1640   \n",
       " 37   0.1  HEPTANE   51.310151   147.538995       343.151910  34.5740   \n",
       " 38   0.1   HEXANE   18.621736    43.145294       343.156519  29.8900   \n",
       " \n",
       "           RTLnVn  \n",
       " 35  20829.049762  \n",
       " 36  17925.335152  \n",
       " 37  14248.762955  \n",
       " 38  10740.937109  ,\n",
       "     n_nm  solvent         max          com  temperature (K)      p_d  \\\n",
       " 42  0.13   NONANE  371.896055  1323.374088       343.150526  43.8212   \n",
       " 43  0.13   OCTANE  134.593665   485.194835       343.150067  39.1640   \n",
       " 44  0.13  HEPTANE   48.866912   135.891129       343.151910  34.5740   \n",
       " 45  0.13   HEXANE   19.762119    41.709173       343.156519  29.8900   \n",
       " \n",
       "           RTLnVn  \n",
       " 42  20507.997866  \n",
       " 43  17645.192009  \n",
       " 44  14014.126440  \n",
       " 45  10644.351118  ,\n",
       "     n_nm  solvent         max          com  temperature (K)      p_d  \\\n",
       " 49  0.15   NONANE  361.838461  1265.657362       343.150526  43.8212   \n",
       " 50  0.15   OCTANE  130.999035   462.380722       343.150067  39.1640   \n",
       " 51  0.15  HEPTANE   47.949715   140.181992       343.151910  34.5740   \n",
       " 52  0.15   HEXANE   19.255216    40.793394       343.156519  29.8900   \n",
       " \n",
       "           RTLnVn  \n",
       " 49  20380.769149  \n",
       " 50  17507.780876  \n",
       " 51  14102.822855  \n",
       " 52  10581.008270  ,\n",
       "     n_nm  solvent         max          com  temperature (K)      p_d  \\\n",
       " 56   0.2   NONANE  339.821142  1132.543183       343.150526  43.8212   \n",
       " 57   0.2   OCTANE  124.875523   416.585117       343.150067  39.1640   \n",
       " 58   0.2  HEPTANE   44.471493   128.442934       343.151910  34.5740   \n",
       " 59   0.2   HEXANE   17.676407    37.661256       343.156519  29.8900   \n",
       " \n",
       "           RTLnVn  \n",
       " 56  20063.714414  \n",
       " 57  17210.207902  \n",
       " 58  13853.297762  \n",
       " 59  10353.074108  ,\n",
       "     n_nm  solvent         max          com  temperature (K)      p_d  \\\n",
       " 63  0.25   NONANE  338.806873  1045.529121       343.150526  43.8212   \n",
       " 64  0.25   OCTANE  126.805794   383.830797       343.150067  39.1640   \n",
       " 65  0.25  HEPTANE   43.098366   118.009409       343.151910  34.5740   \n",
       " 66  0.25   HEXANE   16.839650    35.280956       343.156519  29.8900   \n",
       " \n",
       "           RTLnVn  \n",
       " 63  19835.629175  \n",
       " 64  16976.569776  \n",
       " 65  13611.580137  \n",
       " 66  10166.795291  ]"
      ]
     },
     "execution_count": 12,
     "metadata": {},
     "output_type": "execute_result"
    }
   ],
   "source": [
    "# List where each element corresponds to part of dataframe with coverage value\n",
    "cov_sep_list = [df.loc[df.n_nm == i] for i in cov]\n",
    "cov_sep_list"
   ]
  },
  {
   "cell_type": "code",
   "execution_count": 13,
   "metadata": {
    "collapsed": false
   },
   "outputs": [
    {
     "name": "stderr",
     "output_type": "stream",
     "text": [
      "C:\\Users\\tcd\\Anaconda2\\lib\\site-packages\\matplotlib\\collections.py:590: FutureWarning: elementwise comparison failed; returning scalar instead, but in the future will perform elementwise comparison\n",
      "  if self._edgecolors == str('face'):\n"
     ]
    },
    {
     "data": {
      "image/png": "[encoded data removed]",
      "text/plain": [
       "<matplotlib.figure.Figure at 0x1d487e48>"
      ]
     },
     "metadata": {},
     "output_type": "display_data"
    }
   ],
   "source": [
    "a = [plt.scatter(df['p_d'],df['RTLnVn']) for df in cov_sep_list]"
   ]
  },
  {
   "cell_type": "code",
   "execution_count": 14,
   "metadata": {
    "collapsed": false
   },
   "outputs": [],
   "source": [
    "# Linear Regression on Gibbs free energy of adsorption vs carbon number\n",
    "# result is list of tuples containing slope, standard error of slope, r_value etc in a list of tuples\n",
    "result = [stats.linregress(df['p_d'],df['RTLnVn']) for df in cov_sep_list]"
   ]
  },
  {
   "cell_type": "code",
   "execution_count": 15,
   "metadata": {
    "collapsed": false
   },
   "outputs": [],
   "source": [
    "# Unzips list of tuples to individual tuples\n",
    "slopes, intercepts,r_values,p_values,std_errs = zip(*result)"
   ]
  },
  {
   "cell_type": "code",
   "execution_count": 16,
   "metadata": {
    "collapsed": false
   },
   "outputs": [
    {
     "data": {
      "text/plain": [
       "array([ 798.75074682,  781.56803331,  757.86928036,  746.9433319 ,\n",
       "        734.8213594 ,  731.70078248,  716.18924968,  707.23750305,\n",
       "        700.44156359,  697.90308276])"
      ]
     },
     "execution_count": 16,
     "metadata": {},
     "output_type": "execute_result"
    }
   ],
   "source": [
    "# turns tuples to numpy arrays for calculations\n",
    "slopes = np.array(slopes)\n",
    "slopes"
   ]
  },
  {
   "cell_type": "code",
   "execution_count": 17,
   "metadata": {
    "collapsed": false
   },
   "outputs": [],
   "source": [
    "r_values = np.array(r_values)\n",
    "std_errs = np.array(std_errs)\n",
    "intercepts = np.array(intercepts)"
   ]
  },
  {
   "cell_type": "code",
   "execution_count": 18,
   "metadata": {
    "collapsed": false
   },
   "outputs": [],
   "source": [
    "# Computes R^2 of linear fit\n",
    "r_sq_arr = r_values ** 2"
   ]
  },
  {
   "cell_type": "code",
   "execution_count": 19,
   "metadata": {
    "collapsed": false
   },
   "outputs": [
    {
     "data": {
      "text/plain": [
       "array([-11758.19590649, -11712.50333314, -11353.79045267, -11251.84579566,\n",
       "       -11058.2144697 , -11036.1525093 , -10697.46612027, -10427.30572092,\n",
       "       -10449.81350303, -10578.66921261])"
      ]
     },
     "execution_count": 19,
     "metadata": {},
     "output_type": "execute_result"
    }
   ],
   "source": [
    "intercepts"
   ]
  },
  {
   "cell_type": "code",
   "execution_count": null,
   "metadata": {
    "collapsed": true
   },
   "outputs": [],
   "source": []
  },
  {
   "cell_type": "code",
   "execution_count": null,
   "metadata": {
    "collapsed": true
   },
   "outputs": [],
   "source": []
  },
  {
   "cell_type": "code",
   "execution_count": 20,
   "metadata": {
    "collapsed": true
   },
   "outputs": [],
   "source": [
    "M_w_dcm = 16.36\n",
    "M_w_ethyl = 22.2\n",
    "M_w_pro = 17.48\n",
    "M_w_eth = 12.88\n",
    "M_w_meth = 8.24"
   ]
  },
  {
   "cell_type": "code",
   "execution_count": 21,
   "metadata": {
    "collapsed": false
   },
   "outputs": [],
   "source": [
    "disp_comp_dcm = slopes * M_w_dcm + intercepts\n",
    "disp_comp_ethyl = slopes * M_w_ethyl + intercepts\n",
    "disp_comp_pro = slopes * M_w_pro + intercepts\n",
    "disp_comp_eth = slopes * M_w_eth + intercepts\n",
    "disp_comp_meth = slopes * M_w_meth + intercepts"
   ]
  },
  {
   "cell_type": "code",
   "execution_count": null,
   "metadata": {
    "collapsed": true
   },
   "outputs": [],
   "source": []
  },
  {
   "cell_type": "code",
   "execution_count": 22,
   "metadata": {
    "collapsed": false
   },
   "outputs": [
    {
     "data": {
      "text/html": [
       "<div>\n",
       "<table border=\"1\" class=\"dataframe\">\n",
       "  <thead>\n",
       "    <tr style=\"text-align: right;\">\n",
       "      <th></th>\n",
       "      <th>n_nm</th>\n",
       "      <th>solvent</th>\n",
       "      <th>max</th>\n",
       "      <th>com</th>\n",
       "      <th>temperature (K)</th>\n",
       "      <th>RTLnVn</th>\n",
       "    </tr>\n",
       "  </thead>\n",
       "  <tbody>\n",
       "    <tr>\n",
       "      <th>0</th>\n",
       "      <td>0.02</td>\n",
       "      <td>ETHANOL</td>\n",
       "      <td>100.362352</td>\n",
       "      <td>1365.796489</td>\n",
       "      <td>343.150248</td>\n",
       "      <td>20598.005863</td>\n",
       "    </tr>\n",
       "    <tr>\n",
       "      <th>1</th>\n",
       "      <td>0.02</td>\n",
       "      <td>METHANOL</td>\n",
       "      <td>62.664133</td>\n",
       "      <td>2417.851526</td>\n",
       "      <td>343.149880</td>\n",
       "      <td>22227.511596</td>\n",
       "    </tr>\n",
       "    <tr>\n",
       "      <th>2</th>\n",
       "      <td>0.03</td>\n",
       "      <td>ETHANOL</td>\n",
       "      <td>78.108370</td>\n",
       "      <td>1821.155237</td>\n",
       "      <td>343.150248</td>\n",
       "      <td>21418.940481</td>\n",
       "    </tr>\n",
       "    <tr>\n",
       "      <th>3</th>\n",
       "      <td>0.03</td>\n",
       "      <td>METHANOL</td>\n",
       "      <td>32.591625</td>\n",
       "      <td>500.072118</td>\n",
       "      <td>343.149880</td>\n",
       "      <td>17731.351295</td>\n",
       "    </tr>\n",
       "    <tr>\n",
       "      <th>4</th>\n",
       "      <td>0.05</td>\n",
       "      <td>ETHANOL</td>\n",
       "      <td>43.236761</td>\n",
       "      <td>788.205529</td>\n",
       "      <td>343.150248</td>\n",
       "      <td>19029.553965</td>\n",
       "    </tr>\n",
       "    <tr>\n",
       "      <th>5</th>\n",
       "      <td>0.05</td>\n",
       "      <td>METHANOL</td>\n",
       "      <td>19.118700</td>\n",
       "      <td>241.190989</td>\n",
       "      <td>343.149880</td>\n",
       "      <td>15650.970856</td>\n",
       "    </tr>\n",
       "    <tr>\n",
       "      <th>6</th>\n",
       "      <td>0.07</td>\n",
       "      <td>ETHANOL</td>\n",
       "      <td>33.422293</td>\n",
       "      <td>362.681271</td>\n",
       "      <td>343.150248</td>\n",
       "      <td>16814.871840</td>\n",
       "    </tr>\n",
       "    <tr>\n",
       "      <th>7</th>\n",
       "      <td>0.07</td>\n",
       "      <td>METHANOL</td>\n",
       "      <td>14.699636</td>\n",
       "      <td>181.927345</td>\n",
       "      <td>343.149880</td>\n",
       "      <td>14846.446985</td>\n",
       "    </tr>\n",
       "    <tr>\n",
       "      <th>8</th>\n",
       "      <td>0.09</td>\n",
       "      <td>ETHANOL</td>\n",
       "      <td>28.647715</td>\n",
       "      <td>253.552011</td>\n",
       "      <td>343.150248</td>\n",
       "      <td>15793.585709</td>\n",
       "    </tr>\n",
       "    <tr>\n",
       "      <th>9</th>\n",
       "      <td>0.09</td>\n",
       "      <td>METHANOL</td>\n",
       "      <td>13.716952</td>\n",
       "      <td>152.304197</td>\n",
       "      <td>343.149880</td>\n",
       "      <td>14339.371218</td>\n",
       "    </tr>\n",
       "    <tr>\n",
       "      <th>10</th>\n",
       "      <td>0.10</td>\n",
       "      <td>ETHANOL</td>\n",
       "      <td>26.827738</td>\n",
       "      <td>218.362682</td>\n",
       "      <td>343.150248</td>\n",
       "      <td>15367.297980</td>\n",
       "    </tr>\n",
       "    <tr>\n",
       "      <th>11</th>\n",
       "      <td>0.10</td>\n",
       "      <td>METHANOL</td>\n",
       "      <td>13.146683</td>\n",
       "      <td>144.618398</td>\n",
       "      <td>343.149880</td>\n",
       "      <td>14191.633706</td>\n",
       "    </tr>\n",
       "    <tr>\n",
       "      <th>12</th>\n",
       "      <td>0.13</td>\n",
       "      <td>ETHANOL</td>\n",
       "      <td>25.148746</td>\n",
       "      <td>184.641914</td>\n",
       "      <td>343.150248</td>\n",
       "      <td>14888.720167</td>\n",
       "    </tr>\n",
       "    <tr>\n",
       "      <th>13</th>\n",
       "      <td>0.13</td>\n",
       "      <td>METHANOL</td>\n",
       "      <td>11.229963</td>\n",
       "      <td>129.551472</td>\n",
       "      <td>343.149880</td>\n",
       "      <td>13877.734142</td>\n",
       "    </tr>\n",
       "    <tr>\n",
       "      <th>14</th>\n",
       "      <td>0.15</td>\n",
       "      <td>ETHANOL</td>\n",
       "      <td>23.628132</td>\n",
       "      <td>181.461235</td>\n",
       "      <td>343.150248</td>\n",
       "      <td>14839.143684</td>\n",
       "    </tr>\n",
       "    <tr>\n",
       "      <th>15</th>\n",
       "      <td>0.15</td>\n",
       "      <td>METHANOL</td>\n",
       "      <td>10.996566</td>\n",
       "      <td>113.154554</td>\n",
       "      <td>343.149880</td>\n",
       "      <td>13491.641341</td>\n",
       "    </tr>\n",
       "    <tr>\n",
       "      <th>16</th>\n",
       "      <td>0.20</td>\n",
       "      <td>ETHANOL</td>\n",
       "      <td>21.317026</td>\n",
       "      <td>85.078793</td>\n",
       "      <td>343.150248</td>\n",
       "      <td>12678.015090</td>\n",
       "    </tr>\n",
       "    <tr>\n",
       "      <th>17</th>\n",
       "      <td>0.20</td>\n",
       "      <td>METHANOL</td>\n",
       "      <td>9.992248</td>\n",
       "      <td>71.615738</td>\n",
       "      <td>343.149880</td>\n",
       "      <td>12186.516897</td>\n",
       "    </tr>\n",
       "    <tr>\n",
       "      <th>18</th>\n",
       "      <td>0.25</td>\n",
       "      <td>ETHANOL</td>\n",
       "      <td>21.189874</td>\n",
       "      <td>67.017301</td>\n",
       "      <td>343.150248</td>\n",
       "      <td>11997.186075</td>\n",
       "    </tr>\n",
       "    <tr>\n",
       "      <th>19</th>\n",
       "      <td>0.25</td>\n",
       "      <td>METHANOL</td>\n",
       "      <td>7.868353</td>\n",
       "      <td>53.928352</td>\n",
       "      <td>343.149880</td>\n",
       "      <td>11377.208933</td>\n",
       "    </tr>\n",
       "  </tbody>\n",
       "</table>\n",
       "</div>"
      ],
      "text/plain": [
       "    n_nm   solvent         max          com  temperature (K)        RTLnVn\n",
       "0   0.02   ETHANOL  100.362352  1365.796489       343.150248  20598.005863\n",
       "1   0.02  METHANOL   62.664133  2417.851526       343.149880  22227.511596\n",
       "2   0.03   ETHANOL   78.108370  1821.155237       343.150248  21418.940481\n",
       "3   0.03  METHANOL   32.591625   500.072118       343.149880  17731.351295\n",
       "4   0.05   ETHANOL   43.236761   788.205529       343.150248  19029.553965\n",
       "5   0.05  METHANOL   19.118700   241.190989       343.149880  15650.970856\n",
       "6   0.07   ETHANOL   33.422293   362.681271       343.150248  16814.871840\n",
       "7   0.07  METHANOL   14.699636   181.927345       343.149880  14846.446985\n",
       "8   0.09   ETHANOL   28.647715   253.552011       343.150248  15793.585709\n",
       "9   0.09  METHANOL   13.716952   152.304197       343.149880  14339.371218\n",
       "10  0.10   ETHANOL   26.827738   218.362682       343.150248  15367.297980\n",
       "11  0.10  METHANOL   13.146683   144.618398       343.149880  14191.633706\n",
       "12  0.13   ETHANOL   25.148746   184.641914       343.150248  14888.720167\n",
       "13  0.13  METHANOL   11.229963   129.551472       343.149880  13877.734142\n",
       "14  0.15   ETHANOL   23.628132   181.461235       343.150248  14839.143684\n",
       "15  0.15  METHANOL   10.996566   113.154554       343.149880  13491.641341\n",
       "16  0.20   ETHANOL   21.317026    85.078793       343.150248  12678.015090\n",
       "17  0.20  METHANOL    9.992248    71.615738       343.149880  12186.516897\n",
       "18  0.25   ETHANOL   21.189874    67.017301       343.150248  11997.186075\n",
       "19  0.25  METHANOL    7.868353    53.928352       343.149880  11377.208933"
      ]
     },
     "execution_count": 22,
     "metadata": {},
     "output_type": "execute_result"
    }
   ],
   "source": [
    "hydrogen_df = pd.read_csv(\"C:\\\\Users\\\\tcd\\\\Google Drive\\\\NiCoH2\\\\hydrogen_probes.csv\",skiprows=8,nrows=20,\n",
    "                encoding='utf-16', delimiter='\\t')\n",
    "#hydrogen_df = f.dropna(axis =1, how='all')\n",
    "hydrogen_df.drop(hydrogen_df.columns[2:7],axis=1,inplace=True)\n",
    "hydrogen_df.rename(columns = {'n/nm' : 'n_nm',\n",
    "                     'Solvent Name' : 'solvent',\n",
    "                     'Interpolated Retention Volume (Max)' : 'max',\n",
    "                     'Interpolated Retention Volume (Com)' : 'com',\n",
    "                     'Column Temperature [Kelvin]': 'temperature (K)'},inplace=True) \n",
    "hydrogen_df['RTLnVn'] = R * hydrogen_df['temperature (K)'] * np.log(hydrogen_df['com'])\n",
    "hydrogen_df"
   ]
  },
  {
   "cell_type": "code",
   "execution_count": 23,
   "metadata": {
    "collapsed": false
   },
   "outputs": [],
   "source": [
    "specific_df = pd.read_csv(\"C:\\\\Users\\\\tcd\\\\Google Drive\\\\NiCoH2\\\\test.csv\",skiprows=8,nrows=70,\n",
    "                encoding='utf-16', delimiter='\\t')"
   ]
  },
  {
   "cell_type": "code",
   "execution_count": 24,
   "metadata": {
    "collapsed": true
   },
   "outputs": [],
   "source": [
    "specific_df = f.dropna(axis =1, how='all')"
   ]
  },
  {
   "cell_type": "code",
   "execution_count": 25,
   "metadata": {
    "collapsed": false
   },
   "outputs": [],
   "source": [
    "specific_df.drop(specific_df.columns[2:7],axis=1,inplace=True)"
   ]
  },
  {
   "cell_type": "code",
   "execution_count": 26,
   "metadata": {
    "collapsed": false
   },
   "outputs": [
    {
     "data": {
      "text/html": [
       "<div>\n",
       "<table border=\"1\" class=\"dataframe\">\n",
       "  <thead>\n",
       "    <tr style=\"text-align: right;\">\n",
       "      <th></th>\n",
       "      <th>n_nm</th>\n",
       "      <th>solvent</th>\n",
       "      <th>max</th>\n",
       "      <th>com</th>\n",
       "      <th>temperature (K)</th>\n",
       "      <th>RTLnVn</th>\n",
       "    </tr>\n",
       "  </thead>\n",
       "  <tbody>\n",
       "    <tr>\n",
       "      <th>62</th>\n",
       "      <td>0.20</td>\n",
       "      <td>1-PROPANOL</td>\n",
       "      <td>59.684283</td>\n",
       "      <td>237.084206</td>\n",
       "      <td>343.151751</td>\n",
       "      <td>15602.057485</td>\n",
       "    </tr>\n",
       "    <tr>\n",
       "      <th>63</th>\n",
       "      <td>0.25</td>\n",
       "      <td>NONANE</td>\n",
       "      <td>338.806873</td>\n",
       "      <td>1045.529121</td>\n",
       "      <td>343.150526</td>\n",
       "      <td>19835.629175</td>\n",
       "    </tr>\n",
       "    <tr>\n",
       "      <th>64</th>\n",
       "      <td>0.25</td>\n",
       "      <td>OCTANE</td>\n",
       "      <td>126.805794</td>\n",
       "      <td>383.830797</td>\n",
       "      <td>343.150067</td>\n",
       "      <td>16976.569776</td>\n",
       "    </tr>\n",
       "    <tr>\n",
       "      <th>65</th>\n",
       "      <td>0.25</td>\n",
       "      <td>HEPTANE</td>\n",
       "      <td>43.098366</td>\n",
       "      <td>118.009409</td>\n",
       "      <td>343.151910</td>\n",
       "      <td>13611.580137</td>\n",
       "    </tr>\n",
       "    <tr>\n",
       "      <th>66</th>\n",
       "      <td>0.25</td>\n",
       "      <td>HEXANE</td>\n",
       "      <td>16.839650</td>\n",
       "      <td>35.280956</td>\n",
       "      <td>343.156519</td>\n",
       "      <td>10166.795291</td>\n",
       "    </tr>\n",
       "    <tr>\n",
       "      <th>67</th>\n",
       "      <td>0.25</td>\n",
       "      <td>DICHLOROMETHANE</td>\n",
       "      <td>9.405629</td>\n",
       "      <td>14.726561</td>\n",
       "      <td>343.155256</td>\n",
       "      <td>7673.986373</td>\n",
       "    </tr>\n",
       "    <tr>\n",
       "      <th>68</th>\n",
       "      <td>0.25</td>\n",
       "      <td>ETHYL ACETATE</td>\n",
       "      <td>19.768204</td>\n",
       "      <td>92.843753</td>\n",
       "      <td>343.151347</td>\n",
       "      <td>12927.247633</td>\n",
       "    </tr>\n",
       "    <tr>\n",
       "      <th>69</th>\n",
       "      <td>0.25</td>\n",
       "      <td>1-PROPANOL</td>\n",
       "      <td>59.271042</td>\n",
       "      <td>203.948271</td>\n",
       "      <td>343.151751</td>\n",
       "      <td>15172.522820</td>\n",
       "    </tr>\n",
       "  </tbody>\n",
       "</table>\n",
       "</div>"
      ],
      "text/plain": [
       "    n_nm          solvent         max          com  temperature (K)  \\\n",
       "62  0.20       1-PROPANOL   59.684283   237.084206       343.151751   \n",
       "63  0.25           NONANE  338.806873  1045.529121       343.150526   \n",
       "64  0.25           OCTANE  126.805794   383.830797       343.150067   \n",
       "65  0.25          HEPTANE   43.098366   118.009409       343.151910   \n",
       "66  0.25           HEXANE   16.839650    35.280956       343.156519   \n",
       "67  0.25  DICHLOROMETHANE    9.405629    14.726561       343.155256   \n",
       "68  0.25    ETHYL ACETATE   19.768204    92.843753       343.151347   \n",
       "69  0.25       1-PROPANOL   59.271042   203.948271       343.151751   \n",
       "\n",
       "          RTLnVn  \n",
       "62  15602.057485  \n",
       "63  19835.629175  \n",
       "64  16976.569776  \n",
       "65  13611.580137  \n",
       "66  10166.795291  \n",
       "67   7673.986373  \n",
       "68  12927.247633  \n",
       "69  15172.522820  "
      ]
     },
     "execution_count": 26,
     "metadata": {},
     "output_type": "execute_result"
    }
   ],
   "source": [
    "specific_df.rename(columns = {'n/nm' : 'n_nm',\n",
    "                     'Solvent Name' : 'solvent',\n",
    "                     'Interpolated Retention Volume (Max)' : 'max',\n",
    "                     'Interpolated Retention Volume (Com)' : 'com',\n",
    "                     'Column Temperature [Kelvin]': 'temperature (K)'},inplace=True)\n",
    "specific_df['RTLnVn'] = R * specific_df['temperature (K)'] * np.log(specific_df['com'])\n",
    "specific_df.tail(8)"
   ]
  },
  {
   "cell_type": "code",
   "execution_count": 27,
   "metadata": {
    "collapsed": false
   },
   "outputs": [],
   "source": [
    "df_dcm = specific_df.loc[specific_df['solvent'] == 'DICHLOROMETHANE']\n",
    "df_ethyl = specific_df.loc[specific_df['solvent'] == 'ETHYL ACETATE']\n",
    "df_pro = specific_df.loc[specific_df['solvent'] == '1-PROPANOL']\n",
    "df_ethanol = hydrogen_df.loc[hydrogen_df['solvent'] == 'ETHANOL']\n",
    "df_methanol = hydrogen_df.loc[hydrogen_df['solvent'] == 'METHANOL']"
   ]
  },
  {
   "cell_type": "code",
   "execution_count": 28,
   "metadata": {
    "collapsed": false
   },
   "outputs": [],
   "source": [
    "delta_G_dcm = df_dcm.RTLnVn.values\n",
    "delta_G_ethyl = df_ethyl.RTLnVn.values\n",
    "delta_G_pro = df_pro.RTLnVn.values\n",
    "delta_G_eth = df_ethanol.RTLnVn.values\n",
    "delta_G_meth = df_methanol.RTLnVn.values"
   ]
  },
  {
   "cell_type": "code",
   "execution_count": 29,
   "metadata": {
    "collapsed": false
   },
   "outputs": [],
   "source": [
    "dcm_specific = delta_G_dcm - disp_comp_dcm\n",
    "ethyl_specific = delta_G_ethyl - disp_comp_ethyl\n",
    "pro_specific = delta_G_pro - disp_comp_pro\n",
    "eth_specific = delta_G_eth - disp_comp_eth\n",
    "meth_specific = delta_G_meth - disp_comp_meth"
   ]
  },
  {
   "cell_type": "code",
   "execution_count": 33,
   "metadata": {
    "collapsed": false
   },
   "outputs": [
    {
     "data": {
      "text/plain": [
       "array([ 7701.27517821,  7481.39627231,  7381.69481828,  7279.23892712,\n",
       "        7062.23488274,  7044.02159292,  6809.59685802,  6607.49620735,\n",
       "        6730.02741961,  6834.96115124])"
      ]
     },
     "execution_count": 33,
     "metadata": {},
     "output_type": "execute_result"
    }
   ],
   "source": [
    "dcm_specific"
   ]
  },
  {
   "cell_type": "code",
   "execution_count": 34,
   "metadata": {
    "collapsed": false
   },
   "outputs": [
    {
     "data": {
      "text/plain": [
       "array([ 12013.23278852,  11854.72133296,  11286.75676176,  10876.63257671,\n",
       "        10453.07640759,  10064.1355022 ,   8943.69295421,   8651.1899332 ,\n",
       "         8290.60864207,   8012.46840798])"
      ]
     },
     "execution_count": 34,
     "metadata": {},
     "output_type": "execute_result"
    }
   ],
   "source": [
    "ethyl_specific"
   ]
  },
  {
   "cell_type": "code",
   "execution_count": 35,
   "metadata": {
    "collapsed": false
   },
   "outputs": [
    {
     "data": {
      "text/plain": [
       "array([ 20195.92090722,  19529.75047214,  17385.13889143,  16685.50768278,\n",
       "        16083.19426208,  15557.77076657,  14262.90223164,  13989.48729161,\n",
       "        13808.15245672,  13551.84614605])"
      ]
     },
     "execution_count": 35,
     "metadata": {},
     "output_type": "execute_result"
    }
   ],
   "source": [
    "pro_specific"
   ]
  },
  {
   "cell_type": "code",
   "execution_count": 36,
   "metadata": {
    "collapsed": false
   },
   "outputs": [
    {
     "data": {
      "text/plain": [
       "array([ 22068.29215055,  23064.84754513,  20621.98808652,  18446.08752052,\n",
       "        17387.30106946,  16979.14441109,  16361.66875113,  16157.2303655 ,\n",
       "        14106.14125358,  13586.86358207])"
      ]
     },
     "execution_count": 36,
     "metadata": {},
     "output_type": "execute_result"
    }
   ],
   "source": [
    "eth_specific"
   ]
  },
  {
   "cell_type": "code",
   "execution_count": 37,
   "metadata": {
    "collapsed": false
   },
   "outputs": [
    {
     "data": {
      "text/plain": [
       "array([ 27404.00134884,  23003.73403331,  20759.91843836,  19943.47972538,\n",
       "        19342.65768593,  19198.57176814,  18673.8008453 ,  18091.31003694,\n",
       "        16864.6919159 ,  16205.15674379])"
      ]
     },
     "execution_count": 37,
     "metadata": {},
     "output_type": "execute_result"
    }
   ],
   "source": [
    "meth_specific"
   ]
  },
  {
   "cell_type": "code",
   "execution_count": 60,
   "metadata": {
    "collapsed": false
   },
   "outputs": [
    {
     "data": {
      "image/png": "[encoded data removed]",
      "text/plain": [
       "<matplotlib.figure.Figure at 0x1fb4ec50>"
      ]
     },
     "metadata": {},
     "output_type": "display_data"
    }
   ],
   "source": [
    "color = ['y','g','r','k','c']\n",
    "solvent = [dcm_specific,ethyl_specific,pro_specific,eth_specific,meth_specific]\n",
    "label = ['Dichlormethane','Ethyl acetate', '1-Propanol','Ethanol','Methanol']\n",
    "for x, k,o in zip(solvent,color,label):\n",
    "    plt.scatter(cov,x,c=k,label=o)\n",
    "    plt.legend(loc='best')"
   ]
  },
  {
   "cell_type": "code",
   "execution_count": 67,
   "metadata": {
    "collapsed": true
   },
   "outputs": [],
   "source": [
    "specfic_results= DataFrame({\n",
    "                           'Coverage':cov,\n",
    "                           'Dichlormethane (J/mol)': dcm_specific,\n",
    "                           'Ethyl acetate (J/mol)': ethyl_specific,\n",
    "                           'Propanol (J/mol)' : pro_specific,\n",
    "                           'Ethanol (J/mol)' : eth_specific,\n",
    "                           'Methanol (J/mol)' : meth_specific\n",
    "    })"
   ]
  },
  {
   "cell_type": "code",
   "execution_count": 68,
   "metadata": {
    "collapsed": false
   },
   "outputs": [
    {
     "data": {
      "text/html": [
       "<div>\n",
       "<table border=\"1\" class=\"dataframe\">\n",
       "  <thead>\n",
       "    <tr style=\"text-align: right;\">\n",
       "      <th></th>\n",
       "      <th>Coverage</th>\n",
       "      <th>Dichlormethane (J/mol)</th>\n",
       "      <th>Ethanol (J/mol)</th>\n",
       "      <th>Ethyl acetate (J/mol)</th>\n",
       "      <th>Methanol (J/mol)</th>\n",
       "      <th>Propanol (J/mol)</th>\n",
       "    </tr>\n",
       "  </thead>\n",
       "  <tbody>\n",
       "    <tr>\n",
       "      <th>0</th>\n",
       "      <td>0.02</td>\n",
       "      <td>7701.275178</td>\n",
       "      <td>22068.292151</td>\n",
       "      <td>12013.232789</td>\n",
       "      <td>27404.001349</td>\n",
       "      <td>20195.920907</td>\n",
       "    </tr>\n",
       "    <tr>\n",
       "      <th>1</th>\n",
       "      <td>0.03</td>\n",
       "      <td>7481.396272</td>\n",
       "      <td>23064.847545</td>\n",
       "      <td>11854.721333</td>\n",
       "      <td>23003.734033</td>\n",
       "      <td>19529.750472</td>\n",
       "    </tr>\n",
       "    <tr>\n",
       "      <th>2</th>\n",
       "      <td>0.05</td>\n",
       "      <td>7381.694818</td>\n",
       "      <td>20621.988087</td>\n",
       "      <td>11286.756762</td>\n",
       "      <td>20759.918438</td>\n",
       "      <td>17385.138891</td>\n",
       "    </tr>\n",
       "    <tr>\n",
       "      <th>3</th>\n",
       "      <td>0.07</td>\n",
       "      <td>7279.238927</td>\n",
       "      <td>18446.087521</td>\n",
       "      <td>10876.632577</td>\n",
       "      <td>19943.479725</td>\n",
       "      <td>16685.507683</td>\n",
       "    </tr>\n",
       "    <tr>\n",
       "      <th>4</th>\n",
       "      <td>0.09</td>\n",
       "      <td>7062.234883</td>\n",
       "      <td>17387.301069</td>\n",
       "      <td>10453.076408</td>\n",
       "      <td>19342.657686</td>\n",
       "      <td>16083.194262</td>\n",
       "    </tr>\n",
       "    <tr>\n",
       "      <th>5</th>\n",
       "      <td>0.10</td>\n",
       "      <td>7044.021593</td>\n",
       "      <td>16979.144411</td>\n",
       "      <td>10064.135502</td>\n",
       "      <td>19198.571768</td>\n",
       "      <td>15557.770767</td>\n",
       "    </tr>\n",
       "    <tr>\n",
       "      <th>6</th>\n",
       "      <td>0.13</td>\n",
       "      <td>6809.596858</td>\n",
       "      <td>16361.668751</td>\n",
       "      <td>8943.692954</td>\n",
       "      <td>18673.800845</td>\n",
       "      <td>14262.902232</td>\n",
       "    </tr>\n",
       "    <tr>\n",
       "      <th>7</th>\n",
       "      <td>0.15</td>\n",
       "      <td>6607.496207</td>\n",
       "      <td>16157.230365</td>\n",
       "      <td>8651.189933</td>\n",
       "      <td>18091.310037</td>\n",
       "      <td>13989.487292</td>\n",
       "    </tr>\n",
       "    <tr>\n",
       "      <th>8</th>\n",
       "      <td>0.20</td>\n",
       "      <td>6730.027420</td>\n",
       "      <td>14106.141254</td>\n",
       "      <td>8290.608642</td>\n",
       "      <td>16864.691916</td>\n",
       "      <td>13808.152457</td>\n",
       "    </tr>\n",
       "    <tr>\n",
       "      <th>9</th>\n",
       "      <td>0.25</td>\n",
       "      <td>6834.961151</td>\n",
       "      <td>13586.863582</td>\n",
       "      <td>8012.468408</td>\n",
       "      <td>16205.156744</td>\n",
       "      <td>13551.846146</td>\n",
       "    </tr>\n",
       "  </tbody>\n",
       "</table>\n",
       "</div>"
      ],
      "text/plain": [
       "   Coverage  Dichlormethane (J/mol)  Ethanol (J/mol)  Ethyl acetate (J/mol)  \\\n",
       "0      0.02             7701.275178     22068.292151           12013.232789   \n",
       "1      0.03             7481.396272     23064.847545           11854.721333   \n",
       "2      0.05             7381.694818     20621.988087           11286.756762   \n",
       "3      0.07             7279.238927     18446.087521           10876.632577   \n",
       "4      0.09             7062.234883     17387.301069           10453.076408   \n",
       "5      0.10             7044.021593     16979.144411           10064.135502   \n",
       "6      0.13             6809.596858     16361.668751            8943.692954   \n",
       "7      0.15             6607.496207     16157.230365            8651.189933   \n",
       "8      0.20             6730.027420     14106.141254            8290.608642   \n",
       "9      0.25             6834.961151     13586.863582            8012.468408   \n",
       "\n",
       "   Methanol (J/mol)  Propanol (J/mol)  \n",
       "0      27404.001349      20195.920907  \n",
       "1      23003.734033      19529.750472  \n",
       "2      20759.918438      17385.138891  \n",
       "3      19943.479725      16685.507683  \n",
       "4      19342.657686      16083.194262  \n",
       "5      19198.571768      15557.770767  \n",
       "6      18673.800845      14262.902232  \n",
       "7      18091.310037      13989.487292  \n",
       "8      16864.691916      13808.152457  \n",
       "9      16205.156744      13551.846146  "
      ]
     },
     "execution_count": 68,
     "metadata": {},
     "output_type": "execute_result"
    }
   ],
   "source": [
    "specfic_results"
   ]
  },
  {
   "cell_type": "code",
   "execution_count": 69,
   "metadata": {
    "collapsed": true
   },
   "outputs": [],
   "source": [
    "export_specifc_results = specfic_results.to_csv(\"C:\\\\Users\\\\tcd\\\\Google Drive\\\\NiCoH2\\\\specific_results_15May.csv\")"
   ]
  },
  {
   "cell_type": "code",
   "execution_count": null,
   "metadata": {
    "collapsed": true
   },
   "outputs": [],
   "source": []
  }
 ],
 "metadata": {
  "kernelspec": {
   "display_name": "Python 2",
   "language": "python",
   "name": "python2"
  },
  "language_info": {
   "codemirror_mode": {
    "name": "ipython",
    "version": 2
   },
   "file_extension": ".py",
   "mimetype": "text/x-python",
   "name": "python",
   "nbconvert_exporter": "python",
   "pygments_lexer": "ipython2",
   "version": "2.7.11"
  }
 },
 "nbformat": 4,
 "nbformat_minor": 0
}
