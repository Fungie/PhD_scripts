{
 "cells": [
  {
   "cell_type": "markdown",
   "metadata": {},
   "source": [
    "This script is for calculating the specific surface area ($S_{BET}$) of a solid sample, including error from Inverse Gas Chromatography measurements, specifically those done on the SEA (Surface energy analyser). Measured parameters are imported from a csv file and the specific surface area of the sample is printed at the end of the document along with visualisations of the adsorption isotherm and BET plot."
   ]
  },
  {
   "cell_type": "code",
   "execution_count": 30,
   "metadata": {
    "collapsed": true
   },
   "outputs": [],
   "source": [
    "import pandas as pd\n",
    "import numpy as np\n",
    "from pandas import Series,DataFrame\n",
    "from scipy import stats, constants\n",
    "import matplotlib.pyplot as plt\n",
    "%matplotlib inline"
   ]
  },
  {
   "cell_type": "markdown",
   "metadata": {},
   "source": [
    "# Organising data"
   ]
  },
  {
   "cell_type": "code",
   "execution_count": 31,
   "metadata": {
    "collapsed": false
   },
   "outputs": [
    {
     "name": "stdout",
     "output_type": "stream",
     "text": [
      "Copy path to input file here \n",
      "make sure to insert extra \"\\\" and remove \"\" \n",
      "C:\\\\Users\\\\tcd\\\\Dropbox\\\\Graphite study\\\\Surface area error calcs\\\\12-henglide.csv\n"
     ]
    }
   ],
   "source": [
    "# Reads csv input file and skips rows to where data start\n",
    "input_file = raw_input('Copy path to input file here \\nmake sure to insert extra \"\\\\\" and remove \"\" \\n')\n",
    "df = pd.read_csv(input_file, skiprows = 17)"
   ]
  },
  {
   "cell_type": "code",
   "execution_count": 32,
   "metadata": {
    "collapsed": false
   },
   "outputs": [
    {
     "data": {
      "text/html": [
       "<div>\n",
       "<table border=\"1\" class=\"dataframe\">\n",
       "  <thead>\n",
       "    <tr style=\"text-align: right;\">\n",
       "      <th></th>\n",
       "      <th>ID</th>\n",
       "      <th>Injection Name</th>\n",
       "      <th>Solvent</th>\n",
       "      <th>Injection Time [ms]</th>\n",
       "      <th>Duration [min]</th>\n",
       "      <th>Target Fractional Surface Coverage</th>\n",
       "      <th>Actual Fractional Surface Coverage</th>\n",
       "      <th>Column Temperature [Kelvin]</th>\n",
       "      <th>Column Pressure Drop [Torr]</th>\n",
       "      <th>Exit Flow Rate [sccm]</th>\n",
       "      <th>...</th>\n",
       "      <th>Net Ret Volume (Max) [ml/g]</th>\n",
       "      <th>Net Ret Time (Com) [min]</th>\n",
       "      <th>Net Ret Volume (Com) [ml/g]</th>\n",
       "      <th>Partial Pressure [Torr]</th>\n",
       "      <th>Pres Ret Volume (Max) [mMol/(g�Torr)]</th>\n",
       "      <th>Pres Ret Volume (Com) [mMol/(g�Torr)]</th>\n",
       "      <th>Amount  [mMol/g]</th>\n",
       "      <th>Amount  [mMol]</th>\n",
       "      <th>Amount (Max) [mMol/g]</th>\n",
       "      <th>Amount (Com) [mMol/g]</th>\n",
       "    </tr>\n",
       "  </thead>\n",
       "  <tbody>\n",
       "    <tr>\n",
       "      <th>3</th>\n",
       "      <td>4</td>\n",
       "      <td>injection1</td>\n",
       "      <td>OCTANE</td>\n",
       "      <td>938</td>\n",
       "      <td>50</td>\n",
       "      <td>0.05</td>\n",
       "      <td>0.046258</td>\n",
       "      <td>293.117630</td>\n",
       "      <td>41.846560</td>\n",
       "      <td>19.992500</td>\n",
       "      <td>...</td>\n",
       "      <td>3800.381636</td>\n",
       "      <td>12.381437</td>\n",
       "      <td>14726.620840</td>\n",
       "      <td>0.001236</td>\n",
       "      <td>0.207898</td>\n",
       "      <td>0.805614</td>\n",
       "      <td>0.001219</td>\n",
       "      <td>0.000021</td>\n",
       "      <td>0.000257</td>\n",
       "      <td>0.000995</td>\n",
       "    </tr>\n",
       "    <tr>\n",
       "      <th>4</th>\n",
       "      <td>5</td>\n",
       "      <td>injection2</td>\n",
       "      <td>OCTANE</td>\n",
       "      <td>1825</td>\n",
       "      <td>50</td>\n",
       "      <td>0.1</td>\n",
       "      <td>0.089639</td>\n",
       "      <td>293.156741</td>\n",
       "      <td>41.932402</td>\n",
       "      <td>20.012500</td>\n",
       "      <td>...</td>\n",
       "      <td>132.420381</td>\n",
       "      <td>7.108242</td>\n",
       "      <td>8463.737004</td>\n",
       "      <td>0.040520</td>\n",
       "      <td>0.007243</td>\n",
       "      <td>0.462944</td>\n",
       "      <td>0.002363</td>\n",
       "      <td>0.000041</td>\n",
       "      <td>0.000541</td>\n",
       "      <td>0.019182</td>\n",
       "    </tr>\n",
       "    <tr>\n",
       "      <th>5</th>\n",
       "      <td>6</td>\n",
       "      <td>injection3</td>\n",
       "      <td>OCTANE</td>\n",
       "      <td>2662</td>\n",
       "      <td>50</td>\n",
       "      <td>0.15</td>\n",
       "      <td>0.127934</td>\n",
       "      <td>293.156145</td>\n",
       "      <td>42.375900</td>\n",
       "      <td>20.007500</td>\n",
       "      <td>...</td>\n",
       "      <td>76.832975</td>\n",
       "      <td>2.191465</td>\n",
       "      <td>2607.952276</td>\n",
       "      <td>0.350184</td>\n",
       "      <td>0.004203</td>\n",
       "      <td>0.142648</td>\n",
       "      <td>0.003372</td>\n",
       "      <td>0.000059</td>\n",
       "      <td>0.001843</td>\n",
       "      <td>0.063355</td>\n",
       "    </tr>\n",
       "    <tr>\n",
       "      <th>6</th>\n",
       "      <td>7</td>\n",
       "      <td>injection4</td>\n",
       "      <td>OCTANE</td>\n",
       "      <td>3454</td>\n",
       "      <td>46</td>\n",
       "      <td>0.2</td>\n",
       "      <td>0.146853</td>\n",
       "      <td>293.152411</td>\n",
       "      <td>42.404514</td>\n",
       "      <td>19.997500</td>\n",
       "      <td>...</td>\n",
       "      <td>74.749937</td>\n",
       "      <td>0.491835</td>\n",
       "      <td>584.997075</td>\n",
       "      <td>0.820935</td>\n",
       "      <td>0.004089</td>\n",
       "      <td>0.031998</td>\n",
       "      <td>0.003871</td>\n",
       "      <td>0.000068</td>\n",
       "      <td>0.003768</td>\n",
       "      <td>0.078418</td>\n",
       "    </tr>\n",
       "    <tr>\n",
       "      <th>7</th>\n",
       "      <td>8</td>\n",
       "      <td>injection5</td>\n",
       "      <td>OCTANE</td>\n",
       "      <td>4203</td>\n",
       "      <td>25</td>\n",
       "      <td>0.25</td>\n",
       "      <td>0.203120</td>\n",
       "      <td>293.147960</td>\n",
       "      <td>42.361591</td>\n",
       "      <td>19.995000</td>\n",
       "      <td>...</td>\n",
       "      <td>76.783545</td>\n",
       "      <td>0.426178</td>\n",
       "      <td>506.847209</td>\n",
       "      <td>1.345420</td>\n",
       "      <td>0.004200</td>\n",
       "      <td>0.027724</td>\n",
       "      <td>0.005354</td>\n",
       "      <td>0.000094</td>\n",
       "      <td>0.005970</td>\n",
       "      <td>0.092959</td>\n",
       "    </tr>\n",
       "    <tr>\n",
       "      <th>8</th>\n",
       "      <td>9</td>\n",
       "      <td>injection6</td>\n",
       "      <td>OCTANE</td>\n",
       "      <td>4912</td>\n",
       "      <td>25</td>\n",
       "      <td>0.3</td>\n",
       "      <td>0.253532</td>\n",
       "      <td>293.154724</td>\n",
       "      <td>42.347284</td>\n",
       "      <td>20.000000</td>\n",
       "      <td>...</td>\n",
       "      <td>80.770237</td>\n",
       "      <td>0.198853</td>\n",
       "      <td>236.559873</td>\n",
       "      <td>1.930911</td>\n",
       "      <td>0.004418</td>\n",
       "      <td>0.012939</td>\n",
       "      <td>0.006683</td>\n",
       "      <td>0.000117</td>\n",
       "      <td>0.008557</td>\n",
       "      <td>0.100535</td>\n",
       "    </tr>\n",
       "    <tr>\n",
       "      <th>9</th>\n",
       "      <td>10</td>\n",
       "      <td>injection7</td>\n",
       "      <td>OCTANE</td>\n",
       "      <td>5585</td>\n",
       "      <td>25</td>\n",
       "      <td>0.35</td>\n",
       "      <td>0.304615</td>\n",
       "      <td>293.151719</td>\n",
       "      <td>42.275755</td>\n",
       "      <td>19.980000</td>\n",
       "      <td>...</td>\n",
       "      <td>88.595746</td>\n",
       "      <td>0.152382</td>\n",
       "      <td>181.101833</td>\n",
       "      <td>2.382418</td>\n",
       "      <td>0.004846</td>\n",
       "      <td>0.009906</td>\n",
       "      <td>0.008029</td>\n",
       "      <td>0.000141</td>\n",
       "      <td>0.010745</td>\n",
       "      <td>0.105007</td>\n",
       "    </tr>\n",
       "    <tr>\n",
       "      <th>10</th>\n",
       "      <td>11</td>\n",
       "      <td>injection8</td>\n",
       "      <td>OCTANE</td>\n",
       "      <td>6226</td>\n",
       "      <td>20</td>\n",
       "      <td>0.4</td>\n",
       "      <td>0.349905</td>\n",
       "      <td>293.151485</td>\n",
       "      <td>42.175610</td>\n",
       "      <td>19.980000</td>\n",
       "      <td>...</td>\n",
       "      <td>90.582772</td>\n",
       "      <td>0.110313</td>\n",
       "      <td>131.112892</td>\n",
       "      <td>2.785407</td>\n",
       "      <td>0.004955</td>\n",
       "      <td>0.007172</td>\n",
       "      <td>0.009223</td>\n",
       "      <td>0.000162</td>\n",
       "      <td>0.012742</td>\n",
       "      <td>0.107898</td>\n",
       "    </tr>\n",
       "    <tr>\n",
       "      <th>11</th>\n",
       "      <td>12</td>\n",
       "      <td>injection9</td>\n",
       "      <td>OCTANE</td>\n",
       "      <td>6838</td>\n",
       "      <td>20</td>\n",
       "      <td>0.45</td>\n",
       "      <td>0.407123</td>\n",
       "      <td>293.151644</td>\n",
       "      <td>42.218525</td>\n",
       "      <td>19.982500</td>\n",
       "      <td>...</td>\n",
       "      <td>94.553445</td>\n",
       "      <td>0.106826</td>\n",
       "      <td>126.980045</td>\n",
       "      <td>3.168737</td>\n",
       "      <td>0.005172</td>\n",
       "      <td>0.006946</td>\n",
       "      <td>0.010731</td>\n",
       "      <td>0.000188</td>\n",
       "      <td>0.014724</td>\n",
       "      <td>0.110560</td>\n",
       "    </tr>\n",
       "    <tr>\n",
       "      <th>12</th>\n",
       "      <td>13</td>\n",
       "      <td>injection10</td>\n",
       "      <td>OCTANE</td>\n",
       "      <td>7426</td>\n",
       "      <td>20</td>\n",
       "      <td>0.5</td>\n",
       "      <td>0.461307</td>\n",
       "      <td>293.152359</td>\n",
       "      <td>42.232834</td>\n",
       "      <td>19.990000</td>\n",
       "      <td>...</td>\n",
       "      <td>100.414892</td>\n",
       "      <td>0.105476</td>\n",
       "      <td>125.421411</td>\n",
       "      <td>3.472901</td>\n",
       "      <td>0.005493</td>\n",
       "      <td>0.006860</td>\n",
       "      <td>0.012159</td>\n",
       "      <td>0.000213</td>\n",
       "      <td>0.016395</td>\n",
       "      <td>0.112647</td>\n",
       "    </tr>\n",
       "    <tr>\n",
       "      <th>13</th>\n",
       "      <td>14</td>\n",
       "      <td>injection11</td>\n",
       "      <td>OCTANE</td>\n",
       "      <td>7993</td>\n",
       "      <td>20</td>\n",
       "      <td>0.55</td>\n",
       "      <td>0.510582</td>\n",
       "      <td>293.153655</td>\n",
       "      <td>42.275749</td>\n",
       "      <td>19.997500</td>\n",
       "      <td>...</td>\n",
       "      <td>104.533836</td>\n",
       "      <td>0.104920</td>\n",
       "      <td>124.805216</td>\n",
       "      <td>3.740718</td>\n",
       "      <td>0.005718</td>\n",
       "      <td>0.006827</td>\n",
       "      <td>0.013458</td>\n",
       "      <td>0.000236</td>\n",
       "      <td>0.017926</td>\n",
       "      <td>0.114475</td>\n",
       "    </tr>\n",
       "    <tr>\n",
       "      <th>14</th>\n",
       "      <td>15</td>\n",
       "      <td>injection12</td>\n",
       "      <td>OCTANE</td>\n",
       "      <td>8543</td>\n",
       "      <td>20</td>\n",
       "      <td>0.6</td>\n",
       "      <td>0.560430</td>\n",
       "      <td>293.150381</td>\n",
       "      <td>42.161304</td>\n",
       "      <td>19.997500</td>\n",
       "      <td>...</td>\n",
       "      <td>108.506580</td>\n",
       "      <td>0.105089</td>\n",
       "      <td>125.013455</td>\n",
       "      <td>3.980193</td>\n",
       "      <td>0.005935</td>\n",
       "      <td>0.006838</td>\n",
       "      <td>0.014772</td>\n",
       "      <td>0.000259</td>\n",
       "      <td>0.019348</td>\n",
       "      <td>0.116112</td>\n",
       "    </tr>\n",
       "    <tr>\n",
       "      <th>15</th>\n",
       "      <td>16</td>\n",
       "      <td>injection13</td>\n",
       "      <td>OCTANE</td>\n",
       "      <td>9081</td>\n",
       "      <td>20</td>\n",
       "      <td>0.65</td>\n",
       "      <td>0.607672</td>\n",
       "      <td>293.153196</td>\n",
       "      <td>42.189911</td>\n",
       "      <td>19.974999</td>\n",
       "      <td>...</td>\n",
       "      <td>112.364143</td>\n",
       "      <td>0.100134</td>\n",
       "      <td>118.984165</td>\n",
       "      <td>4.208847</td>\n",
       "      <td>0.006146</td>\n",
       "      <td>0.006508</td>\n",
       "      <td>0.016017</td>\n",
       "      <td>0.000281</td>\n",
       "      <td>0.020753</td>\n",
       "      <td>0.117601</td>\n",
       "    </tr>\n",
       "    <tr>\n",
       "      <th>16</th>\n",
       "      <td>17</td>\n",
       "      <td>injection14</td>\n",
       "      <td>OCTANE</td>\n",
       "      <td>9609</td>\n",
       "      <td>20</td>\n",
       "      <td>0.7</td>\n",
       "      <td>0.655987</td>\n",
       "      <td>293.153835</td>\n",
       "      <td>41.918095</td>\n",
       "      <td>19.982500</td>\n",
       "      <td>...</td>\n",
       "      <td>116.368902</td>\n",
       "      <td>0.101157</td>\n",
       "      <td>120.266306</td>\n",
       "      <td>4.406240</td>\n",
       "      <td>0.006365</td>\n",
       "      <td>0.006578</td>\n",
       "      <td>0.017290</td>\n",
       "      <td>0.000303</td>\n",
       "      <td>0.022009</td>\n",
       "      <td>0.118899</td>\n",
       "    </tr>\n",
       "    <tr>\n",
       "      <th>17</th>\n",
       "      <td>18</td>\n",
       "      <td>injection15</td>\n",
       "      <td>OCTANE</td>\n",
       "      <td>10133</td>\n",
       "      <td>20</td>\n",
       "      <td>0.75</td>\n",
       "      <td>0.708001</td>\n",
       "      <td>293.157874</td>\n",
       "      <td>41.975319</td>\n",
       "      <td>20.022500</td>\n",
       "      <td>...</td>\n",
       "      <td>120.570764</td>\n",
       "      <td>0.101341</td>\n",
       "      <td>120.723834</td>\n",
       "      <td>4.579561</td>\n",
       "      <td>0.006595</td>\n",
       "      <td>0.006603</td>\n",
       "      <td>0.018661</td>\n",
       "      <td>0.000328</td>\n",
       "      <td>0.023152</td>\n",
       "      <td>0.120044</td>\n",
       "    </tr>\n",
       "    <tr>\n",
       "      <th>18</th>\n",
       "      <td>19</td>\n",
       "      <td>injection16</td>\n",
       "      <td>OCTANE</td>\n",
       "      <td>10655</td>\n",
       "      <td>20</td>\n",
       "      <td>0.8</td>\n",
       "      <td>0.757594</td>\n",
       "      <td>293.146415</td>\n",
       "      <td>41.989624</td>\n",
       "      <td>19.987499</td>\n",
       "      <td>...</td>\n",
       "      <td>124.337722</td>\n",
       "      <td>0.103346</td>\n",
       "      <td>122.891119</td>\n",
       "      <td>4.757502</td>\n",
       "      <td>0.006801</td>\n",
       "      <td>0.006722</td>\n",
       "      <td>0.019968</td>\n",
       "      <td>0.000350</td>\n",
       "      <td>0.024363</td>\n",
       "      <td>0.121240</td>\n",
       "    </tr>\n",
       "    <tr>\n",
       "      <th>19</th>\n",
       "      <td>20</td>\n",
       "      <td>injection17</td>\n",
       "      <td>OCTANE</td>\n",
       "      <td>11179</td>\n",
       "      <td>20</td>\n",
       "      <td>0.85</td>\n",
       "      <td>0.811736</td>\n",
       "      <td>293.151750</td>\n",
       "      <td>42.032539</td>\n",
       "      <td>19.995000</td>\n",
       "      <td>...</td>\n",
       "      <td>128.327731</td>\n",
       "      <td>0.104136</td>\n",
       "      <td>123.874937</td>\n",
       "      <td>4.917059</td>\n",
       "      <td>0.007019</td>\n",
       "      <td>0.006776</td>\n",
       "      <td>0.021396</td>\n",
       "      <td>0.000375</td>\n",
       "      <td>0.025483</td>\n",
       "      <td>0.122321</td>\n",
       "    </tr>\n",
       "    <tr>\n",
       "      <th>20</th>\n",
       "      <td>21</td>\n",
       "      <td>injection18</td>\n",
       "      <td>OCTANE</td>\n",
       "      <td>11710</td>\n",
       "      <td>20</td>\n",
       "      <td>0.9</td>\n",
       "      <td>0.860932</td>\n",
       "      <td>293.148725</td>\n",
       "      <td>41.918091</td>\n",
       "      <td>19.997500</td>\n",
       "      <td>...</td>\n",
       "      <td>132.318748</td>\n",
       "      <td>0.104770</td>\n",
       "      <td>124.653007</td>\n",
       "      <td>5.052111</td>\n",
       "      <td>0.007238</td>\n",
       "      <td>0.006818</td>\n",
       "      <td>0.022692</td>\n",
       "      <td>0.000398</td>\n",
       "      <td>0.026460</td>\n",
       "      <td>0.123242</td>\n",
       "    </tr>\n",
       "    <tr>\n",
       "      <th>21</th>\n",
       "      <td>22</td>\n",
       "      <td>injection19</td>\n",
       "      <td>OCTANE</td>\n",
       "      <td>12249</td>\n",
       "      <td>20</td>\n",
       "      <td>0.95</td>\n",
       "      <td>0.912452</td>\n",
       "      <td>293.158000</td>\n",
       "      <td>41.760719</td>\n",
       "      <td>20.000000</td>\n",
       "      <td>...</td>\n",
       "      <td>136.319604</td>\n",
       "      <td>0.106205</td>\n",
       "      <td>126.393641</td>\n",
       "      <td>5.170903</td>\n",
       "      <td>0.007456</td>\n",
       "      <td>0.006913</td>\n",
       "      <td>0.024050</td>\n",
       "      <td>0.000422</td>\n",
       "      <td>0.027346</td>\n",
       "      <td>0.124063</td>\n",
       "    </tr>\n",
       "    <tr>\n",
       "      <th>22</th>\n",
       "      <td>23</td>\n",
       "      <td>injection20</td>\n",
       "      <td>OCTANE</td>\n",
       "      <td>12801</td>\n",
       "      <td>20</td>\n",
       "      <td>1</td>\n",
       "      <td>0.948636</td>\n",
       "      <td>293.155920</td>\n",
       "      <td>41.775030</td>\n",
       "      <td>19.977500</td>\n",
       "      <td>...</td>\n",
       "      <td>138.145620</td>\n",
       "      <td>0.106993</td>\n",
       "      <td>127.185671</td>\n",
       "      <td>5.266358</td>\n",
       "      <td>0.007556</td>\n",
       "      <td>0.006957</td>\n",
       "      <td>0.025004</td>\n",
       "      <td>0.000439</td>\n",
       "      <td>0.028067</td>\n",
       "      <td>0.124727</td>\n",
       "    </tr>\n",
       "  </tbody>\n",
       "</table>\n",
       "<p>20 rows × 28 columns</p>\n",
       "</div>"
      ],
      "text/plain": [
       "    ID Injection Name Solvent Injection Time [ms]  Duration [min]  \\\n",
       "3    4     injection1  OCTANE                 938              50   \n",
       "4    5     injection2  OCTANE                1825              50   \n",
       "5    6     injection3  OCTANE                2662              50   \n",
       "6    7     injection4  OCTANE                3454              46   \n",
       "7    8     injection5  OCTANE                4203              25   \n",
       "8    9     injection6  OCTANE                4912              25   \n",
       "9   10     injection7  OCTANE                5585              25   \n",
       "10  11     injection8  OCTANE                6226              20   \n",
       "11  12     injection9  OCTANE                6838              20   \n",
       "12  13    injection10  OCTANE                7426              20   \n",
       "13  14    injection11  OCTANE                7993              20   \n",
       "14  15    injection12  OCTANE                8543              20   \n",
       "15  16    injection13  OCTANE                9081              20   \n",
       "16  17    injection14  OCTANE                9609              20   \n",
       "17  18    injection15  OCTANE               10133              20   \n",
       "18  19    injection16  OCTANE               10655              20   \n",
       "19  20    injection17  OCTANE               11179              20   \n",
       "20  21    injection18  OCTANE               11710              20   \n",
       "21  22    injection19  OCTANE               12249              20   \n",
       "22  23    injection20  OCTANE               12801              20   \n",
       "\n",
       "   Target Fractional Surface Coverage  Actual Fractional Surface Coverage  \\\n",
       "3                                0.05                            0.046258   \n",
       "4                                 0.1                            0.089639   \n",
       "5                                0.15                            0.127934   \n",
       "6                                 0.2                            0.146853   \n",
       "7                                0.25                            0.203120   \n",
       "8                                 0.3                            0.253532   \n",
       "9                                0.35                            0.304615   \n",
       "10                                0.4                            0.349905   \n",
       "11                               0.45                            0.407123   \n",
       "12                                0.5                            0.461307   \n",
       "13                               0.55                            0.510582   \n",
       "14                                0.6                            0.560430   \n",
       "15                               0.65                            0.607672   \n",
       "16                                0.7                            0.655987   \n",
       "17                               0.75                            0.708001   \n",
       "18                                0.8                            0.757594   \n",
       "19                               0.85                            0.811736   \n",
       "20                                0.9                            0.860932   \n",
       "21                               0.95                            0.912452   \n",
       "22                                  1                            0.948636   \n",
       "\n",
       "    Column Temperature [Kelvin]  Column Pressure Drop [Torr]  \\\n",
       "3                    293.117630                    41.846560   \n",
       "4                    293.156741                    41.932402   \n",
       "5                    293.156145                    42.375900   \n",
       "6                    293.152411                    42.404514   \n",
       "7                    293.147960                    42.361591   \n",
       "8                    293.154724                    42.347284   \n",
       "9                    293.151719                    42.275755   \n",
       "10                   293.151485                    42.175610   \n",
       "11                   293.151644                    42.218525   \n",
       "12                   293.152359                    42.232834   \n",
       "13                   293.153655                    42.275749   \n",
       "14                   293.150381                    42.161304   \n",
       "15                   293.153196                    42.189911   \n",
       "16                   293.153835                    41.918095   \n",
       "17                   293.157874                    41.975319   \n",
       "18                   293.146415                    41.989624   \n",
       "19                   293.151750                    42.032539   \n",
       "20                   293.148725                    41.918091   \n",
       "21                   293.158000                    41.760719   \n",
       "22                   293.155920                    41.775030   \n",
       "\n",
       "    Exit Flow Rate [sccm]          ...            Net Ret Volume (Max) [ml/g]  \\\n",
       "3               19.992500          ...                            3800.381636   \n",
       "4               20.012500          ...                             132.420381   \n",
       "5               20.007500          ...                              76.832975   \n",
       "6               19.997500          ...                              74.749937   \n",
       "7               19.995000          ...                              76.783545   \n",
       "8               20.000000          ...                              80.770237   \n",
       "9               19.980000          ...                              88.595746   \n",
       "10              19.980000          ...                              90.582772   \n",
       "11              19.982500          ...                              94.553445   \n",
       "12              19.990000          ...                             100.414892   \n",
       "13              19.997500          ...                             104.533836   \n",
       "14              19.997500          ...                             108.506580   \n",
       "15              19.974999          ...                             112.364143   \n",
       "16              19.982500          ...                             116.368902   \n",
       "17              20.022500          ...                             120.570764   \n",
       "18              19.987499          ...                             124.337722   \n",
       "19              19.995000          ...                             128.327731   \n",
       "20              19.997500          ...                             132.318748   \n",
       "21              20.000000          ...                             136.319604   \n",
       "22              19.977500          ...                             138.145620   \n",
       "\n",
       "    Net Ret Time (Com) [min]  Net Ret Volume (Com) [ml/g]  \\\n",
       "3                  12.381437                 14726.620840   \n",
       "4                   7.108242                  8463.737004   \n",
       "5                   2.191465                  2607.952276   \n",
       "6                   0.491835                   584.997075   \n",
       "7                   0.426178                   506.847209   \n",
       "8                   0.198853                   236.559873   \n",
       "9                   0.152382                   181.101833   \n",
       "10                  0.110313                   131.112892   \n",
       "11                  0.106826                   126.980045   \n",
       "12                  0.105476                   125.421411   \n",
       "13                  0.104920                   124.805216   \n",
       "14                  0.105089                   125.013455   \n",
       "15                  0.100134                   118.984165   \n",
       "16                  0.101157                   120.266306   \n",
       "17                  0.101341                   120.723834   \n",
       "18                  0.103346                   122.891119   \n",
       "19                  0.104136                   123.874937   \n",
       "20                  0.104770                   124.653007   \n",
       "21                  0.106205                   126.393641   \n",
       "22                  0.106993                   127.185671   \n",
       "\n",
       "    Partial Pressure [Torr]  Pres Ret Volume (Max) [mMol/(g�Torr)]  \\\n",
       "3                  0.001236                               0.207898   \n",
       "4                  0.040520                               0.007243   \n",
       "5                  0.350184                               0.004203   \n",
       "6                  0.820935                               0.004089   \n",
       "7                  1.345420                               0.004200   \n",
       "8                  1.930911                               0.004418   \n",
       "9                  2.382418                               0.004846   \n",
       "10                 2.785407                               0.004955   \n",
       "11                 3.168737                               0.005172   \n",
       "12                 3.472901                               0.005493   \n",
       "13                 3.740718                               0.005718   \n",
       "14                 3.980193                               0.005935   \n",
       "15                 4.208847                               0.006146   \n",
       "16                 4.406240                               0.006365   \n",
       "17                 4.579561                               0.006595   \n",
       "18                 4.757502                               0.006801   \n",
       "19                 4.917059                               0.007019   \n",
       "20                 5.052111                               0.007238   \n",
       "21                 5.170903                               0.007456   \n",
       "22                 5.266358                               0.007556   \n",
       "\n",
       "    Pres Ret Volume (Com) [mMol/(g�Torr)]  Amount  [mMol/g]  Amount  [mMol]  \\\n",
       "3                                0.805614          0.001219        0.000021   \n",
       "4                                0.462944          0.002363        0.000041   \n",
       "5                                0.142648          0.003372        0.000059   \n",
       "6                                0.031998          0.003871        0.000068   \n",
       "7                                0.027724          0.005354        0.000094   \n",
       "8                                0.012939          0.006683        0.000117   \n",
       "9                                0.009906          0.008029        0.000141   \n",
       "10                               0.007172          0.009223        0.000162   \n",
       "11                               0.006946          0.010731        0.000188   \n",
       "12                               0.006860          0.012159        0.000213   \n",
       "13                               0.006827          0.013458        0.000236   \n",
       "14                               0.006838          0.014772        0.000259   \n",
       "15                               0.006508          0.016017        0.000281   \n",
       "16                               0.006578          0.017290        0.000303   \n",
       "17                               0.006603          0.018661        0.000328   \n",
       "18                               0.006722          0.019968        0.000350   \n",
       "19                               0.006776          0.021396        0.000375   \n",
       "20                               0.006818          0.022692        0.000398   \n",
       "21                               0.006913          0.024050        0.000422   \n",
       "22                               0.006957          0.025004        0.000439   \n",
       "\n",
       "    Amount (Max) [mMol/g]  Amount (Com) [mMol/g]  \n",
       "3                0.000257               0.000995  \n",
       "4                0.000541               0.019182  \n",
       "5                0.001843               0.063355  \n",
       "6                0.003768               0.078418  \n",
       "7                0.005970               0.092959  \n",
       "8                0.008557               0.100535  \n",
       "9                0.010745               0.105007  \n",
       "10               0.012742               0.107898  \n",
       "11               0.014724               0.110560  \n",
       "12               0.016395               0.112647  \n",
       "13               0.017926               0.114475  \n",
       "14               0.019348               0.116112  \n",
       "15               0.020753               0.117601  \n",
       "16               0.022009               0.118899  \n",
       "17               0.023152               0.120044  \n",
       "18               0.024363               0.121240  \n",
       "19               0.025483               0.122321  \n",
       "20               0.026460               0.123242  \n",
       "21               0.027346               0.124063  \n",
       "22               0.028067               0.124727  \n",
       "\n",
       "[20 rows x 28 columns]"
      ]
     },
     "execution_count": 32,
     "metadata": {},
     "output_type": "execute_result"
    }
   ],
   "source": [
    "# Removing of solvents that arent used in calculation\n",
    "df= df[(df.Solvent != 'n/a') & (df.Solvent != 'Methane')]\n",
    "df"
   ]
  },
  {
   "cell_type": "code",
   "execution_count": 33,
   "metadata": {
    "collapsed": false
   },
   "outputs": [],
   "source": [
    "# Renaming columns with funny character\n",
    "df.rename(columns ={'Peak Area [\\xb5V\\x95min]': 'peak_area', 'Peak Max (Signal) [\\xb5V]': 'peak_max_signal'},inplace=True)\n",
    "\n",
    "# Removing unwanted rows\n",
    "df = df[df.peak_area != 0]"
   ]
  },
  {
   "cell_type": "markdown",
   "metadata": {},
   "source": [
    "#  James-Martin pressure correction, j"
   ]
  },
  {
   "cell_type": "markdown",
   "metadata": {},
   "source": [
    "$$j=\\frac{3}{2}\\frac{(\\frac{p_{in}}{p_{out}})^{2}-1}{(\\frac{p_{in}}{p_{out}})^{3}-1}$$"
   ]
  },
  {
   "cell_type": "code",
   "execution_count": 34,
   "metadata": {
    "collapsed": false
   },
   "outputs": [],
   "source": [
    "# Atmospheric pressure in torr\n",
    "p_out = 760\n",
    "\n",
    "# input pressure is pressure drop + atomospheric pressure\n",
    "p_in = df['Column Pressure Drop [Torr]'] + p_out\n",
    "\n",
    "j = (1.5*(((p_in/p_out)**2 -1)/((p_in/p_out)**3 -1)))"
   ]
  },
  {
   "cell_type": "markdown",
   "metadata": {},
   "source": [
    "# Net Retention Volume, Vn ($\\frac{mL}{g}$)"
   ]
  },
  {
   "cell_type": "markdown",
   "metadata": {},
   "source": [
    "$$V_{N}=\\frac{j}{m}F(t_{r}-t_{0})(\\frac{T}{273.15})$$"
   ]
  },
  {
   "cell_type": "code",
   "execution_count": 35,
   "metadata": {
    "collapsed": false
   },
   "outputs": [],
   "source": [
    "# Creating input for sample mass and change its units\n",
    "m_df = pd.read_csv(input_file,nrows=1,header=None,skiprows=4)\n",
    "m=float(m_df.ix[:,1:1].values.flatten())\n",
    "m = m / 1000 # mg to g\n",
    "\n",
    "vn = (j * df['Exit Flow Rate [sccm]'] * df['Net Ret Time (Max) [min]'] * df['Column Temperature [Kelvin]'] ) / (m * 273.15)"
   ]
  },
  {
   "cell_type": "markdown",
   "metadata": {},
   "source": [
    "# Partial pressure, p (Pa)"
   ]
  },
  {
   "cell_type": "markdown",
   "metadata": {},
   "source": [
    "$$p=\\frac{n_{i}RH_{peak}273.15}{FA_{peak}}$$"
   ]
  },
  {
   "cell_type": "code",
   "execution_count": 36,
   "metadata": {
    "collapsed": false
   },
   "outputs": [],
   "source": [
    "A_peak = df['peak_area']\n",
    "n_i = df['Amount  [mMol]']\n",
    "H_peak = df['peak_max_signal']\n",
    "F = df['Exit Flow Rate [sccm]']"
   ]
  },
  {
   "cell_type": "code",
   "execution_count": 37,
   "metadata": {
    "collapsed": false
   },
   "outputs": [],
   "source": [
    "# Converting units to SI\n",
    "\n",
    "vn_SI = vn * 0.001 # converts mg/L to m^3/kg\n",
    "A_peak = A_peak * 6E-5 #converts uV.min to V.sec\n",
    "n_i = n_i / 1000 # converts mMol to Mol\n",
    "H_peak = H_peak * 1E-6 # converts uV to V\n",
    "F = F * 1.6667E-8 #from sscm to m^3/s"
   ]
  },
  {
   "cell_type": "code",
   "execution_count": 38,
   "metadata": {
    "collapsed": false
   },
   "outputs": [],
   "source": [
    "# Gas constant\n",
    "R = constants.R"
   ]
  },
  {
   "cell_type": "code",
   "execution_count": 39,
   "metadata": {
    "collapsed": false
   },
   "outputs": [],
   "source": [
    "p = (n_i * R * 273.15 * H_peak) / (F * A_peak) # Pa"
   ]
  },
  {
   "cell_type": "markdown",
   "metadata": {},
   "source": [
    "#  Amount of probe adsorbed on sample surface, n, ($\\frac{mMol}{g}$)"
   ]
  },
  {
   "cell_type": "markdown",
   "metadata": {},
   "source": [
    "$$n=\\frac{1}{RT}\\intop_{0}^{p}V_{n}dp$$"
   ]
  },
  {
   "cell_type": "code",
   "execution_count": 40,
   "metadata": {
    "collapsed": false
   },
   "outputs": [],
   "source": [
    "# Reindexing series to start at zero\n",
    "p_reindex = p.reset_index(drop=True)\n",
    "vn_SI_reindex = vn_SI.reset_index(drop=True)"
   ]
  },
  {
   "cell_type": "code",
   "execution_count": 41,
   "metadata": {
    "collapsed": false
   },
   "outputs": [],
   "source": [
    "# T value used in n calc\n",
    "T_av = df['Column Temperature [Kelvin]'].mean()"
   ]
  },
  {
   "cell_type": "code",
   "execution_count": 42,
   "metadata": {
    "collapsed": false
   },
   "outputs": [],
   "source": [
    "# set n as empty array in shape of as other values \n",
    "n = np.empty_like(p_reindex)"
   ]
  },
  {
   "cell_type": "code",
   "execution_count": 43,
   "metadata": {
    "collapsed": false
   },
   "outputs": [],
   "source": [
    "# Cumulative integration  of vn with respect to partial pressure p\n",
    "n[0] = (p_reindex[0] * vn_SI_reindex[0]) / (R * T_av)\n",
    "for i in range(1, len(p_reindex)):\n",
    "    n[i] = (p_reindex[i] - p_reindex[i - 1]) * (vn_SI_reindex[i] / (R * T_av)) + n[i - 1]"
   ]
  },
  {
   "cell_type": "code",
   "execution_count": 44,
   "metadata": {
    "collapsed": false
   },
   "outputs": [],
   "source": [
    "# set n as series with same index as p_reindex and vn_SI_reindex\n",
    "n = Series(n)"
   ]
  },
  {
   "cell_type": "markdown",
   "metadata": {},
   "source": [
    "# Saturation vapour pressure calculation, $p_{sat}$ (Pa)"
   ]
  },
  {
   "cell_type": "markdown",
   "metadata": {},
   "source": [
    "$$\\log_{10}p_{sat}=A-\\frac{B}{C+T}$$\n",
    "$$p_{sat}=10^{(A-\\frac{B}{C+T})}$$"
   ]
  },
  {
   "cell_type": "code",
   "execution_count": 45,
   "metadata": {
    "collapsed": true
   },
   "outputs": [],
   "source": [
    "# Antoine coefficients for octane (probe used for surface area calculations from AntoineConstants excel file)"
   ]
  },
  {
   "cell_type": "code",
   "execution_count": 46,
   "metadata": {
    "collapsed": false
   },
   "outputs": [],
   "source": [
    "# Coefficents A,B,C are for T = 20C\n",
    "A = 6.91868\n",
    "B = 1351.99\n",
    "C = 209.155\n",
    "\n",
    "\n",
    "p_sat = 10 ** (A- (B /(20+C))) # mmHg T= 20C\n",
    "p_sat = p_sat * 133.322 # mmHg to Pa"
   ]
  },
  {
   "cell_type": "markdown",
   "metadata": {},
   "source": [
    "# Relative pressure, $p_{rel}$"
   ]
  },
  {
   "cell_type": "markdown",
   "metadata": {},
   "source": [
    "$$p_{rel}=\\frac{p}{p_{sat}}$$"
   ]
  },
  {
   "cell_type": "code",
   "execution_count": 47,
   "metadata": {
    "collapsed": false
   },
   "outputs": [],
   "source": [
    "p_rel = p_reindex / p_sat"
   ]
  },
  {
   "cell_type": "markdown",
   "metadata": {},
   "source": [
    "# Adsorption Isotherm Plot"
   ]
  },
  {
   "cell_type": "code",
   "execution_count": 48,
   "metadata": {
    "collapsed": false
   },
   "outputs": [
    {
     "data": {
      "text/plain": [
       "(0, 0.55476135807180316)"
      ]
     },
     "execution_count": 48,
     "metadata": {},
     "output_type": "execute_result"
    },
    {
     "data": {
      "image/png": "[encoded data removed]",
      "text/plain": [
       "<matplotlib.figure.Figure at 0x1d578b70>"
      ]
     },
     "metadata": {},
     "output_type": "display_data"
    }
   ],
   "source": [
    "plt.scatter(p_rel, n)\n",
    "plt.title('Adsorption Isotherm')\n",
    "plt.xlabel('Relative Pressure (p/p_rel)')\n",
    "plt.ylabel('Amount Adsorbed (mMol/g)')\n",
    "x_max = max(p_rel) + (0.1 * max(p_rel))\n",
    "y_max = max(n) + (0.1 * max(n))\n",
    "plt.ylim(0,y_max)\n",
    "plt.xlim(0,x_max)"
   ]
  },
  {
   "cell_type": "markdown",
   "metadata": {},
   "source": [
    "#  BET  equation plot and calculation"
   ]
  },
  {
   "cell_type": "markdown",
   "metadata": {},
   "source": [
    "$$\\frac{p}{n(p-p_{sat})}=\\frac{C-1}{n_{m}C}\\frac{p}{p_{sat}}+\\frac{1}{n_{m}C}$$"
   ]
  },
  {
   "cell_type": "code",
   "execution_count": 49,
   "metadata": {
    "collapsed": false
   },
   "outputs": [],
   "source": [
    "# setting Y axis for BET plot\n",
    "y_BET = p_reindex / (n * (p_sat - p_reindex))"
   ]
  },
  {
   "cell_type": "code",
   "execution_count": 50,
   "metadata": {
    "collapsed": false
   },
   "outputs": [],
   "source": [
    "# set up BET dataframe\n",
    "BET_df = pd.concat([p_rel, y_BET], axis = 1)\n",
    "BET_df.columns = ['p_rel', 'y_BET']"
   ]
  },
  {
   "cell_type": "code",
   "execution_count": 51,
   "metadata": {
    "collapsed": false
   },
   "outputs": [],
   "source": [
    "# BET equation is only valid between p_rel values of 0.05 to 0.35\n",
    "BET_df = BET_df[(BET_df.p_rel >= 0.05) & (BET_df.p_rel <= 0.35)]"
   ]
  },
  {
   "cell_type": "code",
   "execution_count": 52,
   "metadata": {
    "collapsed": false
   },
   "outputs": [
    {
     "data": {
      "text/html": [
       "<div>\n",
       "<table border=\"1\" class=\"dataframe\">\n",
       "  <thead>\n",
       "    <tr style=\"text-align: right;\">\n",
       "      <th></th>\n",
       "      <th>p_rel</th>\n",
       "      <th>y_BET</th>\n",
       "    </tr>\n",
       "  </thead>\n",
       "  <tbody>\n",
       "    <tr>\n",
       "      <th>3</th>\n",
       "      <td>0.078580</td>\n",
       "      <td>22.644598</td>\n",
       "    </tr>\n",
       "    <tr>\n",
       "      <th>4</th>\n",
       "      <td>0.128899</td>\n",
       "      <td>24.774039</td>\n",
       "    </tr>\n",
       "    <tr>\n",
       "      <th>5</th>\n",
       "      <td>0.184911</td>\n",
       "      <td>26.511928</td>\n",
       "    </tr>\n",
       "    <tr>\n",
       "      <th>6</th>\n",
       "      <td>0.228149</td>\n",
       "      <td>27.509583</td>\n",
       "    </tr>\n",
       "    <tr>\n",
       "      <th>7</th>\n",
       "      <td>0.266741</td>\n",
       "      <td>28.550296</td>\n",
       "    </tr>\n",
       "    <tr>\n",
       "      <th>8</th>\n",
       "      <td>0.303451</td>\n",
       "      <td>29.587498</td>\n",
       "    </tr>\n",
       "    <tr>\n",
       "      <th>9</th>\n",
       "      <td>0.332579</td>\n",
       "      <td>30.394285</td>\n",
       "    </tr>\n",
       "  </tbody>\n",
       "</table>\n",
       "</div>"
      ],
      "text/plain": [
       "      p_rel      y_BET\n",
       "3  0.078580  22.644598\n",
       "4  0.128899  24.774039\n",
       "5  0.184911  26.511928\n",
       "6  0.228149  27.509583\n",
       "7  0.266741  28.550296\n",
       "8  0.303451  29.587498\n",
       "9  0.332579  30.394285"
      ]
     },
     "execution_count": 52,
     "metadata": {},
     "output_type": "execute_result"
    }
   ],
   "source": [
    "BET_df"
   ]
  },
  {
   "cell_type": "code",
   "execution_count": 53,
   "metadata": {
    "collapsed": false
   },
   "outputs": [],
   "source": [
    "# Function does linear regression and if threshold r_sq values isnt reached it removes the first row of dataframe\n",
    "# First row is removed because generally BET data is better at higher p_rel\n",
    "def regress(df):\n",
    "    # Linear regression of BET plot within allowed p_rel range\n",
    "    slope, intercept, r_value, p_value, std_err = stats.linregress(df['p_rel'],df['y_BET'])\n",
    "    \n",
    "    r_sq = r_value ** 2\n",
    "    print r_sq\n",
    "    \n",
    "    if r_sq < 0.995:\n",
    "        \n",
    "        return regress(df.iloc[1:]) # re-runs function with first row removed, removes first row until threshold r_sq reached\n",
    "    else:\n",
    "        # Calculations used for finding error in intercept from 'https://en.wikipedia.org/wiki/Regression_analysis'\n",
    "        sse = ((df['y_BET'] - ((slope * df['p_rel']) + intercept)) ** 2).sum()\n",
    "        n = len(df['p_rel'])\n",
    "        var = np.sqrt((sse / (n - 2)))\n",
    "        x_mean = df['p_rel'].mean()\n",
    "        sx2 = ((df['p_rel'] - x_mean) **2).sum()\n",
    "        intercept_err = var * np.sqrt((1/n) + (x_mean ** 2) / sx2)\n",
    "        \n",
    "        return slope,intercept,r_value,p_value,std_err,r_sq, intercept_err"
   ]
  },
  {
   "cell_type": "code",
   "execution_count": 54,
   "metadata": {
    "collapsed": false
   },
   "outputs": [
    {
     "name": "stdout",
     "output_type": "stream",
     "text": [
      "0.991930713194\n",
      "0.998647296337\n"
     ]
    }
   ],
   "source": [
    "slope,intercept,r_value,p_value, std_err, r_sq,intercept_err = regress(BET_df)"
   ]
  },
  {
   "cell_type": "code",
   "execution_count": 55,
   "metadata": {
    "collapsed": false
   },
   "outputs": [
    {
     "data": {
      "text/plain": [
       "<matplotlib.text.Text at 0x1d578a90>"
      ]
     },
     "execution_count": 55,
     "metadata": {},
     "output_type": "execute_result"
    },
    {
     "data": {
      "image/png": "[encoded data removed]",
      "text/plain": [
       "<matplotlib.figure.Figure at 0x1d9cf048>"
      ]
     },
     "metadata": {},
     "output_type": "display_data"
    }
   ],
   "source": [
    "# BET plot\n",
    "plt.scatter(p_rel,y_BET)\n",
    "plt.plot(p_rel, (p_rel * slope) + intercept, c='r')\n",
    "plt.title('BET plot')\n",
    "plt.xlabel('Relative Pressure (p/p_rel)')\n",
    "plt.ylabel('p / n[p_sat-p] (g/mMol)')\n"
   ]
  },
  {
   "cell_type": "markdown",
   "metadata": {},
   "source": [
    "$$n_{m}=\\frac{1}{slope+intercept}$$"
   ]
  },
  {
   "cell_type": "code",
   "execution_count": 56,
   "metadata": {
    "collapsed": false
   },
   "outputs": [],
   "source": [
    "# The monolayer capacity, n_m is found from slope and intercept of fitted line from BET plot\n",
    "\n",
    "n_m = 1 / (slope + intercept) # mMol/g\n",
    "err_slope_intercept = np.sqrt((std_err) ** 2 + (intercept_err) ** 2) # error in slope+intercept\n",
    "n_m_err = n_m * (err_slope_intercept / (slope + intercept)) # error in n_m\n",
    "n_m = n_m / 1000 # change units from mMol/g to Mol/g\n",
    "n_m_err = n_m_err / 1000 # change units from mMol/g to Mol/g"
   ]
  },
  {
   "cell_type": "markdown",
   "metadata": {},
   "source": [
    "#  Specific Surface Area, $\\frac{m^{2}}{g}$"
   ]
  },
  {
   "cell_type": "markdown",
   "metadata": {},
   "source": [
    "$$S_{BET}=n_{m}N_{a}a$$"
   ]
  },
  {
   "cell_type": "code",
   "execution_count": 57,
   "metadata": {
    "collapsed": false
   },
   "outputs": [],
   "source": [
    "a = 6.3E-19 # m^2 This is the cross-sectional surface area of a Octane molecule\n",
    "Na = constants.Avogadro"
   ]
  },
  {
   "cell_type": "code",
   "execution_count": 58,
   "metadata": {
    "collapsed": false
   },
   "outputs": [],
   "source": [
    "ssa = n_m * Na * a\n",
    "ssa_err = ssa * (n_m_err / n_m)"
   ]
  },
  {
   "cell_type": "code",
   "execution_count": 59,
   "metadata": {
    "collapsed": false
   },
   "outputs": [
    {
     "name": "stdout",
     "output_type": "stream",
     "text": [
      "The SSA is 7.82 with error 0.08 and R^2 of 0.9986\n"
     ]
    }
   ],
   "source": [
    "print 'The SSA is %.2f with error %.2f and R^2 of %.4f' % (ssa,ssa_err,r_sq)"
   ]
  },
  {
   "cell_type": "code",
   "execution_count": null,
   "metadata": {
    "collapsed": true
   },
   "outputs": [],
   "source": []
  }
 ],
 "metadata": {
  "kernelspec": {
   "display_name": "Python 2",
   "language": "python",
   "name": "python2"
  },
  "language_info": {
   "codemirror_mode": {
    "name": "ipython",
    "version": 2
   },
   "file_extension": ".py",
   "mimetype": "text/x-python",
   "name": "python",
   "nbconvert_exporter": "python",
   "pygments_lexer": "ipython2",
   "version": "2.7.11"
  }
 },
 "nbformat": 4,
 "nbformat_minor": 0
}
