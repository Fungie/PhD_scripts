{
 "cells": [
  {
   "cell_type": "markdown",
   "metadata": {},
   "source": [
    "This script is for calculating the specific surface area ($S_{BET}$) of a solid sample, including error from Inverse Gas Chromatography measurements, specifically those done on the SEA (Surface energy analyser). Measured parameters are imported from a csv file and the specific surface area of the sample is printed at the end of the document along with visualisations of the adsorption isotherm and BET plot."
   ]
  },
  {
   "cell_type": "code",
   "execution_count": 300,
   "metadata": {
    "collapsed": true
   },
   "outputs": [],
   "source": [
    "import pandas as pd\n",
    "import numpy as np\n",
    "from pandas import Series,DataFrame\n",
    "from scipy import stats, constants\n",
    "import matplotlib.pyplot as plt\n",
    "%matplotlib inline"
   ]
  },
  {
   "cell_type": "markdown",
   "metadata": {},
   "source": [
    "# Organising data"
   ]
  },
  {
   "cell_type": "code",
   "execution_count": 301,
   "metadata": {
    "collapsed": false
   },
   "outputs": [
    {
     "name": "stdout",
     "output_type": "stream",
     "text": [
      "Copy path to input file here \n",
      "make sure to insert extra \"\\\" and remove \"\" \n",
      "C:\\\\Users\\\\tcd\\\\Dropbox\\\\Graphite study\\\\Surface area error calcs\\\\sigma.csv\n"
     ]
    }
   ],
   "source": [
    "# Reads csv input file and skips rows to where data start\n",
    "input_file = raw_input('Copy path to input file here \\nmake sure to insert extra \"\\\\\" and remove \"\" \\n')\n",
    "df = pd.read_csv(input_file, skiprows = 17)"
   ]
  },
  {
   "cell_type": "code",
   "execution_count": 302,
   "metadata": {
    "collapsed": false
   },
   "outputs": [
    {
     "data": {
      "text/html": [
       "<div>\n",
       "<table border=\"1\" class=\"dataframe\">\n",
       "  <thead>\n",
       "    <tr style=\"text-align: right;\">\n",
       "      <th></th>\n",
       "      <th>ID</th>\n",
       "      <th>Injection Name</th>\n",
       "      <th>Solvent</th>\n",
       "      <th>Injection Time [ms]</th>\n",
       "      <th>Duration [min]</th>\n",
       "      <th>Target Fractional Surface Coverage</th>\n",
       "      <th>Actual Fractional Surface Coverage</th>\n",
       "      <th>Column Temperature [Kelvin]</th>\n",
       "      <th>Column Pressure Drop [Torr]</th>\n",
       "      <th>Exit Flow Rate [sccm]</th>\n",
       "      <th>...</th>\n",
       "      <th>Net Ret Volume (Max) [ml/g]</th>\n",
       "      <th>Net Ret Time (Com) [min]</th>\n",
       "      <th>Net Ret Volume (Com) [ml/g]</th>\n",
       "      <th>Partial Pressure [Torr]</th>\n",
       "      <th>Pres Ret Volume (Max) [mMol/(g�Torr)]</th>\n",
       "      <th>Pres Ret Volume (Com) [mMol/(g�Torr)]</th>\n",
       "      <th>Amount  [mMol/g]</th>\n",
       "      <th>Amount  [mMol]</th>\n",
       "      <th>Amount (Max) [mMol/g]</th>\n",
       "      <th>Amount (Com) [mMol/g]</th>\n",
       "    </tr>\n",
       "  </thead>\n",
       "  <tbody>\n",
       "    <tr>\n",
       "      <th>3</th>\n",
       "      <td>4</td>\n",
       "      <td>injection1</td>\n",
       "      <td>OCTANE</td>\n",
       "      <td>713</td>\n",
       "      <td>30</td>\n",
       "      <td>0.05</td>\n",
       "      <td>0.000000</td>\n",
       "      <td>293.116420</td>\n",
       "      <td>38.684820</td>\n",
       "      <td>19.992500</td>\n",
       "      <td>...</td>\n",
       "      <td>0.000000</td>\n",
       "      <td>0.000000</td>\n",
       "      <td>0.000000</td>\n",
       "      <td>0.000000</td>\n",
       "      <td>0.000000</td>\n",
       "      <td>0.000000</td>\n",
       "      <td>0.000000</td>\n",
       "      <td>0.000000</td>\n",
       "      <td>0.000000</td>\n",
       "      <td>0.000000</td>\n",
       "    </tr>\n",
       "    <tr>\n",
       "      <th>4</th>\n",
       "      <td>5</td>\n",
       "      <td>injection2</td>\n",
       "      <td>OCTANE</td>\n",
       "      <td>1396</td>\n",
       "      <td>27</td>\n",
       "      <td>0.1</td>\n",
       "      <td>0.076344</td>\n",
       "      <td>293.136960</td>\n",
       "      <td>38.341465</td>\n",
       "      <td>20.015000</td>\n",
       "      <td>...</td>\n",
       "      <td>343.468996</td>\n",
       "      <td>5.059458</td>\n",
       "      <td>3999.230671</td>\n",
       "      <td>0.012657</td>\n",
       "      <td>0.018788</td>\n",
       "      <td>0.218762</td>\n",
       "      <td>0.001006</td>\n",
       "      <td>0.000027</td>\n",
       "      <td>0.000238</td>\n",
       "      <td>0.002769</td>\n",
       "    </tr>\n",
       "    <tr>\n",
       "      <th>5</th>\n",
       "      <td>6</td>\n",
       "      <td>injection3</td>\n",
       "      <td>OCTANE</td>\n",
       "      <td>2051</td>\n",
       "      <td>25</td>\n",
       "      <td>0.15</td>\n",
       "      <td>0.104191</td>\n",
       "      <td>293.132850</td>\n",
       "      <td>38.184092</td>\n",
       "      <td>19.992500</td>\n",
       "      <td>...</td>\n",
       "      <td>132.545603</td>\n",
       "      <td>1.418201</td>\n",
       "      <td>1119.850889</td>\n",
       "      <td>0.094498</td>\n",
       "      <td>0.007250</td>\n",
       "      <td>0.061258</td>\n",
       "      <td>0.001373</td>\n",
       "      <td>0.000036</td>\n",
       "      <td>0.000831</td>\n",
       "      <td>0.007782</td>\n",
       "    </tr>\n",
       "    <tr>\n",
       "      <th>6</th>\n",
       "      <td>7</td>\n",
       "      <td>injection4</td>\n",
       "      <td>OCTANE</td>\n",
       "      <td>2678</td>\n",
       "      <td>22</td>\n",
       "      <td>0.2</td>\n",
       "      <td>0.147663</td>\n",
       "      <td>293.131940</td>\n",
       "      <td>38.155476</td>\n",
       "      <td>20.009999</td>\n",
       "      <td>...</td>\n",
       "      <td>94.477247</td>\n",
       "      <td>0.867917</td>\n",
       "      <td>685.941909</td>\n",
       "      <td>0.275378</td>\n",
       "      <td>0.005168</td>\n",
       "      <td>0.037522</td>\n",
       "      <td>0.001946</td>\n",
       "      <td>0.000052</td>\n",
       "      <td>0.001766</td>\n",
       "      <td>0.014569</td>\n",
       "    </tr>\n",
       "    <tr>\n",
       "      <th>7</th>\n",
       "      <td>8</td>\n",
       "      <td>injection5</td>\n",
       "      <td>OCTANE</td>\n",
       "      <td>3280</td>\n",
       "      <td>20</td>\n",
       "      <td>0.25</td>\n",
       "      <td>0.177972</td>\n",
       "      <td>293.140986</td>\n",
       "      <td>37.969494</td>\n",
       "      <td>20.007500</td>\n",
       "      <td>...</td>\n",
       "      <td>83.955480</td>\n",
       "      <td>0.378487</td>\n",
       "      <td>299.138067</td>\n",
       "      <td>0.553750</td>\n",
       "      <td>0.004592</td>\n",
       "      <td>0.016363</td>\n",
       "      <td>0.002345</td>\n",
       "      <td>0.000062</td>\n",
       "      <td>0.003044</td>\n",
       "      <td>0.019124</td>\n",
       "    </tr>\n",
       "    <tr>\n",
       "      <th>8</th>\n",
       "      <td>9</td>\n",
       "      <td>injection6</td>\n",
       "      <td>OCTANE</td>\n",
       "      <td>3856</td>\n",
       "      <td>15</td>\n",
       "      <td>0.3</td>\n",
       "      <td>0.211658</td>\n",
       "      <td>293.144420</td>\n",
       "      <td>38.026714</td>\n",
       "      <td>20.007500</td>\n",
       "      <td>...</td>\n",
       "      <td>81.305718</td>\n",
       "      <td>0.224703</td>\n",
       "      <td>177.590292</td>\n",
       "      <td>0.908504</td>\n",
       "      <td>0.004447</td>\n",
       "      <td>0.009714</td>\n",
       "      <td>0.002789</td>\n",
       "      <td>0.000074</td>\n",
       "      <td>0.004622</td>\n",
       "      <td>0.022570</td>\n",
       "    </tr>\n",
       "    <tr>\n",
       "      <th>9</th>\n",
       "      <td>10</td>\n",
       "      <td>injection7</td>\n",
       "      <td>OCTANE</td>\n",
       "      <td>4409</td>\n",
       "      <td>15</td>\n",
       "      <td>0.35</td>\n",
       "      <td>0.257248</td>\n",
       "      <td>293.146110</td>\n",
       "      <td>38.055336</td>\n",
       "      <td>19.997500</td>\n",
       "      <td>...</td>\n",
       "      <td>82.580054</td>\n",
       "      <td>0.176884</td>\n",
       "      <td>139.725325</td>\n",
       "      <td>1.333323</td>\n",
       "      <td>0.004517</td>\n",
       "      <td>0.007643</td>\n",
       "      <td>0.003390</td>\n",
       "      <td>0.000090</td>\n",
       "      <td>0.006541</td>\n",
       "      <td>0.025817</td>\n",
       "    </tr>\n",
       "    <tr>\n",
       "      <th>10</th>\n",
       "      <td>11</td>\n",
       "      <td>injection8</td>\n",
       "      <td>OCTANE</td>\n",
       "      <td>4940</td>\n",
       "      <td>15</td>\n",
       "      <td>0.4</td>\n",
       "      <td>0.301872</td>\n",
       "      <td>293.143280</td>\n",
       "      <td>38.012415</td>\n",
       "      <td>20.010000</td>\n",
       "      <td>...</td>\n",
       "      <td>85.268499</td>\n",
       "      <td>0.159734</td>\n",
       "      <td>126.259147</td>\n",
       "      <td>1.722664</td>\n",
       "      <td>0.004664</td>\n",
       "      <td>0.006906</td>\n",
       "      <td>0.003978</td>\n",
       "      <td>0.000105</td>\n",
       "      <td>0.008357</td>\n",
       "      <td>0.028506</td>\n",
       "    </tr>\n",
       "    <tr>\n",
       "      <th>11</th>\n",
       "      <td>12</td>\n",
       "      <td>injection9</td>\n",
       "      <td>OCTANE</td>\n",
       "      <td>5450</td>\n",
       "      <td>12</td>\n",
       "      <td>0.45</td>\n",
       "      <td>0.349757</td>\n",
       "      <td>293.146485</td>\n",
       "      <td>37.812119</td>\n",
       "      <td>20.002501</td>\n",
       "      <td>...</td>\n",
       "      <td>87.882512</td>\n",
       "      <td>0.148052</td>\n",
       "      <td>116.998169</td>\n",
       "      <td>2.081326</td>\n",
       "      <td>0.004807</td>\n",
       "      <td>0.006400</td>\n",
       "      <td>0.004609</td>\n",
       "      <td>0.000122</td>\n",
       "      <td>0.010081</td>\n",
       "      <td>0.030801</td>\n",
       "    </tr>\n",
       "    <tr>\n",
       "      <th>12</th>\n",
       "      <td>13</td>\n",
       "      <td>injection10</td>\n",
       "      <td>OCTANE</td>\n",
       "      <td>5941</td>\n",
       "      <td>10</td>\n",
       "      <td>0.5</td>\n",
       "      <td>0.401250</td>\n",
       "      <td>293.148705</td>\n",
       "      <td>37.840734</td>\n",
       "      <td>20.012500</td>\n",
       "      <td>...</td>\n",
       "      <td>89.243463</td>\n",
       "      <td>0.142035</td>\n",
       "      <td>112.297913</td>\n",
       "      <td>2.405577</td>\n",
       "      <td>0.004882</td>\n",
       "      <td>0.006143</td>\n",
       "      <td>0.005288</td>\n",
       "      <td>0.000140</td>\n",
       "      <td>0.011664</td>\n",
       "      <td>0.032793</td>\n",
       "    </tr>\n",
       "    <tr>\n",
       "      <th>13</th>\n",
       "      <td>14</td>\n",
       "      <td>injection11</td>\n",
       "      <td>OCTANE</td>\n",
       "      <td>6416</td>\n",
       "      <td>8</td>\n",
       "      <td>0.55</td>\n",
       "      <td>0.454606</td>\n",
       "      <td>293.147570</td>\n",
       "      <td>38.541750</td>\n",
       "      <td>19.997500</td>\n",
       "      <td>...</td>\n",
       "      <td>93.057035</td>\n",
       "      <td>0.138571</td>\n",
       "      <td>109.426750</td>\n",
       "      <td>2.685200</td>\n",
       "      <td>0.005090</td>\n",
       "      <td>0.005986</td>\n",
       "      <td>0.005991</td>\n",
       "      <td>0.000159</td>\n",
       "      <td>0.013087</td>\n",
       "      <td>0.034467</td>\n",
       "    </tr>\n",
       "    <tr>\n",
       "      <th>14</th>\n",
       "      <td>15</td>\n",
       "      <td>injection12</td>\n",
       "      <td>OCTANE</td>\n",
       "      <td>6874</td>\n",
       "      <td>8</td>\n",
       "      <td>0.6</td>\n",
       "      <td>0.503384</td>\n",
       "      <td>293.145560</td>\n",
       "      <td>38.556055</td>\n",
       "      <td>20.002501</td>\n",
       "      <td>...</td>\n",
       "      <td>95.738273</td>\n",
       "      <td>0.136781</td>\n",
       "      <td>108.038400</td>\n",
       "      <td>2.918331</td>\n",
       "      <td>0.005237</td>\n",
       "      <td>0.005910</td>\n",
       "      <td>0.006634</td>\n",
       "      <td>0.000176</td>\n",
       "      <td>0.014308</td>\n",
       "      <td>0.035845</td>\n",
       "    </tr>\n",
       "    <tr>\n",
       "      <th>15</th>\n",
       "      <td>16</td>\n",
       "      <td>injection13</td>\n",
       "      <td>OCTANE</td>\n",
       "      <td>7319</td>\n",
       "      <td>6</td>\n",
       "      <td>0.65</td>\n",
       "      <td>0.550140</td>\n",
       "      <td>293.146625</td>\n",
       "      <td>38.670515</td>\n",
       "      <td>20.020000</td>\n",
       "      <td>...</td>\n",
       "      <td>97.132991</td>\n",
       "      <td>0.135394</td>\n",
       "      <td>107.029240</td>\n",
       "      <td>3.102699</td>\n",
       "      <td>0.005313</td>\n",
       "      <td>0.005854</td>\n",
       "      <td>0.007250</td>\n",
       "      <td>0.000192</td>\n",
       "      <td>0.015288</td>\n",
       "      <td>0.036924</td>\n",
       "    </tr>\n",
       "    <tr>\n",
       "      <th>16</th>\n",
       "      <td>17</td>\n",
       "      <td>injection14</td>\n",
       "      <td>OCTANE</td>\n",
       "      <td>7752</td>\n",
       "      <td>6</td>\n",
       "      <td>0.7</td>\n",
       "      <td>0.602571</td>\n",
       "      <td>293.154925</td>\n",
       "      <td>38.870804</td>\n",
       "      <td>19.995000</td>\n",
       "      <td>...</td>\n",
       "      <td>99.632956</td>\n",
       "      <td>0.134501</td>\n",
       "      <td>106.179641</td>\n",
       "      <td>3.278786</td>\n",
       "      <td>0.005450</td>\n",
       "      <td>0.005808</td>\n",
       "      <td>0.007941</td>\n",
       "      <td>0.000210</td>\n",
       "      <td>0.016247</td>\n",
       "      <td>0.037947</td>\n",
       "    </tr>\n",
       "    <tr>\n",
       "      <th>17</th>\n",
       "      <td>18</td>\n",
       "      <td>injection15</td>\n",
       "      <td>OCTANE</td>\n",
       "      <td>8173</td>\n",
       "      <td>5</td>\n",
       "      <td>0.75</td>\n",
       "      <td>0.647504</td>\n",
       "      <td>293.150185</td>\n",
       "      <td>39.099710</td>\n",
       "      <td>19.997500</td>\n",
       "      <td>...</td>\n",
       "      <td>103.562521</td>\n",
       "      <td>0.135191</td>\n",
       "      <td>106.719681</td>\n",
       "      <td>3.425023</td>\n",
       "      <td>0.005665</td>\n",
       "      <td>0.005837</td>\n",
       "      <td>0.008533</td>\n",
       "      <td>0.000226</td>\n",
       "      <td>0.017076</td>\n",
       "      <td>0.038800</td>\n",
       "    </tr>\n",
       "    <tr>\n",
       "      <th>18</th>\n",
       "      <td>19</td>\n",
       "      <td>injection16</td>\n",
       "      <td>OCTANE</td>\n",
       "      <td>8587</td>\n",
       "      <td>5</td>\n",
       "      <td>0.8</td>\n",
       "      <td>0.694589</td>\n",
       "      <td>293.142355</td>\n",
       "      <td>38.956640</td>\n",
       "      <td>19.990000</td>\n",
       "      <td>...</td>\n",
       "      <td>106.174243</td>\n",
       "      <td>0.135109</td>\n",
       "      <td>106.622459</td>\n",
       "      <td>3.557382</td>\n",
       "      <td>0.005808</td>\n",
       "      <td>0.005832</td>\n",
       "      <td>0.009154</td>\n",
       "      <td>0.000243</td>\n",
       "      <td>0.017844</td>\n",
       "      <td>0.039572</td>\n",
       "    </tr>\n",
       "    <tr>\n",
       "      <th>19</th>\n",
       "      <td>20</td>\n",
       "      <td>injection17</td>\n",
       "      <td>OCTANE</td>\n",
       "      <td>8993</td>\n",
       "      <td>5</td>\n",
       "      <td>0.85</td>\n",
       "      <td>0.744019</td>\n",
       "      <td>293.149560</td>\n",
       "      <td>39.471674</td>\n",
       "      <td>20.020000</td>\n",
       "      <td>...</td>\n",
       "      <td>108.921256</td>\n",
       "      <td>0.134613</td>\n",
       "      <td>106.357055</td>\n",
       "      <td>3.664164</td>\n",
       "      <td>0.005958</td>\n",
       "      <td>0.005818</td>\n",
       "      <td>0.009805</td>\n",
       "      <td>0.000260</td>\n",
       "      <td>0.018481</td>\n",
       "      <td>0.040193</td>\n",
       "    </tr>\n",
       "    <tr>\n",
       "      <th>20</th>\n",
       "      <td>21</td>\n",
       "      <td>injection18</td>\n",
       "      <td>OCTANE</td>\n",
       "      <td>9393</td>\n",
       "      <td>5</td>\n",
       "      <td>0.9</td>\n",
       "      <td>0.786907</td>\n",
       "      <td>293.152089</td>\n",
       "      <td>39.571821</td>\n",
       "      <td>20.022500</td>\n",
       "      <td>...</td>\n",
       "      <td>110.245864</td>\n",
       "      <td>0.135836</td>\n",
       "      <td>107.330645</td>\n",
       "      <td>3.773348</td>\n",
       "      <td>0.006030</td>\n",
       "      <td>0.005871</td>\n",
       "      <td>0.010371</td>\n",
       "      <td>0.000275</td>\n",
       "      <td>0.019139</td>\n",
       "      <td>0.040834</td>\n",
       "    </tr>\n",
       "    <tr>\n",
       "      <th>21</th>\n",
       "      <td>22</td>\n",
       "      <td>injection19</td>\n",
       "      <td>OCTANE</td>\n",
       "      <td>9790</td>\n",
       "      <td>5</td>\n",
       "      <td>0.95</td>\n",
       "      <td>0.825636</td>\n",
       "      <td>293.153230</td>\n",
       "      <td>38.899410</td>\n",
       "      <td>19.995000</td>\n",
       "      <td>...</td>\n",
       "      <td>111.445670</td>\n",
       "      <td>0.136801</td>\n",
       "      <td>107.992162</td>\n",
       "      <td>3.861402</td>\n",
       "      <td>0.006096</td>\n",
       "      <td>0.005907</td>\n",
       "      <td>0.010881</td>\n",
       "      <td>0.000288</td>\n",
       "      <td>0.019676</td>\n",
       "      <td>0.041355</td>\n",
       "    </tr>\n",
       "    <tr>\n",
       "      <th>22</th>\n",
       "      <td>23</td>\n",
       "      <td>injection20</td>\n",
       "      <td>OCTANE</td>\n",
       "      <td>10185</td>\n",
       "      <td>5</td>\n",
       "      <td>1</td>\n",
       "      <td>0.872501</td>\n",
       "      <td>293.149370</td>\n",
       "      <td>39.686275</td>\n",
       "      <td>20.009999</td>\n",
       "      <td>...</td>\n",
       "      <td>115.431199</td>\n",
       "      <td>0.138217</td>\n",
       "      <td>109.134931</td>\n",
       "      <td>3.948539</td>\n",
       "      <td>0.006314</td>\n",
       "      <td>0.005970</td>\n",
       "      <td>0.011499</td>\n",
       "      <td>0.000305</td>\n",
       "      <td>0.020226</td>\n",
       "      <td>0.041875</td>\n",
       "    </tr>\n",
       "  </tbody>\n",
       "</table>\n",
       "<p>20 rows × 28 columns</p>\n",
       "</div>"
      ],
      "text/plain": [
       "    ID Injection Name Solvent  Injection Time [ms]  Duration [min]  \\\n",
       "3    4     injection1  OCTANE                  713              30   \n",
       "4    5     injection2  OCTANE                 1396              27   \n",
       "5    6     injection3  OCTANE                 2051              25   \n",
       "6    7     injection4  OCTANE                 2678              22   \n",
       "7    8     injection5  OCTANE                 3280              20   \n",
       "8    9     injection6  OCTANE                 3856              15   \n",
       "9   10     injection7  OCTANE                 4409              15   \n",
       "10  11     injection8  OCTANE                 4940              15   \n",
       "11  12     injection9  OCTANE                 5450              12   \n",
       "12  13    injection10  OCTANE                 5941              10   \n",
       "13  14    injection11  OCTANE                 6416               8   \n",
       "14  15    injection12  OCTANE                 6874               8   \n",
       "15  16    injection13  OCTANE                 7319               6   \n",
       "16  17    injection14  OCTANE                 7752               6   \n",
       "17  18    injection15  OCTANE                 8173               5   \n",
       "18  19    injection16  OCTANE                 8587               5   \n",
       "19  20    injection17  OCTANE                 8993               5   \n",
       "20  21    injection18  OCTANE                 9393               5   \n",
       "21  22    injection19  OCTANE                 9790               5   \n",
       "22  23    injection20  OCTANE                10185               5   \n",
       "\n",
       "   Target Fractional Surface Coverage  Actual Fractional Surface Coverage  \\\n",
       "3                                0.05                            0.000000   \n",
       "4                                 0.1                            0.076344   \n",
       "5                                0.15                            0.104191   \n",
       "6                                 0.2                            0.147663   \n",
       "7                                0.25                            0.177972   \n",
       "8                                 0.3                            0.211658   \n",
       "9                                0.35                            0.257248   \n",
       "10                                0.4                            0.301872   \n",
       "11                               0.45                            0.349757   \n",
       "12                                0.5                            0.401250   \n",
       "13                               0.55                            0.454606   \n",
       "14                                0.6                            0.503384   \n",
       "15                               0.65                            0.550140   \n",
       "16                                0.7                            0.602571   \n",
       "17                               0.75                            0.647504   \n",
       "18                                0.8                            0.694589   \n",
       "19                               0.85                            0.744019   \n",
       "20                                0.9                            0.786907   \n",
       "21                               0.95                            0.825636   \n",
       "22                                  1                            0.872501   \n",
       "\n",
       "    Column Temperature [Kelvin]  Column Pressure Drop [Torr]  \\\n",
       "3                    293.116420                    38.684820   \n",
       "4                    293.136960                    38.341465   \n",
       "5                    293.132850                    38.184092   \n",
       "6                    293.131940                    38.155476   \n",
       "7                    293.140986                    37.969494   \n",
       "8                    293.144420                    38.026714   \n",
       "9                    293.146110                    38.055336   \n",
       "10                   293.143280                    38.012415   \n",
       "11                   293.146485                    37.812119   \n",
       "12                   293.148705                    37.840734   \n",
       "13                   293.147570                    38.541750   \n",
       "14                   293.145560                    38.556055   \n",
       "15                   293.146625                    38.670515   \n",
       "16                   293.154925                    38.870804   \n",
       "17                   293.150185                    39.099710   \n",
       "18                   293.142355                    38.956640   \n",
       "19                   293.149560                    39.471674   \n",
       "20                   293.152089                    39.571821   \n",
       "21                   293.153230                    38.899410   \n",
       "22                   293.149370                    39.686275   \n",
       "\n",
       "    Exit Flow Rate [sccm]          ...            Net Ret Volume (Max) [ml/g]  \\\n",
       "3               19.992500          ...                               0.000000   \n",
       "4               20.015000          ...                             343.468996   \n",
       "5               19.992500          ...                             132.545603   \n",
       "6               20.009999          ...                              94.477247   \n",
       "7               20.007500          ...                              83.955480   \n",
       "8               20.007500          ...                              81.305718   \n",
       "9               19.997500          ...                              82.580054   \n",
       "10              20.010000          ...                              85.268499   \n",
       "11              20.002501          ...                              87.882512   \n",
       "12              20.012500          ...                              89.243463   \n",
       "13              19.997500          ...                              93.057035   \n",
       "14              20.002501          ...                              95.738273   \n",
       "15              20.020000          ...                              97.132991   \n",
       "16              19.995000          ...                              99.632956   \n",
       "17              19.997500          ...                             103.562521   \n",
       "18              19.990000          ...                             106.174243   \n",
       "19              20.020000          ...                             108.921256   \n",
       "20              20.022500          ...                             110.245864   \n",
       "21              19.995000          ...                             111.445670   \n",
       "22              20.009999          ...                             115.431199   \n",
       "\n",
       "    Net Ret Time (Com) [min]  Net Ret Volume (Com) [ml/g]  \\\n",
       "3                   0.000000                     0.000000   \n",
       "4                   5.059458                  3999.230671   \n",
       "5                   1.418201                  1119.850889   \n",
       "6                   0.867917                   685.941909   \n",
       "7                   0.378487                   299.138067   \n",
       "8                   0.224703                   177.590292   \n",
       "9                   0.176884                   139.725325   \n",
       "10                  0.159734                   126.259147   \n",
       "11                  0.148052                   116.998169   \n",
       "12                  0.142035                   112.297913   \n",
       "13                  0.138571                   109.426750   \n",
       "14                  0.136781                   108.038400   \n",
       "15                  0.135394                   107.029240   \n",
       "16                  0.134501                   106.179641   \n",
       "17                  0.135191                   106.719681   \n",
       "18                  0.135109                   106.622459   \n",
       "19                  0.134613                   106.357055   \n",
       "20                  0.135836                   107.330645   \n",
       "21                  0.136801                   107.992162   \n",
       "22                  0.138217                   109.134931   \n",
       "\n",
       "    Partial Pressure [Torr]  Pres Ret Volume (Max) [mMol/(g�Torr)]  \\\n",
       "3                  0.000000                               0.000000   \n",
       "4                  0.012657                               0.018788   \n",
       "5                  0.094498                               0.007250   \n",
       "6                  0.275378                               0.005168   \n",
       "7                  0.553750                               0.004592   \n",
       "8                  0.908504                               0.004447   \n",
       "9                  1.333323                               0.004517   \n",
       "10                 1.722664                               0.004664   \n",
       "11                 2.081326                               0.004807   \n",
       "12                 2.405577                               0.004882   \n",
       "13                 2.685200                               0.005090   \n",
       "14                 2.918331                               0.005237   \n",
       "15                 3.102699                               0.005313   \n",
       "16                 3.278786                               0.005450   \n",
       "17                 3.425023                               0.005665   \n",
       "18                 3.557382                               0.005808   \n",
       "19                 3.664164                               0.005958   \n",
       "20                 3.773348                               0.006030   \n",
       "21                 3.861402                               0.006096   \n",
       "22                 3.948539                               0.006314   \n",
       "\n",
       "    Pres Ret Volume (Com) [mMol/(g�Torr)]  Amount  [mMol/g]  Amount  [mMol]  \\\n",
       "3                                0.000000          0.000000        0.000000   \n",
       "4                                0.218762          0.001006        0.000027   \n",
       "5                                0.061258          0.001373        0.000036   \n",
       "6                                0.037522          0.001946        0.000052   \n",
       "7                                0.016363          0.002345        0.000062   \n",
       "8                                0.009714          0.002789        0.000074   \n",
       "9                                0.007643          0.003390        0.000090   \n",
       "10                               0.006906          0.003978        0.000105   \n",
       "11                               0.006400          0.004609        0.000122   \n",
       "12                               0.006143          0.005288        0.000140   \n",
       "13                               0.005986          0.005991        0.000159   \n",
       "14                               0.005910          0.006634        0.000176   \n",
       "15                               0.005854          0.007250        0.000192   \n",
       "16                               0.005808          0.007941        0.000210   \n",
       "17                               0.005837          0.008533        0.000226   \n",
       "18                               0.005832          0.009154        0.000243   \n",
       "19                               0.005818          0.009805        0.000260   \n",
       "20                               0.005871          0.010371        0.000275   \n",
       "21                               0.005907          0.010881        0.000288   \n",
       "22                               0.005970          0.011499        0.000305   \n",
       "\n",
       "    Amount (Max) [mMol/g]  Amount (Com) [mMol/g]  \n",
       "3                0.000000               0.000000  \n",
       "4                0.000238               0.002769  \n",
       "5                0.000831               0.007782  \n",
       "6                0.001766               0.014569  \n",
       "7                0.003044               0.019124  \n",
       "8                0.004622               0.022570  \n",
       "9                0.006541               0.025817  \n",
       "10               0.008357               0.028506  \n",
       "11               0.010081               0.030801  \n",
       "12               0.011664               0.032793  \n",
       "13               0.013087               0.034467  \n",
       "14               0.014308               0.035845  \n",
       "15               0.015288               0.036924  \n",
       "16               0.016247               0.037947  \n",
       "17               0.017076               0.038800  \n",
       "18               0.017844               0.039572  \n",
       "19               0.018481               0.040193  \n",
       "20               0.019139               0.040834  \n",
       "21               0.019676               0.041355  \n",
       "22               0.020226               0.041875  \n",
       "\n",
       "[20 rows x 28 columns]"
      ]
     },
     "execution_count": 302,
     "metadata": {},
     "output_type": "execute_result"
    }
   ],
   "source": [
    "# Removing of solvents that arent used in calculation\n",
    "df= df[(df.Solvent != 'n/a') & (df.Solvent != 'Methane')]\n",
    "df"
   ]
  },
  {
   "cell_type": "code",
   "execution_count": 303,
   "metadata": {
    "collapsed": false
   },
   "outputs": [],
   "source": [
    "# Renaming columns with funny character\n",
    "df.rename(columns ={'Peak Area [\\xb5V\\x95min]': 'peak_area', 'Peak Max (Signal) [\\xb5V]': 'peak_max_signal'},inplace=True)\n",
    "\n",
    "# Removing unwanted rows\n",
    "df = df[df.peak_area != 0]"
   ]
  },
  {
   "cell_type": "markdown",
   "metadata": {},
   "source": [
    "#  James-Martin pressure correction, j"
   ]
  },
  {
   "cell_type": "markdown",
   "metadata": {},
   "source": [
    "$$j=\\frac{3}{2}\\frac{(\\frac{p_{in}}{p_{out}})^{2}-1}{(\\frac{p_{in}}{p_{out}})^{3}-1}$$"
   ]
  },
  {
   "cell_type": "code",
   "execution_count": 304,
   "metadata": {
    "collapsed": false
   },
   "outputs": [],
   "source": [
    "# Atmospheric pressure in torr\n",
    "p_out = 760\n",
    "\n",
    "# input pressure is pressure drop + atomospheric pressure\n",
    "p_in = df['Column Pressure Drop [Torr]'] + p_out\n",
    "\n",
    "j = (1.5*(((p_in/p_out)**2 -1)/((p_in/p_out)**3 -1)))"
   ]
  },
  {
   "cell_type": "markdown",
   "metadata": {},
   "source": [
    "# Net Retention Volume, Vn ($\\frac{mL}{g}$)"
   ]
  },
  {
   "cell_type": "markdown",
   "metadata": {},
   "source": [
    "$$V_{N}=\\frac{j}{m}F(t_{r}-t_{0})(\\frac{T}{273.15})$$"
   ]
  },
  {
   "cell_type": "code",
   "execution_count": 305,
   "metadata": {
    "collapsed": false
   },
   "outputs": [],
   "source": [
    "# Creating input for sample mass and change its units\n",
    "m_df = pd.read_csv(input_file,nrows=1,header=None,skiprows=4)\n",
    "m=float(m_df.ix[:,1:1].values.flatten())\n",
    "m = m / 1000 # mg to g\n",
    "\n",
    "vn = (j * df['Exit Flow Rate [sccm]'] * df['Net Ret Time (Max) [min]'] * df['Column Temperature [Kelvin]'] ) / (m * 273.15)"
   ]
  },
  {
   "cell_type": "markdown",
   "metadata": {},
   "source": [
    "# Partial pressure, p (Pa)"
   ]
  },
  {
   "cell_type": "markdown",
   "metadata": {},
   "source": [
    "$$p=\\frac{n_{i}RH_{peak}273.15}{FA_{peak}}$$"
   ]
  },
  {
   "cell_type": "code",
   "execution_count": 306,
   "metadata": {
    "collapsed": false
   },
   "outputs": [],
   "source": [
    "A_peak = df['peak_area']\n",
    "n_i = df['Amount  [mMol]']\n",
    "H_peak = df['peak_max_signal']\n",
    "F = df['Exit Flow Rate [sccm]']"
   ]
  },
  {
   "cell_type": "code",
   "execution_count": 307,
   "metadata": {
    "collapsed": false
   },
   "outputs": [],
   "source": [
    "# Converting units to SI\n",
    "\n",
    "vn_SI = vn * 0.001 # converts mg/L to m^3/kg\n",
    "A_peak = A_peak * 6E-5 #converts uV.min to V.sec\n",
    "n_i = n_i / 1000 # converts mMol to Mol\n",
    "H_peak = H_peak * 1E-6 # converts uV to V\n",
    "F = F * 1.6667E-8 #from sscm to m^3/s"
   ]
  },
  {
   "cell_type": "code",
   "execution_count": 308,
   "metadata": {
    "collapsed": false
   },
   "outputs": [],
   "source": [
    "# Gas constant\n",
    "R = constants.R"
   ]
  },
  {
   "cell_type": "code",
   "execution_count": 309,
   "metadata": {
    "collapsed": false
   },
   "outputs": [],
   "source": [
    "p = (n_i * R * 273.15 * H_peak) / (F * A_peak) # Pa"
   ]
  },
  {
   "cell_type": "markdown",
   "metadata": {},
   "source": [
    "#  Amount of probe adsorbed on sample surface, n, ($\\frac{mMol}{g}$)"
   ]
  },
  {
   "cell_type": "markdown",
   "metadata": {},
   "source": [
    "$$n=\\frac{1}{RT}\\intop_{0}^{p}V_{n}dp$$"
   ]
  },
  {
   "cell_type": "code",
   "execution_count": 310,
   "metadata": {
    "collapsed": false
   },
   "outputs": [],
   "source": [
    "# Reindexing series to start at zero\n",
    "p_reindex = p.reset_index(drop=True)\n",
    "vn_SI_reindex = vn_SI.reset_index(drop=True)"
   ]
  },
  {
   "cell_type": "code",
   "execution_count": 311,
   "metadata": {
    "collapsed": false
   },
   "outputs": [],
   "source": [
    "# T value used in n calc\n",
    "T_av = df['Column Temperature [Kelvin]'].mean()"
   ]
  },
  {
   "cell_type": "code",
   "execution_count": 312,
   "metadata": {
    "collapsed": false
   },
   "outputs": [],
   "source": [
    "# set n as empty array in shape of as other values \n",
    "n = np.empty_like(p_reindex)"
   ]
  },
  {
   "cell_type": "code",
   "execution_count": 313,
   "metadata": {
    "collapsed": false
   },
   "outputs": [],
   "source": [
    "# Cumulative integration  of vn with respect to partial pressure p\n",
    "n[0] = (p_reindex[0] * vn_SI_reindex[0]) / (R * T_av)\n",
    "for i in range(1, len(p_reindex)):\n",
    "    n[i] = (p_reindex[i] - p_reindex[i - 1]) * (vn_SI_reindex[i] / (R * T_av)) + n[i - 1]"
   ]
  },
  {
   "cell_type": "code",
   "execution_count": 314,
   "metadata": {
    "collapsed": false
   },
   "outputs": [],
   "source": [
    "# set n as series with same index as p_reindex and vn_SI_reindex\n",
    "n = Series(n)"
   ]
  },
  {
   "cell_type": "markdown",
   "metadata": {},
   "source": [
    "# Saturation vapour pressure calculation, $p_{sat}$ (Pa)"
   ]
  },
  {
   "cell_type": "markdown",
   "metadata": {},
   "source": [
    "$$\\log_{10}p_{sat}=A-\\frac{B}{C+T}$$\n",
    "$$p_{sat}=10^{(A-\\frac{B}{C+T})}$$"
   ]
  },
  {
   "cell_type": "code",
   "execution_count": 315,
   "metadata": {
    "collapsed": true
   },
   "outputs": [],
   "source": [
    "# Antoine coefficients for octane (probe used for surface area calculations from AntoineConstants excel file)"
   ]
  },
  {
   "cell_type": "code",
   "execution_count": 316,
   "metadata": {
    "collapsed": false
   },
   "outputs": [],
   "source": [
    "# Coefficents A,B,C are for T = 20C\n",
    "A = 6.91868\n",
    "B = 1351.99\n",
    "C = 209.155\n",
    "\n",
    "\n",
    "p_sat = 10 ** (A- (B /(20+C))) # mmHg T= 20C\n",
    "p_sat = p_sat * 133.322 # mmHg to Pa"
   ]
  },
  {
   "cell_type": "markdown",
   "metadata": {},
   "source": [
    "# Relative pressure, $p_{rel}$"
   ]
  },
  {
   "cell_type": "markdown",
   "metadata": {},
   "source": [
    "$$p_{rel}=\\frac{p}{p_{sat}}$$"
   ]
  },
  {
   "cell_type": "code",
   "execution_count": 317,
   "metadata": {
    "collapsed": false
   },
   "outputs": [],
   "source": [
    "p_rel = p_reindex / p_sat"
   ]
  },
  {
   "cell_type": "markdown",
   "metadata": {},
   "source": [
    "# Adsorption Isotherm Plot"
   ]
  },
  {
   "cell_type": "code",
   "execution_count": 318,
   "metadata": {
    "collapsed": false
   },
   "outputs": [
    {
     "data": {
      "text/plain": [
       "(0, 0.41594049209315226)"
      ]
     },
     "execution_count": 318,
     "metadata": {},
     "output_type": "execute_result"
    },
    {
     "data": {
      "image/png": "[encoded data removed]",
      "text/plain": [
       "<matplotlib.figure.Figure at 0x1f6bc710>"
      ]
     },
     "metadata": {},
     "output_type": "display_data"
    }
   ],
   "source": [
    "plt.scatter(p_rel, n)\n",
    "plt.title('Adsorption Isotherm')\n",
    "plt.xlabel('Relative Pressure (p/p_rel)')\n",
    "plt.ylabel('Amount Adsorbed (mMol/g)')\n",
    "x_max = max(p_rel) + (0.1 * max(p_rel))\n",
    "y_max = max(n) + (0.1 * max(n))\n",
    "plt.ylim(0,y_max)\n",
    "plt.xlim(0,x_max)"
   ]
  },
  {
   "cell_type": "markdown",
   "metadata": {},
   "source": [
    "#  BET  equation plot and calculation"
   ]
  },
  {
   "cell_type": "markdown",
   "metadata": {},
   "source": [
    "$$\\frac{p}{n(p-p_{sat})}=\\frac{C-1}{n_{m}C}\\frac{p}{p_{sat}}+\\frac{1}{n_{m}C}$$"
   ]
  },
  {
   "cell_type": "code",
   "execution_count": 319,
   "metadata": {
    "collapsed": false
   },
   "outputs": [],
   "source": [
    "# setting Y axis for BET plot\n",
    "y_BET = p_reindex / (n * (p_sat - p_reindex))"
   ]
  },
  {
   "cell_type": "code",
   "execution_count": 320,
   "metadata": {
    "collapsed": false
   },
   "outputs": [],
   "source": [
    "# set up BET dataframe\n",
    "BET_df = pd.concat([p_rel, y_BET], axis = 1)\n",
    "BET_df.columns = ['p_rel', 'y_BET']"
   ]
  },
  {
   "cell_type": "code",
   "execution_count": 321,
   "metadata": {
    "collapsed": false
   },
   "outputs": [],
   "source": [
    "# BET equation is only valid between p_rel values of 0.05 to 0.35\n",
    "BET_df = BET_df[(BET_df.p_rel >= 0.05) & (BET_df.p_rel <= 0.35)]"
   ]
  },
  {
   "cell_type": "code",
   "execution_count": 322,
   "metadata": {
    "collapsed": false
   },
   "outputs": [
    {
     "data": {
      "text/html": [
       "<div>\n",
       "<table border=\"1\" class=\"dataframe\">\n",
       "  <thead>\n",
       "    <tr style=\"text-align: right;\">\n",
       "      <th></th>\n",
       "      <th>p_rel</th>\n",
       "      <th>y_BET</th>\n",
       "    </tr>\n",
       "  </thead>\n",
       "  <tbody>\n",
       "    <tr>\n",
       "      <th>3</th>\n",
       "      <td>0.053068</td>\n",
       "      <td>18.395879</td>\n",
       "    </tr>\n",
       "    <tr>\n",
       "      <th>4</th>\n",
       "      <td>0.086979</td>\n",
       "      <td>20.614482</td>\n",
       "    </tr>\n",
       "    <tr>\n",
       "      <th>5</th>\n",
       "      <td>0.127626</td>\n",
       "      <td>22.374724</td>\n",
       "    </tr>\n",
       "    <tr>\n",
       "      <th>6</th>\n",
       "      <td>0.164970</td>\n",
       "      <td>23.639445</td>\n",
       "    </tr>\n",
       "    <tr>\n",
       "      <th>7</th>\n",
       "      <td>0.199316</td>\n",
       "      <td>24.692364</td>\n",
       "    </tr>\n",
       "    <tr>\n",
       "      <th>8</th>\n",
       "      <td>0.230368</td>\n",
       "      <td>25.661667</td>\n",
       "    </tr>\n",
       "    <tr>\n",
       "      <th>9</th>\n",
       "      <td>0.257146</td>\n",
       "      <td>26.449651</td>\n",
       "    </tr>\n",
       "    <tr>\n",
       "      <th>10</th>\n",
       "      <td>0.279471</td>\n",
       "      <td>27.108001</td>\n",
       "    </tr>\n",
       "    <tr>\n",
       "      <th>11</th>\n",
       "      <td>0.297127</td>\n",
       "      <td>27.651503</td>\n",
       "    </tr>\n",
       "    <tr>\n",
       "      <th>12</th>\n",
       "      <td>0.313990</td>\n",
       "      <td>28.170774</td>\n",
       "    </tr>\n",
       "    <tr>\n",
       "      <th>13</th>\n",
       "      <td>0.327995</td>\n",
       "      <td>28.583161</td>\n",
       "    </tr>\n",
       "    <tr>\n",
       "      <th>14</th>\n",
       "      <td>0.340670</td>\n",
       "      <td>28.955047</td>\n",
       "    </tr>\n",
       "  </tbody>\n",
       "</table>\n",
       "</div>"
      ],
      "text/plain": [
       "       p_rel      y_BET\n",
       "3   0.053068  18.395879\n",
       "4   0.086979  20.614482\n",
       "5   0.127626  22.374724\n",
       "6   0.164970  23.639445\n",
       "7   0.199316  24.692364\n",
       "8   0.230368  25.661667\n",
       "9   0.257146  26.449651\n",
       "10  0.279471  27.108001\n",
       "11  0.297127  27.651503\n",
       "12  0.313990  28.170774\n",
       "13  0.327995  28.583161\n",
       "14  0.340670  28.955047"
      ]
     },
     "execution_count": 322,
     "metadata": {},
     "output_type": "execute_result"
    }
   ],
   "source": [
    "BET_df"
   ]
  },
  {
   "cell_type": "code",
   "execution_count": 323,
   "metadata": {
    "collapsed": false
   },
   "outputs": [],
   "source": [
    "# Function does linear regression and if threshold r_sq values isnt reached it removes the first row of dataframe\n",
    "# First row is removed because generally BET data is better at higher p_rel\n",
    "def regress(df):\n",
    "    # Linear regression of BET plot within allowed p_rel range\n",
    "    slope, intercept, r_value, p_value, std_err = stats.linregress(df['p_rel'],df['y_BET'])\n",
    "    \n",
    "    r_sq = r_value ** 2\n",
    "    print r_sq\n",
    "    \n",
    "    if r_sq < 0.995:\n",
    "        \n",
    "        return regress(df.iloc[1:]) # re-runs function with first row removed, removes first row until threshold r_sq reached\n",
    "    else:\n",
    "        # Calculations used for finding error in intercept from 'https://en.wikipedia.org/wiki/Regression_analysis'\n",
    "        sse = ((df['y_BET'] - ((slope * df['p_rel']) + intercept)) ** 2).sum()\n",
    "        n = len(df['p_rel'])\n",
    "        var = np.sqrt((sse / (n - 2)))\n",
    "        x_mean = df['p_rel'].mean()\n",
    "        sx2 = ((df['p_rel'] - x_mean) **2).sum()\n",
    "        intercept_err = var * np.sqrt((1/n) + (x_mean ** 2) / sx2)\n",
    "        \n",
    "        return slope,intercept,r_value,p_value,std_err,r_sq, intercept_err"
   ]
  },
  {
   "cell_type": "code",
   "execution_count": 324,
   "metadata": {
    "collapsed": false
   },
   "outputs": [
    {
     "name": "stdout",
     "output_type": "stream",
     "text": [
      "0.986760389432\n",
      "0.99691921404\n"
     ]
    }
   ],
   "source": [
    "slope,intercept,r_value,p_value, std_err, r_sq,intercept_err = regress(BET_df)"
   ]
  },
  {
   "cell_type": "code",
   "execution_count": 325,
   "metadata": {
    "collapsed": false
   },
   "outputs": [
    {
     "data": {
      "text/plain": [
       "<matplotlib.text.Text at 0x1eff6160>"
      ]
     },
     "execution_count": 325,
     "metadata": {},
     "output_type": "execute_result"
    },
    {
     "data": {
      "image/png": "[encoded data removed]",
      "text/plain": [
       "<matplotlib.figure.Figure at 0x1d2615f8>"
      ]
     },
     "metadata": {},
     "output_type": "display_data"
    }
   ],
   "source": [
    "# BET plot\n",
    "plt.scatter(p_rel,y_BET)\n",
    "plt.plot(p_rel, (p_rel * slope) + intercept, c='r')\n",
    "plt.title('BET plot')\n",
    "plt.xlabel('Relative Pressure (p/p_rel)')\n",
    "plt.ylabel('p / n[p_sat-p] (g/mMol)')\n"
   ]
  },
  {
   "cell_type": "markdown",
   "metadata": {},
   "source": [
    "$$n_{m}=\\frac{1}{slope+intercept}$$"
   ]
  },
  {
   "cell_type": "code",
   "execution_count": 326,
   "metadata": {
    "collapsed": false
   },
   "outputs": [],
   "source": [
    "# The monolayer capacity, n_m is found from slope and intercept of fitted line from BET plot\n",
    "\n",
    "n_m = 1 / (slope + intercept) # mMol/g\n",
    "err_slope_intercept = np.sqrt((std_err) ** 2 + (intercept_err) ** 2) # error in slope+intercept\n",
    "n_m_err = n_m * (err_slope_intercept / (slope + intercept)) # error in n_m\n",
    "n_m = n_m / 1000 # change units from mMol/g to Mol/g\n",
    "n_m_err = n_m_err / 1000 # change units from mMol/g to Mol/g"
   ]
  },
  {
   "cell_type": "markdown",
   "metadata": {},
   "source": [
    "#  Specific Surface Area, $\\frac{m^{2}}{g}$"
   ]
  },
  {
   "cell_type": "markdown",
   "metadata": {},
   "source": [
    "$$S_{BET}=n_{m}N_{a}a$$"
   ]
  },
  {
   "cell_type": "code",
   "execution_count": 327,
   "metadata": {
    "collapsed": false
   },
   "outputs": [],
   "source": [
    "a = 6.3E-19 # m^2 This is the cross-sectional surface area of a Octane molecule\n",
    "Na = constants.Avogadro"
   ]
  },
  {
   "cell_type": "code",
   "execution_count": 328,
   "metadata": {
    "collapsed": false
   },
   "outputs": [],
   "source": [
    "ssa = n_m * Na * a\n",
    "ssa_err = ssa * (n_m_err / n_m)"
   ]
  },
  {
   "cell_type": "code",
   "execution_count": 329,
   "metadata": {
    "collapsed": false
   },
   "outputs": [
    {
     "name": "stdout",
     "output_type": "stream",
     "text": [
      "The SSA is 7.57 with error 0.09 and R^2 of 0.9969\n"
     ]
    }
   ],
   "source": [
    "print 'The SSA is %.2f with error %.2f and R^2 of %.4f' % (ssa,ssa_err,r_sq)"
   ]
  },
  {
   "cell_type": "code",
   "execution_count": null,
   "metadata": {
    "collapsed": true
   },
   "outputs": [],
   "source": []
  }
 ],
 "metadata": {
  "kernelspec": {
   "display_name": "Python 2",
   "language": "python",
   "name": "python2"
  },
  "language_info": {
   "codemirror_mode": {
    "name": "ipython",
    "version": 2
   },
   "file_extension": ".py",
   "mimetype": "text/x-python",
   "name": "python",
   "nbconvert_exporter": "python",
   "pygments_lexer": "ipython2",
   "version": "2.7.11"
  }
 },
 "nbformat": 4,
 "nbformat_minor": 0
}
