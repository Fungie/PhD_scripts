{
 "cells": [
  {
   "cell_type": "markdown",
   "metadata": {},
   "source": [
    "This script is for calculating the specific surface area ($S_{BET}$) of a solid sample, including error from Inverse Gas Chromatography measurements, specifically those done on the SEA (Surface energy analyser). Measured parameters are imported from a csv file and the specific surface area of the sample is printed at the end of the document along with visualisations of the adsorption isotherm and BET plot."
   ]
  },
  {
   "cell_type": "code",
   "execution_count": 1275,
   "metadata": {
    "collapsed": true
   },
   "outputs": [],
   "source": [
    "import pandas as pd\n",
    "import numpy as np\n",
    "from pandas import Series,DataFrame\n",
    "from scipy import stats, constants\n",
    "import matplotlib.pyplot as plt\n",
    "%matplotlib inline"
   ]
  },
  {
   "cell_type": "markdown",
   "metadata": {},
   "source": [
    "# Organising data"
   ]
  },
  {
   "cell_type": "code",
   "execution_count": 1276,
   "metadata": {
    "collapsed": false
   },
   "outputs": [
    {
     "name": "stdout",
     "output_type": "stream",
     "text": [
      "Copy path to input file here \n",
      "make sure to insert extra \"\\\" and remove \"\" \n",
      "C:\\\\Users\\\\tcd\\\\Dropbox\\\\Graphite study\\\\Surface area error calcs\\\\5-timcal.csv\n"
     ]
    }
   ],
   "source": [
    "# Reads csv input file and skips rows to where data start\n",
    "input_file = raw_input('Copy path to input file here \\nmake sure to insert extra \"\\\\\" and remove \"\" \\n')\n",
    "df = pd.read_csv(input_file, skiprows = 17)"
   ]
  },
  {
   "cell_type": "code",
   "execution_count": 1277,
   "metadata": {
    "collapsed": false
   },
   "outputs": [
    {
     "data": {
      "text/html": [
       "<div>\n",
       "<table border=\"1\" class=\"dataframe\">\n",
       "  <thead>\n",
       "    <tr style=\"text-align: right;\">\n",
       "      <th></th>\n",
       "      <th>ID</th>\n",
       "      <th>Injection Name</th>\n",
       "      <th>Solvent</th>\n",
       "      <th>Injection Time [ms]</th>\n",
       "      <th>Duration [min]</th>\n",
       "      <th>Target Fractional Surface Coverage</th>\n",
       "      <th>Actual Fractional Surface Coverage</th>\n",
       "      <th>Column Temperature [Kelvin]</th>\n",
       "      <th>Column Pressure Drop [Torr]</th>\n",
       "      <th>Exit Flow Rate [sccm]</th>\n",
       "      <th>...</th>\n",
       "      <th>Net Ret Volume (Max) [ml/g]</th>\n",
       "      <th>Net Ret Time (Com) [min]</th>\n",
       "      <th>Net Ret Volume (Com) [ml/g]</th>\n",
       "      <th>Partial Pressure [Torr]</th>\n",
       "      <th>Pres Ret Volume (Max) [mMol/(g�Torr)]</th>\n",
       "      <th>Pres Ret Volume (Com) [mMol/(g�Torr)]</th>\n",
       "      <th>Amount  [mMol/g]</th>\n",
       "      <th>Amount  [mMol]</th>\n",
       "      <th>Amount (Max) [mMol/g]</th>\n",
       "      <th>Amount (Com) [mMol/g]</th>\n",
       "    </tr>\n",
       "  </thead>\n",
       "  <tbody>\n",
       "    <tr>\n",
       "      <th>2</th>\n",
       "      <td>3</td>\n",
       "      <td>injection1</td>\n",
       "      <td>OCTANE</td>\n",
       "      <td>690</td>\n",
       "      <td>10</td>\n",
       "      <td>0.01</td>\n",
       "      <td>0.008082</td>\n",
       "      <td>293.160885</td>\n",
       "      <td>48.527700</td>\n",
       "      <td>19.995001</td>\n",
       "      <td>...</td>\n",
       "      <td>44.465924</td>\n",
       "      <td>0.096308</td>\n",
       "      <td>109.408216</td>\n",
       "      <td>0.275066</td>\n",
       "      <td>0.002432</td>\n",
       "      <td>0.005984</td>\n",
       "      <td>0.000746</td>\n",
       "      <td>0.000014</td>\n",
       "      <td>0.000669</td>\n",
       "      <td>0.001646</td>\n",
       "    </tr>\n",
       "    <tr>\n",
       "      <th>3</th>\n",
       "      <td>4</td>\n",
       "      <td>injection2</td>\n",
       "      <td>OCTANE</td>\n",
       "      <td>1352</td>\n",
       "      <td>8</td>\n",
       "      <td>0.02</td>\n",
       "      <td>0.017646</td>\n",
       "      <td>293.172950</td>\n",
       "      <td>48.556311</td>\n",
       "      <td>19.995001</td>\n",
       "      <td>...</td>\n",
       "      <td>46.360724</td>\n",
       "      <td>0.067522</td>\n",
       "      <td>76.708129</td>\n",
       "      <td>0.724134</td>\n",
       "      <td>0.002536</td>\n",
       "      <td>0.004195</td>\n",
       "      <td>0.001628</td>\n",
       "      <td>0.000030</td>\n",
       "      <td>0.001808</td>\n",
       "      <td>0.003530</td>\n",
       "    </tr>\n",
       "    <tr>\n",
       "      <th>4</th>\n",
       "      <td>5</td>\n",
       "      <td>injection3</td>\n",
       "      <td>OCTANE</td>\n",
       "      <td>1987</td>\n",
       "      <td>7</td>\n",
       "      <td>0.03</td>\n",
       "      <td>0.027795</td>\n",
       "      <td>293.154620</td>\n",
       "      <td>49.386089</td>\n",
       "      <td>20.009999</td>\n",
       "      <td>...</td>\n",
       "      <td>46.367575</td>\n",
       "      <td>0.061739</td>\n",
       "      <td>70.149506</td>\n",
       "      <td>1.216179</td>\n",
       "      <td>0.002536</td>\n",
       "      <td>0.003837</td>\n",
       "      <td>0.002564</td>\n",
       "      <td>0.000047</td>\n",
       "      <td>0.003056</td>\n",
       "      <td>0.005418</td>\n",
       "    </tr>\n",
       "    <tr>\n",
       "      <th>5</th>\n",
       "      <td>6</td>\n",
       "      <td>injection4</td>\n",
       "      <td>OCTANE</td>\n",
       "      <td>2597</td>\n",
       "      <td>6</td>\n",
       "      <td>0.04</td>\n",
       "      <td>0.040427</td>\n",
       "      <td>293.165016</td>\n",
       "      <td>48.913980</td>\n",
       "      <td>19.997499</td>\n",
       "      <td>...</td>\n",
       "      <td>50.140428</td>\n",
       "      <td>0.057482</td>\n",
       "      <td>65.293807</td>\n",
       "      <td>1.812108</td>\n",
       "      <td>0.002742</td>\n",
       "      <td>0.003571</td>\n",
       "      <td>0.003729</td>\n",
       "      <td>0.000068</td>\n",
       "      <td>0.004690</td>\n",
       "      <td>0.007546</td>\n",
       "    </tr>\n",
       "    <tr>\n",
       "      <th>6</th>\n",
       "      <td>7</td>\n",
       "      <td>injection5</td>\n",
       "      <td>OCTANE</td>\n",
       "      <td>3182</td>\n",
       "      <td>4</td>\n",
       "      <td>0.05</td>\n",
       "      <td>0.052291</td>\n",
       "      <td>292.967055</td>\n",
       "      <td>49.657915</td>\n",
       "      <td>19.990000</td>\n",
       "      <td>...</td>\n",
       "      <td>51.972344</td>\n",
       "      <td>0.056923</td>\n",
       "      <td>64.559173</td>\n",
       "      <td>2.355512</td>\n",
       "      <td>0.002845</td>\n",
       "      <td>0.003534</td>\n",
       "      <td>0.004824</td>\n",
       "      <td>0.000088</td>\n",
       "      <td>0.006236</td>\n",
       "      <td>0.009466</td>\n",
       "    </tr>\n",
       "    <tr>\n",
       "      <th>7</th>\n",
       "      <td>8</td>\n",
       "      <td>injection6</td>\n",
       "      <td>OCTANE</td>\n",
       "      <td>3743</td>\n",
       "      <td>1</td>\n",
       "      <td>0.06</td>\n",
       "      <td>0.062146</td>\n",
       "      <td>292.687175</td>\n",
       "      <td>49.343168</td>\n",
       "      <td>20.002501</td>\n",
       "      <td>...</td>\n",
       "      <td>61.397387</td>\n",
       "      <td>0.059771</td>\n",
       "      <td>67.780736</td>\n",
       "      <td>2.617697</td>\n",
       "      <td>0.003364</td>\n",
       "      <td>0.003713</td>\n",
       "      <td>0.005733</td>\n",
       "      <td>0.000105</td>\n",
       "      <td>0.007118</td>\n",
       "      <td>0.010440</td>\n",
       "    </tr>\n",
       "    <tr>\n",
       "      <th>8</th>\n",
       "      <td>9</td>\n",
       "      <td>injection7</td>\n",
       "      <td>OCTANE</td>\n",
       "      <td>4282</td>\n",
       "      <td>1</td>\n",
       "      <td>0.07</td>\n",
       "      <td>0.077337</td>\n",
       "      <td>292.676995</td>\n",
       "      <td>50.902580</td>\n",
       "      <td>19.992500</td>\n",
       "      <td>...</td>\n",
       "      <td>66.982930</td>\n",
       "      <td>0.060867</td>\n",
       "      <td>68.916645</td>\n",
       "      <td>3.076822</td>\n",
       "      <td>0.003670</td>\n",
       "      <td>0.003776</td>\n",
       "      <td>0.007134</td>\n",
       "      <td>0.000131</td>\n",
       "      <td>0.008802</td>\n",
       "      <td>0.012174</td>\n",
       "    </tr>\n",
       "    <tr>\n",
       "      <th>9</th>\n",
       "      <td>10</td>\n",
       "      <td>injection8</td>\n",
       "      <td>OCTANE</td>\n",
       "      <td>4801</td>\n",
       "      <td>1</td>\n",
       "      <td>0.08</td>\n",
       "      <td>0.087591</td>\n",
       "      <td>292.701290</td>\n",
       "      <td>50.831055</td>\n",
       "      <td>20.000000</td>\n",
       "      <td>...</td>\n",
       "      <td>68.885905</td>\n",
       "      <td>0.061669</td>\n",
       "      <td>69.860305</td>\n",
       "      <td>3.367961</td>\n",
       "      <td>0.003774</td>\n",
       "      <td>0.003827</td>\n",
       "      <td>0.008080</td>\n",
       "      <td>0.000148</td>\n",
       "      <td>0.009901</td>\n",
       "      <td>0.013288</td>\n",
       "    </tr>\n",
       "    <tr>\n",
       "      <th>10</th>\n",
       "      <td>11</td>\n",
       "      <td>injection9</td>\n",
       "      <td>OCTANE</td>\n",
       "      <td>5299</td>\n",
       "      <td>1</td>\n",
       "      <td>0.09</td>\n",
       "      <td>0.101905</td>\n",
       "      <td>292.731675</td>\n",
       "      <td>51.546375</td>\n",
       "      <td>19.992499</td>\n",
       "      <td>...</td>\n",
       "      <td>74.495198</td>\n",
       "      <td>0.064532</td>\n",
       "      <td>73.050307</td>\n",
       "      <td>3.731230</td>\n",
       "      <td>0.004081</td>\n",
       "      <td>0.004001</td>\n",
       "      <td>0.009401</td>\n",
       "      <td>0.000172</td>\n",
       "      <td>0.011384</td>\n",
       "      <td>0.014741</td>\n",
       "    </tr>\n",
       "    <tr>\n",
       "      <th>11</th>\n",
       "      <td>12</td>\n",
       "      <td>injection10</td>\n",
       "      <td>OCTANE</td>\n",
       "      <td>5780</td>\n",
       "      <td>1</td>\n",
       "      <td>0.1</td>\n",
       "      <td>0.109541</td>\n",
       "      <td>292.788705</td>\n",
       "      <td>49.486235</td>\n",
       "      <td>20.002500</td>\n",
       "      <td>...</td>\n",
       "      <td>78.427491</td>\n",
       "      <td>0.066655</td>\n",
       "      <td>75.606421</td>\n",
       "      <td>3.864324</td>\n",
       "      <td>0.004295</td>\n",
       "      <td>0.004141</td>\n",
       "      <td>0.010105</td>\n",
       "      <td>0.000185</td>\n",
       "      <td>0.011955</td>\n",
       "      <td>0.015293</td>\n",
       "    </tr>\n",
       "  </tbody>\n",
       "</table>\n",
       "<p>10 rows × 28 columns</p>\n",
       "</div>"
      ],
      "text/plain": [
       "    ID Injection Name Solvent  Injection Time [ms]  Duration [min]  \\\n",
       "2    3     injection1  OCTANE                  690              10   \n",
       "3    4     injection2  OCTANE                 1352               8   \n",
       "4    5     injection3  OCTANE                 1987               7   \n",
       "5    6     injection4  OCTANE                 2597               6   \n",
       "6    7     injection5  OCTANE                 3182               4   \n",
       "7    8     injection6  OCTANE                 3743               1   \n",
       "8    9     injection7  OCTANE                 4282               1   \n",
       "9   10     injection8  OCTANE                 4801               1   \n",
       "10  11     injection9  OCTANE                 5299               1   \n",
       "11  12    injection10  OCTANE                 5780               1   \n",
       "\n",
       "   Target Fractional Surface Coverage  Actual Fractional Surface Coverage  \\\n",
       "2                                0.01                            0.008082   \n",
       "3                                0.02                            0.017646   \n",
       "4                                0.03                            0.027795   \n",
       "5                                0.04                            0.040427   \n",
       "6                                0.05                            0.052291   \n",
       "7                                0.06                            0.062146   \n",
       "8                                0.07                            0.077337   \n",
       "9                                0.08                            0.087591   \n",
       "10                               0.09                            0.101905   \n",
       "11                                0.1                            0.109541   \n",
       "\n",
       "    Column Temperature [Kelvin]  Column Pressure Drop [Torr]  \\\n",
       "2                    293.160885                    48.527700   \n",
       "3                    293.172950                    48.556311   \n",
       "4                    293.154620                    49.386089   \n",
       "5                    293.165016                    48.913980   \n",
       "6                    292.967055                    49.657915   \n",
       "7                    292.687175                    49.343168   \n",
       "8                    292.676995                    50.902580   \n",
       "9                    292.701290                    50.831055   \n",
       "10                   292.731675                    51.546375   \n",
       "11                   292.788705                    49.486235   \n",
       "\n",
       "    Exit Flow Rate [sccm]          ...            Net Ret Volume (Max) [ml/g]  \\\n",
       "2               19.995001          ...                              44.465924   \n",
       "3               19.995001          ...                              46.360724   \n",
       "4               20.009999          ...                              46.367575   \n",
       "5               19.997499          ...                              50.140428   \n",
       "6               19.990000          ...                              51.972344   \n",
       "7               20.002501          ...                              61.397387   \n",
       "8               19.992500          ...                              66.982930   \n",
       "9               20.000000          ...                              68.885905   \n",
       "10              19.992499          ...                              74.495198   \n",
       "11              20.002500          ...                              78.427491   \n",
       "\n",
       "    Net Ret Time (Com) [min]  Net Ret Volume (Com) [ml/g]  \\\n",
       "2                   0.096308                   109.408216   \n",
       "3                   0.067522                    76.708129   \n",
       "4                   0.061739                    70.149506   \n",
       "5                   0.057482                    65.293807   \n",
       "6                   0.056923                    64.559173   \n",
       "7                   0.059771                    67.780736   \n",
       "8                   0.060867                    68.916645   \n",
       "9                   0.061669                    69.860305   \n",
       "10                  0.064532                    73.050307   \n",
       "11                  0.066655                    75.606421   \n",
       "\n",
       "    Partial Pressure [Torr]  Pres Ret Volume (Max) [mMol/(g�Torr)]  \\\n",
       "2                  0.275066                               0.002432   \n",
       "3                  0.724134                               0.002536   \n",
       "4                  1.216179                               0.002536   \n",
       "5                  1.812108                               0.002742   \n",
       "6                  2.355512                               0.002845   \n",
       "7                  2.617697                               0.003364   \n",
       "8                  3.076822                               0.003670   \n",
       "9                  3.367961                               0.003774   \n",
       "10                 3.731230                               0.004081   \n",
       "11                 3.864324                               0.004295   \n",
       "\n",
       "    Pres Ret Volume (Com) [mMol/(g�Torr)]  Amount  [mMol/g]  Amount  [mMol]  \\\n",
       "2                                0.005984          0.000746        0.000014   \n",
       "3                                0.004195          0.001628        0.000030   \n",
       "4                                0.003837          0.002564        0.000047   \n",
       "5                                0.003571          0.003729        0.000068   \n",
       "6                                0.003534          0.004824        0.000088   \n",
       "7                                0.003713          0.005733        0.000105   \n",
       "8                                0.003776          0.007134        0.000131   \n",
       "9                                0.003827          0.008080        0.000148   \n",
       "10                               0.004001          0.009401        0.000172   \n",
       "11                               0.004141          0.010105        0.000185   \n",
       "\n",
       "    Amount (Max) [mMol/g]  Amount (Com) [mMol/g]  \n",
       "2                0.000669               0.001646  \n",
       "3                0.001808               0.003530  \n",
       "4                0.003056               0.005418  \n",
       "5                0.004690               0.007546  \n",
       "6                0.006236               0.009466  \n",
       "7                0.007118               0.010440  \n",
       "8                0.008802               0.012174  \n",
       "9                0.009901               0.013288  \n",
       "10               0.011384               0.014741  \n",
       "11               0.011955               0.015293  \n",
       "\n",
       "[10 rows x 28 columns]"
      ]
     },
     "execution_count": 1277,
     "metadata": {},
     "output_type": "execute_result"
    }
   ],
   "source": [
    "# Removing of solvents that arent used in calculation\n",
    "df= df[(df.Solvent != 'n/a') & (df.Solvent != 'Methane')]\n",
    "df"
   ]
  },
  {
   "cell_type": "code",
   "execution_count": 1278,
   "metadata": {
    "collapsed": false
   },
   "outputs": [],
   "source": [
    "# Renaming columns with funny character\n",
    "df.rename(columns ={'Peak Area [\\xb5V\\x95min]': 'peak_area', 'Peak Max (Signal) [\\xb5V]': 'peak_max_signal'},inplace=True)\n",
    "\n",
    "# Removing unwanted rows\n",
    "df = df[df.peak_area != 0]"
   ]
  },
  {
   "cell_type": "markdown",
   "metadata": {},
   "source": [
    "#  James-Martin pressure correction, j"
   ]
  },
  {
   "cell_type": "markdown",
   "metadata": {},
   "source": [
    "$$j=\\frac{3}{2}\\frac{(\\frac{p_{in}}{p_{out}})^{2}-1}{(\\frac{p_{in}}{p_{out}})^{3}-1}$$"
   ]
  },
  {
   "cell_type": "code",
   "execution_count": 1279,
   "metadata": {
    "collapsed": false
   },
   "outputs": [],
   "source": [
    "# Atmospheric pressure in torr\n",
    "p_out = 760\n",
    "\n",
    "# input pressure is pressure drop + atomospheric pressure\n",
    "p_in = df['Column Pressure Drop [Torr]'] + p_out\n",
    "\n",
    "j = (1.5*(((p_in/p_out)**2 -1)/((p_in/p_out)**3 -1)))"
   ]
  },
  {
   "cell_type": "markdown",
   "metadata": {},
   "source": [
    "# Net Retention Volume, Vn ($\\frac{mL}{g}$)"
   ]
  },
  {
   "cell_type": "markdown",
   "metadata": {},
   "source": [
    "$$V_{N}=\\frac{j}{m}F(t_{r}-t_{0})(\\frac{T}{273.15})$$"
   ]
  },
  {
   "cell_type": "code",
   "execution_count": 1280,
   "metadata": {
    "collapsed": false
   },
   "outputs": [],
   "source": [
    "# Creating input for sample mass and change its units\n",
    "m_df = pd.read_csv(input_file,nrows=1,header=None,skiprows=4)\n",
    "m=float(m_df.ix[:,1:1].values.flatten())\n",
    "m = m / 1000 # mg to g\n",
    "\n",
    "vn = (j * df['Exit Flow Rate [sccm]'] * df['Net Ret Time (Max) [min]'] * df['Column Temperature [Kelvin]'] ) / (m * 273.15)"
   ]
  },
  {
   "cell_type": "markdown",
   "metadata": {},
   "source": [
    "# Partial pressure, p (Pa)"
   ]
  },
  {
   "cell_type": "markdown",
   "metadata": {},
   "source": [
    "$$p=\\frac{n_{i}RH_{peak}273.15}{FA_{peak}}$$"
   ]
  },
  {
   "cell_type": "code",
   "execution_count": 1281,
   "metadata": {
    "collapsed": false
   },
   "outputs": [],
   "source": [
    "A_peak = df['peak_area']\n",
    "n_i = df['Amount  [mMol]']\n",
    "H_peak = df['peak_max_signal']\n",
    "F = df['Exit Flow Rate [sccm]']"
   ]
  },
  {
   "cell_type": "code",
   "execution_count": 1282,
   "metadata": {
    "collapsed": false
   },
   "outputs": [],
   "source": [
    "# Converting units to SI\n",
    "\n",
    "vn_SI = vn * 0.001 # converts mg/L to m^3/kg\n",
    "A_peak = A_peak * 6E-5 #converts uV.min to V.sec\n",
    "n_i = n_i / 1000 # converts mMol to Mol\n",
    "H_peak = H_peak * 1E-6 # converts uV to V\n",
    "F = F * 1.6667E-8 #from sscm to m^3/s"
   ]
  },
  {
   "cell_type": "code",
   "execution_count": 1283,
   "metadata": {
    "collapsed": false
   },
   "outputs": [],
   "source": [
    "# Gas constant\n",
    "R = constants.R"
   ]
  },
  {
   "cell_type": "code",
   "execution_count": 1284,
   "metadata": {
    "collapsed": false
   },
   "outputs": [],
   "source": [
    "p = (n_i * R * 273.15 * H_peak) / (F * A_peak) # Pa"
   ]
  },
  {
   "cell_type": "markdown",
   "metadata": {},
   "source": [
    "#  Amount of probe adsorbed on sample surface, n, ($\\frac{mMol}{g}$)"
   ]
  },
  {
   "cell_type": "markdown",
   "metadata": {},
   "source": [
    "$$n=\\frac{1}{RT}\\intop_{0}^{p}V_{n}dp$$"
   ]
  },
  {
   "cell_type": "code",
   "execution_count": 1285,
   "metadata": {
    "collapsed": false
   },
   "outputs": [],
   "source": [
    "# Reindexing series to start at zero\n",
    "p_reindex = p.reset_index(drop=True)\n",
    "vn_SI_reindex = vn_SI.reset_index(drop=True)"
   ]
  },
  {
   "cell_type": "code",
   "execution_count": 1286,
   "metadata": {
    "collapsed": false
   },
   "outputs": [],
   "source": [
    "# T value used in n calc\n",
    "T_av = df['Column Temperature [Kelvin]'].mean()"
   ]
  },
  {
   "cell_type": "code",
   "execution_count": 1287,
   "metadata": {
    "collapsed": false
   },
   "outputs": [],
   "source": [
    "# set n as empty array in shape of as other values \n",
    "n = np.empty_like(p_reindex)"
   ]
  },
  {
   "cell_type": "code",
   "execution_count": 1288,
   "metadata": {
    "collapsed": false
   },
   "outputs": [],
   "source": [
    "# Cumulative integration  of vn with respect to partial pressure p\n",
    "n[0] = (p_reindex[0] * vn_SI_reindex[0]) / (R * T_av)\n",
    "for i in range(1, len(p_reindex)):\n",
    "    n[i] = (p_reindex[i] - p_reindex[i - 1]) * (vn_SI_reindex[i] / (R * T_av)) + n[i - 1]"
   ]
  },
  {
   "cell_type": "code",
   "execution_count": 1289,
   "metadata": {
    "collapsed": false
   },
   "outputs": [],
   "source": [
    "# set n as series with same index as p_reindex and vn_SI_reindex\n",
    "n = Series(n)"
   ]
  },
  {
   "cell_type": "markdown",
   "metadata": {},
   "source": [
    "# Saturation vapour pressure calculation, $p_{sat}$ (Pa)"
   ]
  },
  {
   "cell_type": "markdown",
   "metadata": {},
   "source": [
    "$$\\log_{10}p_{sat}=A-\\frac{B}{C+T}$$\n",
    "$$p_{sat}=10^{(A-\\frac{B}{C+T})}$$"
   ]
  },
  {
   "cell_type": "code",
   "execution_count": 1290,
   "metadata": {
    "collapsed": true
   },
   "outputs": [],
   "source": [
    "# Antoine coefficients for octane (probe used for surface area calculations from AntoineConstants excel file)"
   ]
  },
  {
   "cell_type": "code",
   "execution_count": 1291,
   "metadata": {
    "collapsed": false
   },
   "outputs": [],
   "source": [
    "# Coefficents A,B,C are for T = 20C\n",
    "A = 6.91868\n",
    "B = 1351.99\n",
    "C = 209.155\n",
    "\n",
    "\n",
    "p_sat = 10 ** (A- (B /(20+C))) # mmHg T= 20C\n",
    "p_sat = p_sat * 133.322 # mmHg to Pa"
   ]
  },
  {
   "cell_type": "markdown",
   "metadata": {},
   "source": [
    "# Relative pressure, $p_{rel}$"
   ]
  },
  {
   "cell_type": "markdown",
   "metadata": {},
   "source": [
    "$$p_{rel}=\\frac{p}{p_{sat}}$$"
   ]
  },
  {
   "cell_type": "code",
   "execution_count": 1292,
   "metadata": {
    "collapsed": false
   },
   "outputs": [],
   "source": [
    "p_rel = p_reindex / p_sat"
   ]
  },
  {
   "cell_type": "markdown",
   "metadata": {},
   "source": [
    "# Adsorption Isotherm Plot"
   ]
  },
  {
   "cell_type": "code",
   "execution_count": 1293,
   "metadata": {
    "collapsed": false
   },
   "outputs": [
    {
     "data": {
      "text/plain": [
       "(0, 0.40706967560702112)"
      ]
     },
     "execution_count": 1293,
     "metadata": {},
     "output_type": "execute_result"
    },
    {
     "data": {
      "image/png": "[encoded data removed]",
      "text/plain": [
       "<matplotlib.figure.Figure at 0x2479c9b0>"
      ]
     },
     "metadata": {},
     "output_type": "display_data"
    }
   ],
   "source": [
    "plt.scatter(p_rel, n)\n",
    "plt.title('Adsorption Isotherm')\n",
    "plt.xlabel('Relative Pressure (p/p_rel)')\n",
    "plt.ylabel('Amount Adsorbed (mMol/g)')\n",
    "x_max = max(p_rel) + (0.1 * max(p_rel))\n",
    "y_max = max(n) + (0.1 * max(n))\n",
    "plt.ylim(0,y_max)\n",
    "plt.xlim(0,x_max)"
   ]
  },
  {
   "cell_type": "markdown",
   "metadata": {},
   "source": [
    "#  BET  equation plot and calculation"
   ]
  },
  {
   "cell_type": "markdown",
   "metadata": {},
   "source": [
    "$$\\frac{p}{n(p-p_{sat})}=\\frac{C-1}{n_{m}C}\\frac{p}{p_{sat}}+\\frac{1}{n_{m}C}$$"
   ]
  },
  {
   "cell_type": "code",
   "execution_count": 1294,
   "metadata": {
    "collapsed": false
   },
   "outputs": [],
   "source": [
    "# setting Y axis for BET plot\n",
    "y_BET = p_reindex / (n * (p_sat - p_reindex))"
   ]
  },
  {
   "cell_type": "code",
   "execution_count": 1295,
   "metadata": {
    "collapsed": false
   },
   "outputs": [],
   "source": [
    "# set up BET dataframe\n",
    "BET_df = pd.concat([p_rel, y_BET], axis = 1)\n",
    "BET_df.columns = ['p_rel', 'y_BET']"
   ]
  },
  {
   "cell_type": "code",
   "execution_count": 1296,
   "metadata": {
    "collapsed": false
   },
   "outputs": [],
   "source": [
    "# BET equation is only valid between p_rel values of 0.05 to 0.35\n",
    "BET_df = BET_df[(BET_df.p_rel >= 0.05) & (BET_df.p_rel <= 0.35)]"
   ]
  },
  {
   "cell_type": "code",
   "execution_count": 1297,
   "metadata": {
    "collapsed": false
   },
   "outputs": [
    {
     "data": {
      "text/html": [
       "<div>\n",
       "<table border=\"1\" class=\"dataframe\">\n",
       "  <thead>\n",
       "    <tr style=\"text-align: right;\">\n",
       "      <th></th>\n",
       "      <th>p_rel</th>\n",
       "      <th>y_BET</th>\n",
       "      <th>sq_resid</th>\n",
       "    </tr>\n",
       "  </thead>\n",
       "  <tbody>\n",
       "    <tr>\n",
       "      <th>1</th>\n",
       "      <td>0.069370</td>\n",
       "      <td>41.184996</td>\n",
       "      <td>NaN</td>\n",
       "    </tr>\n",
       "    <tr>\n",
       "      <th>2</th>\n",
       "      <td>0.116405</td>\n",
       "      <td>43.101090</td>\n",
       "      <td>NaN</td>\n",
       "    </tr>\n",
       "    <tr>\n",
       "      <th>3</th>\n",
       "      <td>0.173409</td>\n",
       "      <td>44.727748</td>\n",
       "      <td>NaN</td>\n",
       "    </tr>\n",
       "    <tr>\n",
       "      <th>4</th>\n",
       "      <td>0.225629</td>\n",
       "      <td>46.681293</td>\n",
       "      <td>NaN</td>\n",
       "    </tr>\n",
       "    <tr>\n",
       "      <th>5</th>\n",
       "      <td>0.250682</td>\n",
       "      <td>46.980616</td>\n",
       "      <td>NaN</td>\n",
       "    </tr>\n",
       "    <tr>\n",
       "      <th>6</th>\n",
       "      <td>0.294650</td>\n",
       "      <td>47.446113</td>\n",
       "      <td>NaN</td>\n",
       "    </tr>\n",
       "    <tr>\n",
       "      <th>7</th>\n",
       "      <td>0.322530</td>\n",
       "      <td>48.078038</td>\n",
       "      <td>NaN</td>\n",
       "    </tr>\n",
       "  </tbody>\n",
       "</table>\n",
       "</div>"
      ],
      "text/plain": [
       "      p_rel      y_BET  sq_resid\n",
       "1  0.069370  41.184996       NaN\n",
       "2  0.116405  43.101090       NaN\n",
       "3  0.173409  44.727748       NaN\n",
       "4  0.225629  46.681293       NaN\n",
       "5  0.250682  46.980616       NaN\n",
       "6  0.294650  47.446113       NaN\n",
       "7  0.322530  48.078038       NaN"
      ]
     },
     "execution_count": 1297,
     "metadata": {},
     "output_type": "execute_result"
    }
   ],
   "source": [
    "BET_df['sq_resid'] = np.nan\n",
    "BET_df"
   ]
  },
  {
   "cell_type": "code",
   "execution_count": 1298,
   "metadata": {
    "collapsed": false
   },
   "outputs": [],
   "source": [
    "# Function does linear regression and if threshold r_sq values isnt reached it removes point with largest square residual\n",
    "# and repeats the linear regression without that point until r_sq value is reached\n",
    "\n",
    "def regress(df):\n",
    "    # Linear regression of BET plot within allowed p_rel range\n",
    "    slope, intercept, r_value, p_value, std_err = stats.linregress(df['p_rel'],df['y_BET'])\n",
    "    \n",
    "    r_sq = r_value ** 2\n",
    "    \n",
    "    \n",
    "    if r_sq < 0.995:\n",
    "        \n",
    "        df['sq_resid'] = (df['y_BET'] - ((df['p_rel'] * slope) + intercept)) ** 2\n",
    "        \n",
    "        return regress(df.drop(df['sq_resid'].idxmax()))\n",
    "    \n",
    "    else:\n",
    "        \n",
    "        sse = ((df['y_BET'] - ((slope * df['p_rel']) + intercept)) ** 2).sum()\n",
    "        n = len(df['p_rel'])\n",
    "        var = np.sqrt((sse / (n - 2)))\n",
    "        x_mean = df['p_rel'].mean()\n",
    "        sx2 = ((df['p_rel'] - x_mean) **2).sum()\n",
    "        intercept_err = var * np.sqrt((1/n) + (x_mean ** 2) / sx2)\n",
    "        print df\n",
    "        \n",
    "        return slope,intercept,r_value,p_value,std_err,r_sq, intercept_err\n",
    "        \n",
    "        \n",
    "  "
   ]
  },
  {
   "cell_type": "code",
   "execution_count": 1299,
   "metadata": {
    "collapsed": false
   },
   "outputs": [
    {
     "name": "stdout",
     "output_type": "stream",
     "text": [
      "      p_rel      y_BET  sq_resid\n",
      "2  0.116405  43.101090  0.064991\n",
      "3  0.173409  44.727748  0.153367\n",
      "6  0.294650  47.446113  0.003480\n",
      "7  0.322530  48.078038  0.024277\n"
     ]
    }
   ],
   "source": [
    "slope,intercept,r_value,p_value,std_err,r_sq, intercept_err = regress(BET_df)"
   ]
  },
  {
   "cell_type": "code",
   "execution_count": 1300,
   "metadata": {
    "collapsed": false
   },
   "outputs": [
    {
     "data": {
      "text/plain": [
       "<matplotlib.text.Text at 0x24989dd8>"
      ]
     },
     "execution_count": 1300,
     "metadata": {},
     "output_type": "execute_result"
    },
    {
     "data": {
      "image/png": "[encoded data removed]",
      "text/plain": [
       "<matplotlib.figure.Figure at 0x24c340b8>"
      ]
     },
     "metadata": {},
     "output_type": "display_data"
    }
   ],
   "source": [
    "# BET plot\n",
    "plt.scatter(p_rel,y_BET)\n",
    "plt.plot(p_rel, (p_rel * slope) + intercept, c='r')\n",
    "plt.title('BET plot')\n",
    "plt.xlabel('Relative Pressure (p/p_rel)')\n",
    "plt.ylabel('p / n[p_sat-p] (g/mMol)')\n"
   ]
  },
  {
   "cell_type": "markdown",
   "metadata": {},
   "source": [
    "$$n_{m}=\\frac{1}{slope+intercept}$$"
   ]
  },
  {
   "cell_type": "code",
   "execution_count": 1301,
   "metadata": {
    "collapsed": false
   },
   "outputs": [],
   "source": [
    "# The monolayer capacity, n_m is found from slope and intercept of fitted line from BET plot\n",
    "\n",
    "n_m = 1 / (slope + intercept) # mMol/g\n",
    "err_slope_intercept = np.sqrt((std_err) ** 2 + (intercept_err) ** 2) # error in slope+intercept\n",
    "n_m_err = n_m * (err_slope_intercept / (slope + intercept)) # error in n_m\n",
    "n_m = n_m / 1000 # change units from mMol/g to Mol/g\n",
    "n_m_err = n_m_err / 1000 # change units from mMol/g to Mol/g"
   ]
  },
  {
   "cell_type": "markdown",
   "metadata": {},
   "source": [
    "#  Specific Surface Area, $\\frac{m^{2}}{g}$"
   ]
  },
  {
   "cell_type": "markdown",
   "metadata": {},
   "source": [
    "$$S_{BET}=n_{m}N_{a}a$$"
   ]
  },
  {
   "cell_type": "code",
   "execution_count": 1302,
   "metadata": {
    "collapsed": false
   },
   "outputs": [],
   "source": [
    "a = 6.3E-19 # m^2 This is the cross-sectional surface area of a Octane molecule\n",
    "Na = constants.Avogadro"
   ]
  },
  {
   "cell_type": "code",
   "execution_count": 1303,
   "metadata": {
    "collapsed": false
   },
   "outputs": [],
   "source": [
    "ssa = n_m * Na * a\n",
    "ssa_err = ssa * (n_m_err / n_m)"
   ]
  },
  {
   "cell_type": "code",
   "execution_count": 1304,
   "metadata": {
    "collapsed": false
   },
   "outputs": [
    {
     "name": "stdout",
     "output_type": "stream",
     "text": [
      "The SSA is 5.91 with error 0.08 and R^2 of 0.9976\n"
     ]
    }
   ],
   "source": [
    "print 'The SSA is %.2f with error %.2f and R^2 of %.4f' % (ssa,ssa_err,r_sq)"
   ]
  },
  {
   "cell_type": "code",
   "execution_count": null,
   "metadata": {
    "collapsed": true
   },
   "outputs": [],
   "source": []
  }
 ],
 "metadata": {
  "kernelspec": {
   "display_name": "Python 2",
   "language": "python",
   "name": "python2"
  },
  "language_info": {
   "codemirror_mode": {
    "name": "ipython",
    "version": 2
   },
   "file_extension": ".py",
   "mimetype": "text/x-python",
   "name": "python",
   "nbconvert_exporter": "python",
   "pygments_lexer": "ipython2",
   "version": "2.7.11"
  }
 },
 "nbformat": 4,
 "nbformat_minor": 0
}
