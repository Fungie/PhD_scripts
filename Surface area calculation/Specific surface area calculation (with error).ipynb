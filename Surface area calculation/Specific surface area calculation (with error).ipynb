{
 "cells": [
  {
   "cell_type": "markdown",
   "metadata": {},
   "source": [
    "This script is for calculating the specific surface area ($S_{BET}$) of a solid sample, including error from Inverse Gas Chromatography measurements, specifically those done on the SEA (Surface energy analyser). Measured parameters are imported from a csv file and the specific surface area of the sample is printed at the end of the document along with visualisations of the adsorption isotherm and BET plot."
   ]
  },
  {
   "cell_type": "code",
   "execution_count": 137,
   "metadata": {
    "collapsed": true
   },
   "outputs": [],
   "source": [
    "import pandas as pd\n",
    "import numpy as np\n",
    "from pandas import Series,DataFrame\n",
    "from scipy import stats, constants\n",
    "import matplotlib.pyplot as plt\n",
    "%matplotlib inline"
   ]
  },
  {
   "cell_type": "markdown",
   "metadata": {},
   "source": [
    "# Organising data"
   ]
  },
  {
   "cell_type": "code",
   "execution_count": 138,
   "metadata": {
    "collapsed": false
   },
   "outputs": [
    {
     "name": "stdout",
     "output_type": "stream",
     "text": [
      "Copy path to input file here \n",
      "make sure to insert extra \"\\\" and remove \"\" \n",
      "C:\\\\Users\\\\tcd\\\\Google Drive\\\\Graphene size study feb 2015\\\\IGC_raw_data\\\\Surface_area\\\\big-300rpm.csv\n"
     ]
    }
   ],
   "source": [
    "# Reads csv input file and skips rows to where data start\n",
    "input_file = raw_input('Copy path to input file here \\nmake sure to insert extra \"\\\\\" and remove \"\" \\n')\n",
    "df = pd.read_csv(input_file, skiprows = 17,encoding= 'utf-16',delimiter='\\t')"
   ]
  },
  {
   "cell_type": "code",
   "execution_count": 139,
   "metadata": {
    "collapsed": false
   },
   "outputs": [],
   "source": [
    "# Removing of solvents that arent used in calculation\n",
    "df= df[(df.Solvent != 'n/a') & (df.Solvent != 'Methane')]"
   ]
  },
  {
   "cell_type": "code",
   "execution_count": 140,
   "metadata": {
    "collapsed": false
   },
   "outputs": [],
   "source": [
    "# Renaming columns with funny character\n",
    "#df.rename(columns ={\"Peak Max (Signal) [u'\\xb5'V]\": 'peak_max_signal'},inplace=True)\n",
    "df.rename(columns={df.columns[10] :'peak_area',df.columns[11]: 'peak_max_signal'},inplace=True)\n",
    "\n",
    "# Removing unwanted rows\n",
    "df = df[df.peak_area != 0]"
   ]
  },
  {
   "cell_type": "markdown",
   "metadata": {},
   "source": [
    "#  James-Martin pressure correction, j"
   ]
  },
  {
   "cell_type": "markdown",
   "metadata": {},
   "source": [
    "$$j=\\frac{3}{2}\\frac{(\\frac{p_{in}}{p_{out}})^{2}-1}{(\\frac{p_{in}}{p_{out}})^{3}-1}$$"
   ]
  },
  {
   "cell_type": "code",
   "execution_count": 141,
   "metadata": {
    "collapsed": false
   },
   "outputs": [],
   "source": [
    "# Atmospheric pressure in torr\n",
    "p_out = 760\n",
    "\n",
    "# input pressure is pressure drop + atomospheric pressure\n",
    "p_in = df['Column Pressure Drop [Torr]'] + p_out\n",
    "\n",
    "j = (1.5*(((p_in/p_out)**2 -1)/((p_in/p_out)**3 -1)))"
   ]
  },
  {
   "cell_type": "markdown",
   "metadata": {},
   "source": [
    "# Net Retention Volume, Vn ($\\frac{mL}{g}$)"
   ]
  },
  {
   "cell_type": "markdown",
   "metadata": {},
   "source": [
    "$$V_{N}=\\frac{j}{m}F(t_{r}-t_{0})(\\frac{T}{273.15})$$"
   ]
  },
  {
   "cell_type": "code",
   "execution_count": 142,
   "metadata": {
    "collapsed": false
   },
   "outputs": [],
   "source": [
    "# Creating input for sample mass and change its units\n",
    "m_df = pd.read_csv(input_file,nrows=1,header=None,skiprows=4,encoding='utf-16',delimiter='\\t')\n",
    "m=float(m_df.ix[:,1:1].values.flatten())\n",
    "m = m / 1000 # mg to g\n",
    "vn = (j * df['Exit Flow Rate [sccm]'] * df['Net Ret Time (Max) [min]'] * df['Column Temperature [Kelvin]'] ) / (m * 273.15)"
   ]
  },
  {
   "cell_type": "markdown",
   "metadata": {},
   "source": [
    "# Partial pressure, p (Pa)"
   ]
  },
  {
   "cell_type": "markdown",
   "metadata": {},
   "source": [
    "$$p=\\frac{n_{i}RH_{peak}273.15}{FA_{peak}}$$"
   ]
  },
  {
   "cell_type": "code",
   "execution_count": 143,
   "metadata": {
    "collapsed": false
   },
   "outputs": [],
   "source": [
    "A_peak = df['peak_area']\n",
    "n_i = df['Amount  [mMol]']\n",
    "H_peak = df['peak_max_signal']\n",
    "F = df['Exit Flow Rate [sccm]']"
   ]
  },
  {
   "cell_type": "code",
   "execution_count": 144,
   "metadata": {
    "collapsed": false
   },
   "outputs": [],
   "source": [
    "# Converting units to SI\n",
    "\n",
    "vn_SI = vn * 0.001 # converts mg/L to m^3/kg\n",
    "A_peak = A_peak * 6E-5 #converts uV.min to V.sec\n",
    "n_i = n_i / 1000 # converts mMol to Mol\n",
    "H_peak = H_peak * 1E-6 # converts uV to V\n",
    "F = F * 1.6667E-8 #from sscm to m^3/s"
   ]
  },
  {
   "cell_type": "code",
   "execution_count": 145,
   "metadata": {
    "collapsed": false
   },
   "outputs": [],
   "source": [
    "# Gas constant\n",
    "R = constants.R"
   ]
  },
  {
   "cell_type": "code",
   "execution_count": 146,
   "metadata": {
    "collapsed": false
   },
   "outputs": [],
   "source": [
    "p = (n_i * R * 273.15 * H_peak) / (F * A_peak) # Pa"
   ]
  },
  {
   "cell_type": "markdown",
   "metadata": {},
   "source": [
    "#  Amount of probe adsorbed on sample surface, n, ($\\frac{mMol}{g}$)"
   ]
  },
  {
   "cell_type": "markdown",
   "metadata": {},
   "source": [
    "$$n=\\frac{1}{RT}\\intop_{0}^{p}V_{n}dp$$"
   ]
  },
  {
   "cell_type": "code",
   "execution_count": 147,
   "metadata": {
    "collapsed": false
   },
   "outputs": [],
   "source": [
    "# Reindexing series to start at zero\n",
    "p_reindex = p.reset_index(drop=True)\n",
    "vn_SI_reindex = vn_SI.reset_index(drop=True)"
   ]
  },
  {
   "cell_type": "code",
   "execution_count": 148,
   "metadata": {
    "collapsed": false
   },
   "outputs": [],
   "source": [
    "# T value used in n calc\n",
    "T_av = df['Column Temperature [Kelvin]'].mean()"
   ]
  },
  {
   "cell_type": "code",
   "execution_count": 149,
   "metadata": {
    "collapsed": false
   },
   "outputs": [],
   "source": [
    "# set n as empty array in shape of as other values \n",
    "n = np.empty_like(p_reindex)"
   ]
  },
  {
   "cell_type": "code",
   "execution_count": 150,
   "metadata": {
    "collapsed": false
   },
   "outputs": [],
   "source": [
    "# Cumulative integration  of vn with respect to partial pressure p\n",
    "n[0] = (p_reindex[0] * vn_SI_reindex[0]) / (R * T_av)\n",
    "for i in range(1, len(p_reindex)):\n",
    "    n[i] = (p_reindex[i] - p_reindex[i - 1]) * (vn_SI_reindex[i] / (R * T_av)) + n[i - 1]"
   ]
  },
  {
   "cell_type": "code",
   "execution_count": 151,
   "metadata": {
    "collapsed": false
   },
   "outputs": [],
   "source": [
    "# set n as series with same index as p_reindex and vn_SI_reindex\n",
    "n = Series(n)"
   ]
  },
  {
   "cell_type": "markdown",
   "metadata": {},
   "source": [
    "# Saturation vapour pressure calculation, $p_{sat}$ (Pa)"
   ]
  },
  {
   "cell_type": "markdown",
   "metadata": {},
   "source": [
    "$$\\log_{10}p_{sat}=A-\\frac{B}{C+T}$$\n",
    "$$p_{sat}=10^{(A-\\frac{B}{C+T})}$$"
   ]
  },
  {
   "cell_type": "code",
   "execution_count": 152,
   "metadata": {
    "collapsed": true
   },
   "outputs": [],
   "source": [
    "# Antoine coefficients for octane (probe used for surface area calculations from AntoineConstants excel file)"
   ]
  },
  {
   "cell_type": "code",
   "execution_count": 153,
   "metadata": {
    "collapsed": false
   },
   "outputs": [],
   "source": [
    "# Coefficents A,B,C are for T = 20C\n",
    "A = 6.91868\n",
    "B = 1351.99\n",
    "C = 209.155\n",
    "\n",
    "\n",
    "p_sat = 10 ** (A- (B /(20+C))) # mmHg T= 20C\n",
    "p_sat = p_sat * 133.322 # mmHg to Pa"
   ]
  },
  {
   "cell_type": "markdown",
   "metadata": {},
   "source": [
    "# Relative pressure, $p_{rel}$"
   ]
  },
  {
   "cell_type": "markdown",
   "metadata": {},
   "source": [
    "$$p_{rel}=\\frac{p}{p_{sat}}$$"
   ]
  },
  {
   "cell_type": "code",
   "execution_count": 154,
   "metadata": {
    "collapsed": false
   },
   "outputs": [],
   "source": [
    "p_rel = p_reindex / p_sat"
   ]
  },
  {
   "cell_type": "markdown",
   "metadata": {},
   "source": [
    "# Adsorption Isotherm Plot"
   ]
  },
  {
   "cell_type": "code",
   "execution_count": 155,
   "metadata": {
    "collapsed": false
   },
   "outputs": [
    {
     "data": {
      "text/plain": [
       "(0, 0.10155765414356016)"
      ]
     },
     "execution_count": 155,
     "metadata": {},
     "output_type": "execute_result"
    },
    {
     "data": {
      "image/png": "[encoded data removed]",
      "text/plain": [
       "<matplotlib.figure.Figure at 0x1dd6f7f0>"
      ]
     },
     "metadata": {},
     "output_type": "display_data"
    }
   ],
   "source": [
    "plt.scatter(p_rel, n)\n",
    "plt.title('Adsorption Isotherm')\n",
    "plt.xlabel('Relative Pressure (p/p_rel)')\n",
    "plt.ylabel('Amount Adsorbed (mMol/g)')\n",
    "x_max = max(p_rel) + (0.1 * max(p_rel))\n",
    "y_max = max(n) + (0.1 * max(n))\n",
    "plt.ylim(0,y_max)\n",
    "plt.xlim(0,x_max)"
   ]
  },
  {
   "cell_type": "markdown",
   "metadata": {},
   "source": [
    "#  BET  equation plot and calculation"
   ]
  },
  {
   "cell_type": "markdown",
   "metadata": {},
   "source": [
    "$$\\frac{p}{n(p-p_{sat})}=\\frac{C-1}{n_{m}C}\\frac{p}{p_{sat}}+\\frac{1}{n_{m}C}$$"
   ]
  },
  {
   "cell_type": "code",
   "execution_count": 156,
   "metadata": {
    "collapsed": false
   },
   "outputs": [],
   "source": [
    "# setting Y axis for BET plot\n",
    "y_BET = p_reindex / (n * (p_sat - p_reindex))"
   ]
  },
  {
   "cell_type": "code",
   "execution_count": 157,
   "metadata": {
    "collapsed": false
   },
   "outputs": [],
   "source": [
    "# set up BET dataframe\n",
    "BET_df = pd.concat([p_rel, y_BET], axis = 1)\n",
    "BET_df.columns = ['p_rel', 'y_BET']"
   ]
  },
  {
   "cell_type": "code",
   "execution_count": 158,
   "metadata": {
    "collapsed": false
   },
   "outputs": [],
   "source": [
    "# BET equation is only valid between p_rel values of 0.05 to 0.35\n",
    "BET_df = BET_df[(BET_df.p_rel >= 0.05) & (BET_df.p_rel <= 0.35)]"
   ]
  },
  {
   "cell_type": "code",
   "execution_count": 159,
   "metadata": {
    "collapsed": false
   },
   "outputs": [
    {
     "data": {
      "text/html": [
       "<div>\n",
       "<table border=\"1\" class=\"dataframe\">\n",
       "  <thead>\n",
       "    <tr style=\"text-align: right;\">\n",
       "      <th></th>\n",
       "      <th>p_rel</th>\n",
       "      <th>y_BET</th>\n",
       "      <th>sq_resid</th>\n",
       "    </tr>\n",
       "  </thead>\n",
       "  <tbody>\n",
       "    <tr>\n",
       "      <th>10</th>\n",
       "      <td>0.054878</td>\n",
       "      <td>4.017386</td>\n",
       "      <td>NaN</td>\n",
       "    </tr>\n",
       "    <tr>\n",
       "      <th>11</th>\n",
       "      <td>0.063225</td>\n",
       "      <td>4.110680</td>\n",
       "      <td>NaN</td>\n",
       "    </tr>\n",
       "    <tr>\n",
       "      <th>12</th>\n",
       "      <td>0.068317</td>\n",
       "      <td>4.158704</td>\n",
       "      <td>NaN</td>\n",
       "    </tr>\n",
       "    <tr>\n",
       "      <th>13</th>\n",
       "      <td>0.073334</td>\n",
       "      <td>4.199379</td>\n",
       "      <td>NaN</td>\n",
       "    </tr>\n",
       "    <tr>\n",
       "      <th>14</th>\n",
       "      <td>0.078230</td>\n",
       "      <td>4.233935</td>\n",
       "      <td>NaN</td>\n",
       "    </tr>\n",
       "    <tr>\n",
       "      <th>15</th>\n",
       "      <td>0.082986</td>\n",
       "      <td>4.262483</td>\n",
       "      <td>NaN</td>\n",
       "    </tr>\n",
       "    <tr>\n",
       "      <th>16</th>\n",
       "      <td>0.087746</td>\n",
       "      <td>4.286843</td>\n",
       "      <td>NaN</td>\n",
       "    </tr>\n",
       "    <tr>\n",
       "      <th>17</th>\n",
       "      <td>0.092325</td>\n",
       "      <td>4.306859</td>\n",
       "      <td>NaN</td>\n",
       "    </tr>\n",
       "  </tbody>\n",
       "</table>\n",
       "</div>"
      ],
      "text/plain": [
       "       p_rel     y_BET  sq_resid\n",
       "10  0.054878  4.017386       NaN\n",
       "11  0.063225  4.110680       NaN\n",
       "12  0.068317  4.158704       NaN\n",
       "13  0.073334  4.199379       NaN\n",
       "14  0.078230  4.233935       NaN\n",
       "15  0.082986  4.262483       NaN\n",
       "16  0.087746  4.286843       NaN\n",
       "17  0.092325  4.306859       NaN"
      ]
     },
     "execution_count": 159,
     "metadata": {},
     "output_type": "execute_result"
    }
   ],
   "source": [
    "BET_df['sq_resid'] = np.nan\n",
    "BET_df"
   ]
  },
  {
   "cell_type": "code",
   "execution_count": 160,
   "metadata": {
    "collapsed": false
   },
   "outputs": [],
   "source": [
    "# Function does linear regression and if threshold r_sq values isnt reached it removes point with largest square residual\n",
    "# and repeats the linear regression without that point until r_sq value is reached\n",
    "\n",
    "def regress(df):\n",
    "    # Linear regression of BET plot within allowed p_rel range\n",
    "    slope, intercept, r_value, p_value, std_err = stats.linregress(df['p_rel'],df['y_BET'])\n",
    "    \n",
    "    r_sq = r_value ** 2\n",
    "    \n",
    "    \n",
    "    if r_sq < 0.995:\n",
    "        \n",
    "        df['sq_resid'] = (df['y_BET'] - ((df['p_rel'] * slope) + intercept)) ** 2\n",
    "        \n",
    "        return regress(df.drop(df['sq_resid'].idxmax()))\n",
    "    \n",
    "    else:\n",
    "        \n",
    "        sse = ((df['y_BET'] - ((slope * df['p_rel']) + intercept)) ** 2).sum()\n",
    "        n = len(df['p_rel'])\n",
    "        var = np.sqrt((sse / (n - 2)))\n",
    "        x_mean = df['p_rel'].mean()\n",
    "        sx2 = ((df['p_rel'] - x_mean) **2).sum()\n",
    "        intercept_err = var * np.sqrt((1/n) + (x_mean ** 2) / sx2)\n",
    "        print df\n",
    "        \n",
    "        return slope,intercept,r_value,p_value,std_err,r_sq, intercept_err\n",
    "        \n",
    "        \n",
    "  "
   ]
  },
  {
   "cell_type": "code",
   "execution_count": 161,
   "metadata": {
    "collapsed": false
   },
   "outputs": [
    {
     "name": "stdout",
     "output_type": "stream",
     "text": [
      "       p_rel     y_BET  sq_resid\n",
      "14  0.078230  4.233935  0.000006\n",
      "15  0.082986  4.262483  0.000018\n",
      "16  0.087746  4.286843  0.000003\n",
      "17  0.092325  4.306859  0.000017\n"
     ]
    }
   ],
   "source": [
    "slope,intercept,r_value,p_value,std_err,r_sq, intercept_err = regress(BET_df)"
   ]
  },
  {
   "cell_type": "code",
   "execution_count": 162,
   "metadata": {
    "collapsed": false
   },
   "outputs": [
    {
     "data": {
      "text/plain": [
       "<matplotlib.text.Text at 0x1df62cf8>"
      ]
     },
     "execution_count": 162,
     "metadata": {},
     "output_type": "execute_result"
    },
    {
     "data": {
      "image/png": "[encoded data removed]",
      "text/plain": [
       "<matplotlib.figure.Figure at 0x1dd79160>"
      ]
     },
     "metadata": {},
     "output_type": "display_data"
    }
   ],
   "source": [
    "# BET plot\n",
    "plt.scatter(p_rel,y_BET)\n",
    "plt.plot(p_rel, (p_rel * slope) + intercept, c='r')\n",
    "plt.title('BET plot')\n",
    "plt.xlabel('Relative Pressure (p/p_sat)')\n",
    "plt.ylabel('p / n[p_sat-p] (g/mMol)')\n"
   ]
  },
  {
   "cell_type": "markdown",
   "metadata": {},
   "source": [
    "$$n_{m}=\\frac{1}{slope+intercept}$$"
   ]
  },
  {
   "cell_type": "code",
   "execution_count": 163,
   "metadata": {
    "collapsed": false
   },
   "outputs": [],
   "source": [
    "# The monolayer capacity, n_m is found from slope and intercept of fitted line from BET plot\n",
    "\n",
    "n_m = 1 / (slope + intercept) # mMol/g\n",
    "err_slope_intercept = np.sqrt((std_err) ** 2 + (intercept_err) ** 2) # error in slope+intercept\n",
    "n_m_err = n_m * (err_slope_intercept / (slope + intercept)) # error in n_m\n",
    "n_m = n_m / 1000 # change units from mMol/g to Mol/g\n",
    "n_m_err = n_m_err / 1000 # change units from mMol/g to Mol/g"
   ]
  },
  {
   "cell_type": "markdown",
   "metadata": {},
   "source": [
    "#  Specific Surface Area, $\\frac{m^{2}}{g}$"
   ]
  },
  {
   "cell_type": "markdown",
   "metadata": {},
   "source": [
    "$$S_{BET}=n_{m}N_{a}a$$"
   ]
  },
  {
   "cell_type": "code",
   "execution_count": 164,
   "metadata": {
    "collapsed": false
   },
   "outputs": [],
   "source": [
    "a = 6.3E-19 # m^2 This is the cross-sectional surface area of a Octane molecule\n",
    "Na = constants.Avogadro"
   ]
  },
  {
   "cell_type": "code",
   "execution_count": 165,
   "metadata": {
    "collapsed": false
   },
   "outputs": [],
   "source": [
    "ssa = n_m * Na * a\n",
    "ssa_err = ssa * (n_m_err / n_m)"
   ]
  },
  {
   "cell_type": "code",
   "execution_count": 166,
   "metadata": {
    "collapsed": false
   },
   "outputs": [
    {
     "name": "stdout",
     "output_type": "stream",
     "text": [
      "The SSA is 42.14 with error 1.20 and R^2 of 0.9951\n"
     ]
    }
   ],
   "source": [
    "print 'The SSA is %.2f with error %.2f and R^2 of %.4f' % (ssa,ssa_err,r_sq)"
   ]
  },
  {
   "cell_type": "code",
   "execution_count": null,
   "metadata": {
    "collapsed": true
   },
   "outputs": [],
   "source": []
  }
 ],
 "metadata": {
  "kernelspec": {
   "display_name": "Python 2",
   "language": "python",
   "name": "python2"
  },
  "language_info": {
   "codemirror_mode": {
    "name": "ipython",
    "version": 2
   },
   "file_extension": ".py",
   "mimetype": "text/x-python",
   "name": "python",
   "nbconvert_exporter": "python",
   "pygments_lexer": "ipython2",
   "version": "2.7.11"
  }
 },
 "nbformat": 4,
 "nbformat_minor": 0
}
