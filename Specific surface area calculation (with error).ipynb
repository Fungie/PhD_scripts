{
 "cells": [
  {
   "cell_type": "markdown",
   "metadata": {},
   "source": [
    "This script is for calculating the specific surface area ($S_{BET}$) of a solid sample, including error from Inverse Gas Chromatography measurements, specifically those done on the SEA (Surface energy analyser). Measured parameters are imported from a csv file and the specific surface area of the sample is printed at the end of the document along with visualisations of the adsorption isotherm and BET plot."
   ]
  },
  {
   "cell_type": "code",
   "execution_count": 8,
   "metadata": {
    "collapsed": true
   },
   "outputs": [],
   "source": [
    "import pandas as pd\n",
    "import numpy as np\n",
    "from pandas import Series,DataFrame\n",
    "from scipy import stats, constants\n",
    "import matplotlib.pyplot as plt\n",
    "%matplotlib inline"
   ]
  },
  {
   "cell_type": "markdown",
   "metadata": {},
   "source": [
    "# Organising data"
   ]
  },
  {
   "cell_type": "code",
   "execution_count": 9,
   "metadata": {
    "collapsed": false
   },
   "outputs": [
    {
     "name": "stdout",
     "output_type": "stream",
     "text": [
      "Copy path to input file here \n",
      "make sure to insert extra \"\\\" and remove \"\" \n",
      "surface_area_calculation_example_data.csv\n"
     ]
    }
   ],
   "source": [
    "# Reads csv input file and skips rows to where data start\n",
    "df = pd.read_csv(raw_input('Copy path to input file here \\nmake sure to insert extra \"\\\\\" and remove \"\" \\n'), skiprows = 17)"
   ]
  },
  {
   "cell_type": "code",
   "execution_count": 10,
   "metadata": {
    "collapsed": false
   },
   "outputs": [
    {
     "data": {
      "text/html": [
       "<div>\n",
       "<table border=\"1\" class=\"dataframe\">\n",
       "  <thead>\n",
       "    <tr style=\"text-align: right;\">\n",
       "      <th></th>\n",
       "      <th>ID</th>\n",
       "      <th>Injection Name</th>\n",
       "      <th>Solvent</th>\n",
       "      <th>Injection Time [ms]</th>\n",
       "      <th>Duration [min]</th>\n",
       "      <th>Target Fractional Surface Coverage</th>\n",
       "      <th>Actual Fractional Surface Coverage</th>\n",
       "      <th>Column Temperature [Kelvin]</th>\n",
       "      <th>Column Pressure Drop [Torr]</th>\n",
       "      <th>Exit Flow Rate [sccm]</th>\n",
       "      <th>...</th>\n",
       "      <th>Net Ret Volume (Max) [ml/g]</th>\n",
       "      <th>Net Ret Time (Com) [min]</th>\n",
       "      <th>Net Ret Volume (Com) [ml/g]</th>\n",
       "      <th>Partial Pressure [Torr]</th>\n",
       "      <th>Pres Ret Volume (Max) [mMol/(g�Torr)]</th>\n",
       "      <th>Pres Ret Volume (Com) [mMol/(g�Torr)]</th>\n",
       "      <th>Amount  [mMol/g]</th>\n",
       "      <th>Amount  [mMol]</th>\n",
       "      <th>Amount (Max) [mMol/g]</th>\n",
       "      <th>Amount (Com) [mMol/g]</th>\n",
       "    </tr>\n",
       "  </thead>\n",
       "  <tbody>\n",
       "    <tr>\n",
       "      <th>3</th>\n",
       "      <td>4</td>\n",
       "      <td>injection1</td>\n",
       "      <td>OCTANE</td>\n",
       "      <td>2908</td>\n",
       "      <td>60</td>\n",
       "      <td>0.05</td>\n",
       "      <td>0.000000</td>\n",
       "      <td>293.030255</td>\n",
       "      <td>113.264702</td>\n",
       "      <td>20.007500</td>\n",
       "      <td>...</td>\n",
       "      <td>0.000000</td>\n",
       "      <td>0.000000</td>\n",
       "      <td>0.000000</td>\n",
       "      <td>0.000000</td>\n",
       "      <td>0.000000</td>\n",
       "      <td>0.000000</td>\n",
       "      <td>0.000000</td>\n",
       "      <td>0.000000</td>\n",
       "      <td>0.000000</td>\n",
       "      <td>0.000000</td>\n",
       "    </tr>\n",
       "    <tr>\n",
       "      <th>4</th>\n",
       "      <td>5</td>\n",
       "      <td>injection2</td>\n",
       "      <td>OCTANE</td>\n",
       "      <td>5326</td>\n",
       "      <td>50</td>\n",
       "      <td>0.1</td>\n",
       "      <td>0.000000</td>\n",
       "      <td>293.138455</td>\n",
       "      <td>113.193153</td>\n",
       "      <td>19.992500</td>\n",
       "      <td>...</td>\n",
       "      <td>0.000000</td>\n",
       "      <td>0.000000</td>\n",
       "      <td>0.000000</td>\n",
       "      <td>0.000000</td>\n",
       "      <td>0.000000</td>\n",
       "      <td>0.000000</td>\n",
       "      <td>0.000000</td>\n",
       "      <td>0.000000</td>\n",
       "      <td>0.000000</td>\n",
       "      <td>0.000000</td>\n",
       "    </tr>\n",
       "    <tr>\n",
       "      <th>5</th>\n",
       "      <td>6</td>\n",
       "      <td>injection3</td>\n",
       "      <td>OCTANE</td>\n",
       "      <td>7376</td>\n",
       "      <td>45</td>\n",
       "      <td>0.15</td>\n",
       "      <td>0.000000</td>\n",
       "      <td>293.147285</td>\n",
       "      <td>113.293301</td>\n",
       "      <td>19.995001</td>\n",
       "      <td>...</td>\n",
       "      <td>0.000000</td>\n",
       "      <td>0.000000</td>\n",
       "      <td>0.000000</td>\n",
       "      <td>0.000000</td>\n",
       "      <td>0.000000</td>\n",
       "      <td>0.000000</td>\n",
       "      <td>0.000000</td>\n",
       "      <td>0.000000</td>\n",
       "      <td>0.000000</td>\n",
       "      <td>0.000000</td>\n",
       "    </tr>\n",
       "    <tr>\n",
       "      <th>6</th>\n",
       "      <td>7</td>\n",
       "      <td>injection4</td>\n",
       "      <td>OCTANE</td>\n",
       "      <td>9197</td>\n",
       "      <td>40</td>\n",
       "      <td>0.2</td>\n",
       "      <td>0.131797</td>\n",
       "      <td>293.147840</td>\n",
       "      <td>113.264702</td>\n",
       "      <td>20.002500</td>\n",
       "      <td>...</td>\n",
       "      <td>10546.601140</td>\n",
       "      <td>8.844827</td>\n",
       "      <td>25203.010090</td>\n",
       "      <td>0.019239</td>\n",
       "      <td>0.576888</td>\n",
       "      <td>1.378579</td>\n",
       "      <td>0.028781</td>\n",
       "      <td>0.000201</td>\n",
       "      <td>0.011099</td>\n",
       "      <td>0.026523</td>\n",
       "    </tr>\n",
       "    <tr>\n",
       "      <th>7</th>\n",
       "      <td>8</td>\n",
       "      <td>injection5</td>\n",
       "      <td>OCTANE</td>\n",
       "      <td>10929</td>\n",
       "      <td>35</td>\n",
       "      <td>0.25</td>\n",
       "      <td>0.167467</td>\n",
       "      <td>293.149920</td>\n",
       "      <td>113.121601</td>\n",
       "      <td>19.977500</td>\n",
       "      <td>...</td>\n",
       "      <td>7262.437478</td>\n",
       "      <td>6.562913</td>\n",
       "      <td>18679.246390</td>\n",
       "      <td>0.036481</td>\n",
       "      <td>0.397245</td>\n",
       "      <td>1.021729</td>\n",
       "      <td>0.036570</td>\n",
       "      <td>0.000256</td>\n",
       "      <td>0.017948</td>\n",
       "      <td>0.044139</td>\n",
       "    </tr>\n",
       "    <tr>\n",
       "      <th>8</th>\n",
       "      <td>9</td>\n",
       "      <td>injection6</td>\n",
       "      <td>OCTANE</td>\n",
       "      <td>12705</td>\n",
       "      <td>30</td>\n",
       "      <td>0.3</td>\n",
       "      <td>0.207708</td>\n",
       "      <td>293.145860</td>\n",
       "      <td>113.293301</td>\n",
       "      <td>19.990000</td>\n",
       "      <td>...</td>\n",
       "      <td>5320.880754</td>\n",
       "      <td>5.055532</td>\n",
       "      <td>14396.190190</td>\n",
       "      <td>0.064325</td>\n",
       "      <td>0.291049</td>\n",
       "      <td>0.787462</td>\n",
       "      <td>0.045358</td>\n",
       "      <td>0.000318</td>\n",
       "      <td>0.026052</td>\n",
       "      <td>0.066065</td>\n",
       "    </tr>\n",
       "    <tr>\n",
       "      <th>9</th>\n",
       "      <td>10</td>\n",
       "      <td>injection7</td>\n",
       "      <td>OCTANE</td>\n",
       "      <td>14641</td>\n",
       "      <td>25</td>\n",
       "      <td>0.35</td>\n",
       "      <td>0.231363</td>\n",
       "      <td>293.152291</td>\n",
       "      <td>113.193150</td>\n",
       "      <td>20.004999</td>\n",
       "      <td>...</td>\n",
       "      <td>4247.511731</td>\n",
       "      <td>3.509818</td>\n",
       "      <td>10002.955540</td>\n",
       "      <td>0.098494</td>\n",
       "      <td>0.232331</td>\n",
       "      <td>0.547143</td>\n",
       "      <td>0.050524</td>\n",
       "      <td>0.000354</td>\n",
       "      <td>0.033990</td>\n",
       "      <td>0.084760</td>\n",
       "    </tr>\n",
       "    <tr>\n",
       "      <th>10</th>\n",
       "      <td>11</td>\n",
       "      <td>injection8</td>\n",
       "      <td>OCTANE</td>\n",
       "      <td>16825</td>\n",
       "      <td>20</td>\n",
       "      <td>0.4</td>\n",
       "      <td>0.282646</td>\n",
       "      <td>293.147820</td>\n",
       "      <td>113.264652</td>\n",
       "      <td>19.980000</td>\n",
       "      <td>...</td>\n",
       "      <td>3502.106118</td>\n",
       "      <td>3.058096</td>\n",
       "      <td>8704.131039</td>\n",
       "      <td>0.151858</td>\n",
       "      <td>0.191562</td>\n",
       "      <td>0.476107</td>\n",
       "      <td>0.061723</td>\n",
       "      <td>0.000432</td>\n",
       "      <td>0.044213</td>\n",
       "      <td>0.110168</td>\n",
       "    </tr>\n",
       "    <tr>\n",
       "      <th>11</th>\n",
       "      <td>12</td>\n",
       "      <td>injection9</td>\n",
       "      <td>OCTANE</td>\n",
       "      <td>19318</td>\n",
       "      <td>17</td>\n",
       "      <td>0.45</td>\n",
       "      <td>0.328517</td>\n",
       "      <td>293.154195</td>\n",
       "      <td>113.350548</td>\n",
       "      <td>19.990001</td>\n",
       "      <td>...</td>\n",
       "      <td>3086.241110</td>\n",
       "      <td>2.613740</td>\n",
       "      <td>7442.855735</td>\n",
       "      <td>0.213370</td>\n",
       "      <td>0.168811</td>\n",
       "      <td>0.407108</td>\n",
       "      <td>0.071740</td>\n",
       "      <td>0.000502</td>\n",
       "      <td>0.054597</td>\n",
       "      <td>0.135210</td>\n",
       "    </tr>\n",
       "    <tr>\n",
       "      <th>12</th>\n",
       "      <td>13</td>\n",
       "      <td>injection10</td>\n",
       "      <td>OCTANE</td>\n",
       "      <td>22148</td>\n",
       "      <td>15</td>\n",
       "      <td>0.5</td>\n",
       "      <td>0.358625</td>\n",
       "      <td>293.155475</td>\n",
       "      <td>114.766899</td>\n",
       "      <td>19.987500</td>\n",
       "      <td>...</td>\n",
       "      <td>2831.846623</td>\n",
       "      <td>2.279481</td>\n",
       "      <td>6484.375513</td>\n",
       "      <td>0.265711</td>\n",
       "      <td>0.154895</td>\n",
       "      <td>0.354680</td>\n",
       "      <td>0.078314</td>\n",
       "      <td>0.000548</td>\n",
       "      <td>0.062704</td>\n",
       "      <td>0.153774</td>\n",
       "    </tr>\n",
       "    <tr>\n",
       "      <th>13</th>\n",
       "      <td>14</td>\n",
       "      <td>injection11</td>\n",
       "      <td>OCTANE</td>\n",
       "      <td>25311</td>\n",
       "      <td>12</td>\n",
       "      <td>0.55</td>\n",
       "      <td>0.378901</td>\n",
       "      <td>293.151590</td>\n",
       "      <td>114.237549</td>\n",
       "      <td>20.002501</td>\n",
       "      <td>...</td>\n",
       "      <td>2673.662118</td>\n",
       "      <td>1.916308</td>\n",
       "      <td>5457.128862</td>\n",
       "      <td>0.315249</td>\n",
       "      <td>0.146245</td>\n",
       "      <td>0.298496</td>\n",
       "      <td>0.082742</td>\n",
       "      <td>0.000579</td>\n",
       "      <td>0.069949</td>\n",
       "      <td>0.168561</td>\n",
       "    </tr>\n",
       "    <tr>\n",
       "      <th>14</th>\n",
       "      <td>15</td>\n",
       "      <td>injection12</td>\n",
       "      <td>OCTANE</td>\n",
       "      <td>28776</td>\n",
       "      <td>10</td>\n",
       "      <td>0.6</td>\n",
       "      <td>0.415732</td>\n",
       "      <td>293.156455</td>\n",
       "      <td>115.510849</td>\n",
       "      <td>19.997500</td>\n",
       "      <td>...</td>\n",
       "      <td>2485.957686</td>\n",
       "      <td>1.718072</td>\n",
       "      <td>4887.490970</td>\n",
       "      <td>0.385150</td>\n",
       "      <td>0.135975</td>\n",
       "      <td>0.267333</td>\n",
       "      <td>0.090785</td>\n",
       "      <td>0.000635</td>\n",
       "      <td>0.079454</td>\n",
       "      <td>0.187248</td>\n",
       "    </tr>\n",
       "    <tr>\n",
       "      <th>15</th>\n",
       "      <td>16</td>\n",
       "      <td>injection13</td>\n",
       "      <td>OCTANE</td>\n",
       "      <td>32487</td>\n",
       "      <td>10</td>\n",
       "      <td>0.65</td>\n",
       "      <td>0.455364</td>\n",
       "      <td>293.161274</td>\n",
       "      <td>115.925701</td>\n",
       "      <td>19.992499</td>\n",
       "      <td>...</td>\n",
       "      <td>2380.510752</td>\n",
       "      <td>1.619439</td>\n",
       "      <td>4604.607426</td>\n",
       "      <td>0.454484</td>\n",
       "      <td>0.130206</td>\n",
       "      <td>0.251856</td>\n",
       "      <td>0.099440</td>\n",
       "      <td>0.000696</td>\n",
       "      <td>0.088481</td>\n",
       "      <td>0.204710</td>\n",
       "    </tr>\n",
       "    <tr>\n",
       "      <th>16</th>\n",
       "      <td>17</td>\n",
       "      <td>injection14</td>\n",
       "      <td>OCTANE</td>\n",
       "      <td>36370</td>\n",
       "      <td>10</td>\n",
       "      <td>0.7</td>\n",
       "      <td>0.492554</td>\n",
       "      <td>293.149565</td>\n",
       "      <td>116.040153</td>\n",
       "      <td>19.997500</td>\n",
       "      <td>...</td>\n",
       "      <td>2286.095692</td>\n",
       "      <td>1.566100</td>\n",
       "      <td>4453.557316</td>\n",
       "      <td>0.515168</td>\n",
       "      <td>0.125046</td>\n",
       "      <td>0.243604</td>\n",
       "      <td>0.107561</td>\n",
       "      <td>0.000753</td>\n",
       "      <td>0.096070</td>\n",
       "      <td>0.219493</td>\n",
       "    </tr>\n",
       "    <tr>\n",
       "      <th>17</th>\n",
       "      <td>18</td>\n",
       "      <td>injection15</td>\n",
       "      <td>OCTANE</td>\n",
       "      <td>40343</td>\n",
       "      <td>10</td>\n",
       "      <td>0.75</td>\n",
       "      <td>0.529445</td>\n",
       "      <td>293.147020</td>\n",
       "      <td>115.940002</td>\n",
       "      <td>19.995000</td>\n",
       "      <td>...</td>\n",
       "      <td>2247.926629</td>\n",
       "      <td>1.518997</td>\n",
       "      <td>4319.310342</td>\n",
       "      <td>0.576336</td>\n",
       "      <td>0.122960</td>\n",
       "      <td>0.236263</td>\n",
       "      <td>0.115617</td>\n",
       "      <td>0.000809</td>\n",
       "      <td>0.103591</td>\n",
       "      <td>0.233944</td>\n",
       "    </tr>\n",
       "    <tr>\n",
       "      <th>18</th>\n",
       "      <td>19</td>\n",
       "      <td>injection16</td>\n",
       "      <td>OCTANE</td>\n",
       "      <td>44318</td>\n",
       "      <td>10</td>\n",
       "      <td>0.8</td>\n",
       "      <td>0.562797</td>\n",
       "      <td>293.155170</td>\n",
       "      <td>116.097401</td>\n",
       "      <td>19.995000</td>\n",
       "      <td>...</td>\n",
       "      <td>2190.990798</td>\n",
       "      <td>1.439342</td>\n",
       "      <td>4092.510705</td>\n",
       "      <td>0.639976</td>\n",
       "      <td>0.119842</td>\n",
       "      <td>0.223851</td>\n",
       "      <td>0.122900</td>\n",
       "      <td>0.000860</td>\n",
       "      <td>0.111218</td>\n",
       "      <td>0.248190</td>\n",
       "    </tr>\n",
       "    <tr>\n",
       "      <th>19</th>\n",
       "      <td>20</td>\n",
       "      <td>injection17</td>\n",
       "      <td>OCTANE</td>\n",
       "      <td>48207</td>\n",
       "      <td>10</td>\n",
       "      <td>0.85</td>\n",
       "      <td>0.599228</td>\n",
       "      <td>293.162395</td>\n",
       "      <td>115.968601</td>\n",
       "      <td>19.997500</td>\n",
       "      <td>...</td>\n",
       "      <td>2177.278992</td>\n",
       "      <td>1.404132</td>\n",
       "      <td>3993.322938</td>\n",
       "      <td>0.701478</td>\n",
       "      <td>0.119089</td>\n",
       "      <td>0.218420</td>\n",
       "      <td>0.130856</td>\n",
       "      <td>0.000916</td>\n",
       "      <td>0.118147</td>\n",
       "      <td>0.256763</td>\n",
       "    </tr>\n",
       "    <tr>\n",
       "      <th>20</th>\n",
       "      <td>21</td>\n",
       "      <td>injection18</td>\n",
       "      <td>OCTANE</td>\n",
       "      <td>51933</td>\n",
       "      <td>5</td>\n",
       "      <td>0.9</td>\n",
       "      <td>0.594481</td>\n",
       "      <td>293.156435</td>\n",
       "      <td>115.825550</td>\n",
       "      <td>19.985001</td>\n",
       "      <td>...</td>\n",
       "      <td>2119.224347</td>\n",
       "      <td>1.153771</td>\n",
       "      <td>3279.484214</td>\n",
       "      <td>0.764478</td>\n",
       "      <td>0.115916</td>\n",
       "      <td>0.179379</td>\n",
       "      <td>0.129819</td>\n",
       "      <td>0.000909</td>\n",
       "      <td>0.125649</td>\n",
       "      <td>0.270523</td>\n",
       "    </tr>\n",
       "    <tr>\n",
       "      <th>21</th>\n",
       "      <td>22</td>\n",
       "      <td>injection19</td>\n",
       "      <td>OCTANE</td>\n",
       "      <td>55431</td>\n",
       "      <td>5</td>\n",
       "      <td>0.95</td>\n",
       "      <td>0.651052</td>\n",
       "      <td>293.153230</td>\n",
       "      <td>116.712547</td>\n",
       "      <td>20.027500</td>\n",
       "      <td>...</td>\n",
       "      <td>2013.428130</td>\n",
       "      <td>1.096468</td>\n",
       "      <td>3121.430925</td>\n",
       "      <td>0.877804</td>\n",
       "      <td>0.110130</td>\n",
       "      <td>0.170736</td>\n",
       "      <td>0.142173</td>\n",
       "      <td>0.000995</td>\n",
       "      <td>0.137566</td>\n",
       "      <td>0.286868</td>\n",
       "    </tr>\n",
       "    <tr>\n",
       "      <th>22</th>\n",
       "      <td>23</td>\n",
       "      <td>injection20</td>\n",
       "      <td>OCTANE</td>\n",
       "      <td>58648</td>\n",
       "      <td>5</td>\n",
       "      <td>1</td>\n",
       "      <td>0.683937</td>\n",
       "      <td>293.156631</td>\n",
       "      <td>116.869949</td>\n",
       "      <td>19.990000</td>\n",
       "      <td>...</td>\n",
       "      <td>1995.318982</td>\n",
       "      <td>1.086422</td>\n",
       "      <td>3086.767211</td>\n",
       "      <td>0.936267</td>\n",
       "      <td>0.109139</td>\n",
       "      <td>0.168838</td>\n",
       "      <td>0.149354</td>\n",
       "      <td>0.001045</td>\n",
       "      <td>0.143946</td>\n",
       "      <td>0.296739</td>\n",
       "    </tr>\n",
       "  </tbody>\n",
       "</table>\n",
       "<p>20 rows × 28 columns</p>\n",
       "</div>"
      ],
      "text/plain": [
       "    ID Injection Name Solvent Injection Time [ms]  Duration [min]  \\\n",
       "3    4     injection1  OCTANE                2908              60   \n",
       "4    5     injection2  OCTANE                5326              50   \n",
       "5    6     injection3  OCTANE                7376              45   \n",
       "6    7     injection4  OCTANE                9197              40   \n",
       "7    8     injection5  OCTANE               10929              35   \n",
       "8    9     injection6  OCTANE               12705              30   \n",
       "9   10     injection7  OCTANE               14641              25   \n",
       "10  11     injection8  OCTANE               16825              20   \n",
       "11  12     injection9  OCTANE               19318              17   \n",
       "12  13    injection10  OCTANE               22148              15   \n",
       "13  14    injection11  OCTANE               25311              12   \n",
       "14  15    injection12  OCTANE               28776              10   \n",
       "15  16    injection13  OCTANE               32487              10   \n",
       "16  17    injection14  OCTANE               36370              10   \n",
       "17  18    injection15  OCTANE               40343              10   \n",
       "18  19    injection16  OCTANE               44318              10   \n",
       "19  20    injection17  OCTANE               48207              10   \n",
       "20  21    injection18  OCTANE               51933               5   \n",
       "21  22    injection19  OCTANE               55431               5   \n",
       "22  23    injection20  OCTANE               58648               5   \n",
       "\n",
       "   Target Fractional Surface Coverage  Actual Fractional Surface Coverage  \\\n",
       "3                                0.05                            0.000000   \n",
       "4                                 0.1                            0.000000   \n",
       "5                                0.15                            0.000000   \n",
       "6                                 0.2                            0.131797   \n",
       "7                                0.25                            0.167467   \n",
       "8                                 0.3                            0.207708   \n",
       "9                                0.35                            0.231363   \n",
       "10                                0.4                            0.282646   \n",
       "11                               0.45                            0.328517   \n",
       "12                                0.5                            0.358625   \n",
       "13                               0.55                            0.378901   \n",
       "14                                0.6                            0.415732   \n",
       "15                               0.65                            0.455364   \n",
       "16                                0.7                            0.492554   \n",
       "17                               0.75                            0.529445   \n",
       "18                                0.8                            0.562797   \n",
       "19                               0.85                            0.599228   \n",
       "20                                0.9                            0.594481   \n",
       "21                               0.95                            0.651052   \n",
       "22                                  1                            0.683937   \n",
       "\n",
       "    Column Temperature [Kelvin]  Column Pressure Drop [Torr]  \\\n",
       "3                    293.030255                   113.264702   \n",
       "4                    293.138455                   113.193153   \n",
       "5                    293.147285                   113.293301   \n",
       "6                    293.147840                   113.264702   \n",
       "7                    293.149920                   113.121601   \n",
       "8                    293.145860                   113.293301   \n",
       "9                    293.152291                   113.193150   \n",
       "10                   293.147820                   113.264652   \n",
       "11                   293.154195                   113.350548   \n",
       "12                   293.155475                   114.766899   \n",
       "13                   293.151590                   114.237549   \n",
       "14                   293.156455                   115.510849   \n",
       "15                   293.161274                   115.925701   \n",
       "16                   293.149565                   116.040153   \n",
       "17                   293.147020                   115.940002   \n",
       "18                   293.155170                   116.097401   \n",
       "19                   293.162395                   115.968601   \n",
       "20                   293.156435                   115.825550   \n",
       "21                   293.153230                   116.712547   \n",
       "22                   293.156631                   116.869949   \n",
       "\n",
       "    Exit Flow Rate [sccm]          ...            Net Ret Volume (Max) [ml/g]  \\\n",
       "3               20.007500          ...                               0.000000   \n",
       "4               19.992500          ...                               0.000000   \n",
       "5               19.995001          ...                               0.000000   \n",
       "6               20.002500          ...                           10546.601140   \n",
       "7               19.977500          ...                            7262.437478   \n",
       "8               19.990000          ...                            5320.880754   \n",
       "9               20.004999          ...                            4247.511731   \n",
       "10              19.980000          ...                            3502.106118   \n",
       "11              19.990001          ...                            3086.241110   \n",
       "12              19.987500          ...                            2831.846623   \n",
       "13              20.002501          ...                            2673.662118   \n",
       "14              19.997500          ...                            2485.957686   \n",
       "15              19.992499          ...                            2380.510752   \n",
       "16              19.997500          ...                            2286.095692   \n",
       "17              19.995000          ...                            2247.926629   \n",
       "18              19.995000          ...                            2190.990798   \n",
       "19              19.997500          ...                            2177.278992   \n",
       "20              19.985001          ...                            2119.224347   \n",
       "21              20.027500          ...                            2013.428130   \n",
       "22              19.990000          ...                            1995.318982   \n",
       "\n",
       "    Net Ret Time (Com) [min]  Net Ret Volume (Com) [ml/g]  \\\n",
       "3                   0.000000                     0.000000   \n",
       "4                   0.000000                     0.000000   \n",
       "5                   0.000000                     0.000000   \n",
       "6                   8.844827                 25203.010090   \n",
       "7                   6.562913                 18679.246390   \n",
       "8                   5.055532                 14396.190190   \n",
       "9                   3.509818                 10002.955540   \n",
       "10                  3.058096                  8704.131039   \n",
       "11                  2.613740                  7442.855735   \n",
       "12                  2.279481                  6484.375513   \n",
       "13                  1.916308                  5457.128862   \n",
       "14                  1.718072                  4887.490970   \n",
       "15                  1.619439                  4604.607426   \n",
       "16                  1.566100                  4453.557316   \n",
       "17                  1.518997                  4319.310342   \n",
       "18                  1.439342                  4092.510705   \n",
       "19                  1.404132                  3993.322938   \n",
       "20                  1.153771                  3279.484214   \n",
       "21                  1.096468                  3121.430925   \n",
       "22                  1.086422                  3086.767211   \n",
       "\n",
       "    Partial Pressure [Torr]  Pres Ret Volume (Max) [mMol/(g�Torr)]  \\\n",
       "3                  0.000000                               0.000000   \n",
       "4                  0.000000                               0.000000   \n",
       "5                  0.000000                               0.000000   \n",
       "6                  0.019239                               0.576888   \n",
       "7                  0.036481                               0.397245   \n",
       "8                  0.064325                               0.291049   \n",
       "9                  0.098494                               0.232331   \n",
       "10                 0.151858                               0.191562   \n",
       "11                 0.213370                               0.168811   \n",
       "12                 0.265711                               0.154895   \n",
       "13                 0.315249                               0.146245   \n",
       "14                 0.385150                               0.135975   \n",
       "15                 0.454484                               0.130206   \n",
       "16                 0.515168                               0.125046   \n",
       "17                 0.576336                               0.122960   \n",
       "18                 0.639976                               0.119842   \n",
       "19                 0.701478                               0.119089   \n",
       "20                 0.764478                               0.115916   \n",
       "21                 0.877804                               0.110130   \n",
       "22                 0.936267                               0.109139   \n",
       "\n",
       "    Pres Ret Volume (Com) [mMol/(g�Torr)]  Amount  [mMol/g]  Amount  [mMol]  \\\n",
       "3                                0.000000          0.000000        0.000000   \n",
       "4                                0.000000          0.000000        0.000000   \n",
       "5                                0.000000          0.000000        0.000000   \n",
       "6                                1.378579          0.028781        0.000201   \n",
       "7                                1.021729          0.036570        0.000256   \n",
       "8                                0.787462          0.045358        0.000318   \n",
       "9                                0.547143          0.050524        0.000354   \n",
       "10                               0.476107          0.061723        0.000432   \n",
       "11                               0.407108          0.071740        0.000502   \n",
       "12                               0.354680          0.078314        0.000548   \n",
       "13                               0.298496          0.082742        0.000579   \n",
       "14                               0.267333          0.090785        0.000635   \n",
       "15                               0.251856          0.099440        0.000696   \n",
       "16                               0.243604          0.107561        0.000753   \n",
       "17                               0.236263          0.115617        0.000809   \n",
       "18                               0.223851          0.122900        0.000860   \n",
       "19                               0.218420          0.130856        0.000916   \n",
       "20                               0.179379          0.129819        0.000909   \n",
       "21                               0.170736          0.142173        0.000995   \n",
       "22                               0.168838          0.149354        0.001045   \n",
       "\n",
       "    Amount (Max) [mMol/g]  Amount (Com) [mMol/g]  \n",
       "3                0.000000               0.000000  \n",
       "4                0.000000               0.000000  \n",
       "5                0.000000               0.000000  \n",
       "6                0.011099               0.026523  \n",
       "7                0.017948               0.044139  \n",
       "8                0.026052               0.066065  \n",
       "9                0.033990               0.084760  \n",
       "10               0.044213               0.110168  \n",
       "11               0.054597               0.135210  \n",
       "12               0.062704               0.153774  \n",
       "13               0.069949               0.168561  \n",
       "14               0.079454               0.187248  \n",
       "15               0.088481               0.204710  \n",
       "16               0.096070               0.219493  \n",
       "17               0.103591               0.233944  \n",
       "18               0.111218               0.248190  \n",
       "19               0.118147               0.256763  \n",
       "20               0.125649               0.270523  \n",
       "21               0.137566               0.286868  \n",
       "22               0.143946               0.296739  \n",
       "\n",
       "[20 rows x 28 columns]"
      ]
     },
     "execution_count": 10,
     "metadata": {},
     "output_type": "execute_result"
    }
   ],
   "source": [
    "# Removing of solvents that arent used in calculation\n",
    "df= df[(df.Solvent != 'n/a') & (df.Solvent != 'Methane')]\n",
    "df"
   ]
  },
  {
   "cell_type": "code",
   "execution_count": 11,
   "metadata": {
    "collapsed": false
   },
   "outputs": [],
   "source": [
    "# Renaming columns with funny character\n",
    "df.rename(columns ={'Peak Area [\\xb5V\\x95min]': 'peak_area', 'Peak Max (Signal) [\\xb5V]': 'peak_max_signal'},inplace=True)\n",
    "\n",
    "# Removing unwanted rows\n",
    "df = df[df.peak_area != 0]"
   ]
  },
  {
   "cell_type": "markdown",
   "metadata": {},
   "source": [
    "#  James-Martin pressure correction, j"
   ]
  },
  {
   "cell_type": "markdown",
   "metadata": {},
   "source": [
    "$$j=\\frac{3}{2}\\frac{(\\frac{p_{in}}{p_{out}})^{2}-1}{(\\frac{p_{in}}{p_{out}})^{3}-1}$$"
   ]
  },
  {
   "cell_type": "code",
   "execution_count": 12,
   "metadata": {
    "collapsed": false
   },
   "outputs": [],
   "source": [
    "# Atmospheric pressure in torr\n",
    "p_out = 760\n",
    "\n",
    "# input pressure is pressure drop + atomospheric pressure\n",
    "p_in = df['Column Pressure Drop [Torr]'] + p_out\n",
    "\n",
    "j = (1.5*(((p_in/p_out)**2 -1)/((p_in/p_out)**3 -1)))"
   ]
  },
  {
   "cell_type": "markdown",
   "metadata": {},
   "source": [
    "# Net Retention Volume, Vn ($\\frac{mL}{g}$)"
   ]
  },
  {
   "cell_type": "markdown",
   "metadata": {},
   "source": [
    "$$V_{N}=\\frac{j}{m}F(t_{r}-t_{0})(\\frac{T}{273.15})$$"
   ]
  },
  {
   "cell_type": "code",
   "execution_count": 13,
   "metadata": {
    "collapsed": false
   },
   "outputs": [
    {
     "name": "stdout",
     "output_type": "stream",
     "text": [
      "What is the sample mass in mg? \n",
      "7\n"
     ]
    }
   ],
   "source": [
    "# Creating input for sample mass and change its units\n",
    "m = float(raw_input('What is the sample mass in mg? \\n'))\n",
    "m = m / 1000 # mg to g\n",
    "\n",
    "vn = (j * df['Exit Flow Rate [sccm]'] * df['Net Ret Time (Max) [min]'] * df['Column Temperature [Kelvin]'] ) / (m * 273.15)"
   ]
  },
  {
   "cell_type": "markdown",
   "metadata": {},
   "source": [
    "# Partial pressure, p (Pa)"
   ]
  },
  {
   "cell_type": "markdown",
   "metadata": {},
   "source": [
    "$$p=\\frac{n_{i}RH_{peak}273.15}{FA_{peak}}$$"
   ]
  },
  {
   "cell_type": "code",
   "execution_count": 14,
   "metadata": {
    "collapsed": false
   },
   "outputs": [],
   "source": [
    "A_peak = df['peak_area']\n",
    "n_i = df['Amount  [mMol]']\n",
    "H_peak = df['peak_max_signal']\n",
    "F = df['Exit Flow Rate [sccm]']"
   ]
  },
  {
   "cell_type": "code",
   "execution_count": 15,
   "metadata": {
    "collapsed": false
   },
   "outputs": [],
   "source": [
    "# Converting units to SI\n",
    "\n",
    "vn_SI = vn * 0.001 # converts mg/L to m^3/kg\n",
    "A_peak = A_peak * 6E-5 #converts uV.min to V.sec\n",
    "n_i = n_i / 1000 # converts mMol to Mol\n",
    "H_peak = H_peak * 1E-6 # converts uV to V\n",
    "F = F * 1.6667E-8 #from sscm to m^3/s"
   ]
  },
  {
   "cell_type": "code",
   "execution_count": 16,
   "metadata": {
    "collapsed": false
   },
   "outputs": [],
   "source": [
    "# Gas constant\n",
    "R = constants.R"
   ]
  },
  {
   "cell_type": "code",
   "execution_count": 17,
   "metadata": {
    "collapsed": false
   },
   "outputs": [],
   "source": [
    "p = (n_i * R * 273.15 * H_peak) / (F * A_peak) # Pa"
   ]
  },
  {
   "cell_type": "markdown",
   "metadata": {},
   "source": [
    "#  Amount of probe adsorbed on sample surface, n, ($\\frac{mMol}{g}$)"
   ]
  },
  {
   "cell_type": "markdown",
   "metadata": {},
   "source": [
    "$$n=\\frac{1}{RT}\\intop_{0}^{p}V_{n}dp$$"
   ]
  },
  {
   "cell_type": "code",
   "execution_count": 18,
   "metadata": {
    "collapsed": false
   },
   "outputs": [],
   "source": [
    "# Reindexing series to start at zero\n",
    "p_reindex = p.reset_index(drop=True)\n",
    "vn_SI_reindex = vn_SI.reset_index(drop=True)"
   ]
  },
  {
   "cell_type": "code",
   "execution_count": 19,
   "metadata": {
    "collapsed": false
   },
   "outputs": [],
   "source": [
    "# T value used in n calc\n",
    "T_av = df['Column Temperature [Kelvin]'].mean()"
   ]
  },
  {
   "cell_type": "code",
   "execution_count": 20,
   "metadata": {
    "collapsed": false
   },
   "outputs": [],
   "source": [
    "# set n as empty array in shape of as other values \n",
    "n = np.empty_like(p_reindex)"
   ]
  },
  {
   "cell_type": "code",
   "execution_count": 21,
   "metadata": {
    "collapsed": false
   },
   "outputs": [],
   "source": [
    "# Cumulative integration  of vn with respect to partial pressure p\n",
    "n[0] = (p_reindex[0] * vn_SI_reindex[0]) / (R * T_av)\n",
    "for i in range(1, len(p_reindex)):\n",
    "    n[i] = (p_reindex[i] - p_reindex[i - 1]) * (vn_SI_reindex[i] / (R * T_av)) + n[i - 1]"
   ]
  },
  {
   "cell_type": "code",
   "execution_count": 22,
   "metadata": {
    "collapsed": false
   },
   "outputs": [],
   "source": [
    "# set n as series with same index as p_reindex and vn_SI_reindex\n",
    "n = Series(n)"
   ]
  },
  {
   "cell_type": "markdown",
   "metadata": {},
   "source": [
    "# Saturation vapour pressure calculation, $p_{sat}$ (Pa)"
   ]
  },
  {
   "cell_type": "markdown",
   "metadata": {},
   "source": [
    "$$\\log_{10}p_{sat}=A-\\frac{B}{C+T}$$\n",
    "$$p_{sat}=10^{(A-\\frac{B}{C+T})}$$"
   ]
  },
  {
   "cell_type": "code",
   "execution_count": 23,
   "metadata": {
    "collapsed": true
   },
   "outputs": [],
   "source": [
    "# Antoine coefficients for octane (probe used for surface area calculations from yaws handbook (knovel.com))"
   ]
  },
  {
   "cell_type": "code",
   "execution_count": 24,
   "metadata": {
    "collapsed": false
   },
   "outputs": [],
   "source": [
    "# Coefficents A,B,C are for T = 20C\n",
    "A = 7.14462\n",
    "B = 1498.96\n",
    "C = 225.874\n",
    "\n",
    "p_sat = 10 ** (A- (B /(20+C))) # mmHg T= 20C\n",
    "p_sat = p_sat * 133.322 # mmHg to Pa"
   ]
  },
  {
   "cell_type": "markdown",
   "metadata": {},
   "source": [
    "# Relative pressure, $p_{rel}$"
   ]
  },
  {
   "cell_type": "markdown",
   "metadata": {},
   "source": [
    "$$p_{rel}=\\frac{p}{p_{sat}}$$"
   ]
  },
  {
   "cell_type": "code",
   "execution_count": 25,
   "metadata": {
    "collapsed": false
   },
   "outputs": [],
   "source": [
    "p_rel = p_reindex / p_sat"
   ]
  },
  {
   "cell_type": "markdown",
   "metadata": {},
   "source": [
    "# Adsorption Isotherm Plot"
   ]
  },
  {
   "cell_type": "code",
   "execution_count": 26,
   "metadata": {
    "collapsed": false
   },
   "outputs": [
    {
     "data": {
      "text/plain": [
       "(0, 0.092176011827600698)"
      ]
     },
     "execution_count": 26,
     "metadata": {},
     "output_type": "execute_result"
    },
    {
     "data": {
      "image/png": "[encoded data removed]",
      "text/plain": [
       "<matplotlib.figure.Figure at 0x10b5a7410>"
      ]
     },
     "metadata": {},
     "output_type": "display_data"
    }
   ],
   "source": [
    "plt.scatter(p_rel, n)\n",
    "plt.title('Adsorption Isotherm')\n",
    "plt.xlabel('Relative Pressure (p/p_rel)')\n",
    "plt.ylabel('Amount Adsorbed (mMol/g)')\n",
    "x_max = max(p_rel) + (0.1 * max(p_rel))\n",
    "y_max = max(n) + (0.1 * max(n))\n",
    "plt.ylim(0,y_max)\n",
    "plt.xlim(0,x_max)"
   ]
  },
  {
   "cell_type": "markdown",
   "metadata": {},
   "source": [
    "#  BET  equation plot and calculation"
   ]
  },
  {
   "cell_type": "markdown",
   "metadata": {},
   "source": [
    "$$\\frac{p}{n(p-p_{sat})}=\\frac{C-1}{n_{m}C}\\frac{p}{p_{sat}}+\\frac{1}{n_{m}C}$$"
   ]
  },
  {
   "cell_type": "code",
   "execution_count": 27,
   "metadata": {
    "collapsed": false
   },
   "outputs": [],
   "source": [
    "# setting Y axis for BET plot\n",
    "y_BET = p_reindex / (n * (p_sat - p_reindex))"
   ]
  },
  {
   "cell_type": "code",
   "execution_count": 28,
   "metadata": {
    "collapsed": false
   },
   "outputs": [],
   "source": [
    "# set up BET dataframe\n",
    "BET_df = pd.concat([p_rel, y_BET], axis = 1)\n",
    "BET_df.columns = ['p_rel', 'y_BET']"
   ]
  },
  {
   "cell_type": "code",
   "execution_count": 29,
   "metadata": {
    "collapsed": false
   },
   "outputs": [],
   "source": [
    "# BET equation is only valid between p_rel values of 0.05 to 0.35\n",
    "BET_df = BET_df[(BET_df.p_rel >= 0.05) & (BET_df.p_rel <= 0.35)]"
   ]
  },
  {
   "cell_type": "code",
   "execution_count": 30,
   "metadata": {
    "collapsed": false
   },
   "outputs": [
    {
     "data": {
      "text/html": [
       "<div>\n",
       "<table border=\"1\" class=\"dataframe\">\n",
       "  <thead>\n",
       "    <tr style=\"text-align: right;\">\n",
       "      <th></th>\n",
       "      <th>p_rel</th>\n",
       "      <th>y_BET</th>\n",
       "    </tr>\n",
       "  </thead>\n",
       "  <tbody>\n",
       "    <tr>\n",
       "      <th>11</th>\n",
       "      <td>0.051582</td>\n",
       "      <td>0.525038</td>\n",
       "    </tr>\n",
       "    <tr>\n",
       "      <th>12</th>\n",
       "      <td>0.057278</td>\n",
       "      <td>0.546314</td>\n",
       "    </tr>\n",
       "    <tr>\n",
       "      <th>13</th>\n",
       "      <td>0.062783</td>\n",
       "      <td>0.565115</td>\n",
       "    </tr>\n",
       "    <tr>\n",
       "      <th>14</th>\n",
       "      <td>0.068421</td>\n",
       "      <td>0.583640</td>\n",
       "    </tr>\n",
       "    <tr>\n",
       "      <th>15</th>\n",
       "      <td>0.078564</td>\n",
       "      <td>0.616404</td>\n",
       "    </tr>\n",
       "    <tr>\n",
       "      <th>16</th>\n",
       "      <td>0.083796</td>\n",
       "      <td>0.632057</td>\n",
       "    </tr>\n",
       "  </tbody>\n",
       "</table>\n",
       "</div>"
      ],
      "text/plain": [
       "       p_rel     y_BET\n",
       "11  0.051582  0.525038\n",
       "12  0.057278  0.546314\n",
       "13  0.062783  0.565115\n",
       "14  0.068421  0.583640\n",
       "15  0.078564  0.616404\n",
       "16  0.083796  0.632057"
      ]
     },
     "execution_count": 30,
     "metadata": {},
     "output_type": "execute_result"
    }
   ],
   "source": [
    "BET_df"
   ]
  },
  {
   "cell_type": "code",
   "execution_count": 31,
   "metadata": {
    "collapsed": false
   },
   "outputs": [],
   "source": [
    "# Function does linear regression and if threshold r_sq values isnt reached it removes the first row of dataframe\n",
    "# First row is removed because generally BET data is better at higher p_rel\n",
    "def regress(df):\n",
    "    # Linear regression of BET plot within allowed p_rel range\n",
    "    slope, intercept, r_value, p_value, std_err = stats.linregress(df['p_rel'],df['y_BET'])\n",
    "    \n",
    "    r_sq = r_value ** 2\n",
    "    \n",
    "    if r_sq < 0.995:\n",
    "        \n",
    "        return regress(df.iloc[1:]) # re-runs function with first row removed, removes first row until threshold r_sq reached\n",
    "    else:\n",
    "        # Calculations used for finding error in intercept from 'https://en.wikipedia.org/wiki/Regression_analysis'\n",
    "        sse = ((df['y_BET'] - ((slope * df['p_rel']) + intercept)) ** 2).sum()\n",
    "        n = len(df['p_rel'])\n",
    "        var = np.sqrt((sse / (n - 2)))\n",
    "        x_mean = df['p_rel'].mean()\n",
    "        sx2 = ((df['p_rel'] - x_mean) **2).sum()\n",
    "        intercept_err = var * np.sqrt((1/n) + (x_mean ** 2) / sx2)\n",
    "        \n",
    "        return slope,intercept,r_value,p_value,std_err,r_sq, intercept_err"
   ]
  },
  {
   "cell_type": "code",
   "execution_count": 32,
   "metadata": {
    "collapsed": false
   },
   "outputs": [],
   "source": [
    "slope,intercept,r_value,p_value, std_err, r_sq,intercept_err = regress(BET_df)"
   ]
  },
  {
   "cell_type": "code",
   "execution_count": 33,
   "metadata": {
    "collapsed": false
   },
   "outputs": [
    {
     "data": {
      "text/plain": [
       "<matplotlib.text.Text at 0x108c5cb90>"
      ]
     },
     "execution_count": 33,
     "metadata": {},
     "output_type": "execute_result"
    },
    {
     "data": {
      "image/png": "[encoded data removed]",
      "text/plain": [
       "<matplotlib.figure.Figure at 0x10ad8f890>"
      ]
     },
     "metadata": {},
     "output_type": "display_data"
    }
   ],
   "source": [
    "# BET plot\n",
    "plt.scatter(p_rel,y_BET)\n",
    "plt.plot(p_rel, (p_rel * slope) + intercept, c='r')\n",
    "plt.title('BET plot')\n",
    "plt.xlabel('Relative Pressure (p/p_rel)')\n",
    "plt.ylabel('p / n[p_sat-p] (g/mMol)')\n"
   ]
  },
  {
   "cell_type": "markdown",
   "metadata": {},
   "source": [
    "$$n_{m}=\\frac{1}{slope+intercept}$$"
   ]
  },
  {
   "cell_type": "code",
   "execution_count": 34,
   "metadata": {
    "collapsed": false
   },
   "outputs": [],
   "source": [
    "# The monolayer capacity, n_m is found from slope and intercept of fitted line from BET plot\n",
    "\n",
    "n_m = 1 / (slope + intercept) # mMol/g\n",
    "err_slope_intercept = np.sqrt((std_err) ** 2 + (intercept_err) ** 2) # error in slope+intercept\n",
    "n_m_err = n_m * (err_slope_intercept / (slope + intercept)) # error in n_m\n",
    "n_m = n_m / 1000 # change units from mMol/g to Mol/g\n",
    "n_m_err = n_m_err / 1000 # change units from mMol/g to Mol/g"
   ]
  },
  {
   "cell_type": "markdown",
   "metadata": {},
   "source": [
    "#  Specific Surface Area, $\\frac{m^{2}}{g}$"
   ]
  },
  {
   "cell_type": "markdown",
   "metadata": {},
   "source": [
    "$$S_{BET}=n_{m}N_{a}a$$"
   ]
  },
  {
   "cell_type": "code",
   "execution_count": 35,
   "metadata": {
    "collapsed": false
   },
   "outputs": [],
   "source": [
    "a = 6.3E-19 # m^2 This is the cross-sectional surface area of a Octane molecule\n",
    "Na = constants.Avogadro"
   ]
  },
  {
   "cell_type": "code",
   "execution_count": 36,
   "metadata": {
    "collapsed": false
   },
   "outputs": [],
   "source": [
    "ssa = n_m * Na * a\n",
    "ssa_err = ssa * (n_m_err / n_m)"
   ]
  },
  {
   "cell_type": "code",
   "execution_count": 37,
   "metadata": {
    "collapsed": false
   },
   "outputs": [
    {
     "name": "stdout",
     "output_type": "stream",
     "text": [
      "The SSA is 103.58 with error 1.47\n"
     ]
    }
   ],
   "source": [
    "print 'The SSA is %.2f with error %.2f' % (ssa,ssa_err)"
   ]
  },
  {
   "cell_type": "code",
   "execution_count": null,
   "metadata": {
    "collapsed": true
   },
   "outputs": [],
   "source": []
  }
 ],
 "metadata": {
  "kernelspec": {
   "display_name": "Python 2",
   "language": "python",
   "name": "python2"
  },
  "language_info": {
   "codemirror_mode": {
    "name": "ipython",
    "version": 2
   },
   "file_extension": ".py",
   "mimetype": "text/x-python",
   "name": "python",
   "nbconvert_exporter": "python",
   "pygments_lexer": "ipython2",
   "version": "2.7.11"
  }
 },
 "nbformat": 4,
 "nbformat_minor": 0
}
